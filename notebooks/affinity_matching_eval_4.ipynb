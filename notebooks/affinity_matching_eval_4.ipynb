{
 "cells": [
  {
   "cell_type": "code",
   "execution_count": 1,
   "metadata": {},
   "outputs": [],
   "source": [
    "import wandb\n",
    "import sys\n",
    "import matplotlib.pyplot as plt\n",
    "import scprep\n",
    "import pandas as pd\n",
    "sys.path.append('../src/')\n",
    "from evaluate import get_results\n",
    "from omegaconf import OmegaConf\n",
    "import numpy as np\n",
    "import os\n",
    "import glob\n",
    "import demap\n",
    "from tqdm import tqdm\n",
    "from evaluation import compute_all_metrics, get_noiseless_name, get_ambient_name\n",
    "import torch\n",
    "from model import AEProb, Decoder\n",
    "\n",
    "class Model():\n",
    "    def __init__(self, encoder, decoder):\n",
    "        self.device = torch.device('cuda' if torch.cuda.is_available() else 'cpu')\n",
    "        self.encoder = encoder.to(self.device)\n",
    "        self.decoder = decoder.to(self.device)\n",
    "    def encode(self, x):\n",
    "        return self.encoder.encode(x)\n",
    "    def decode(self, x):\n",
    "        return self.decoder(x)\n",
    "    def eval(self):\n",
    "        self.encoder.eval()\n",
    "        self.decoder.eval()"
   ]
  },
  {
   "cell_type": "code",
   "execution_count": 2,
   "metadata": {},
   "outputs": [],
   "source": [
    "string = 'sepa_gaussian_jsd_a1.0_knn5_noisy_3_groups_17580_3000_1_0.25_0.5_all.npz'\n",
    "# noisy_1_groups_17580_3000_1_0.18_0.5_all"
   ]
  },
  {
   "cell_type": "code",
   "execution_count": 3,
   "metadata": {},
   "outputs": [
    {
     "name": "stdout",
     "output_type": "stream",
     "text": [
      "prob_method: gaussian_jsd\n",
      "alpha: 1.0\n",
      "knn: 5\n",
      "noisy_path: noisy_3_groups_17580_3000_1_0.25_0.5_all.npz\n"
     ]
    }
   ],
   "source": [
    "import re\n",
    "\n",
    "# Regex pattern to extract the values\n",
    "# pattern = r\"sepa_(?P<prob_method>\\w+)_a(?P<alpha>[\\d.]+)_knn(?P<knn>\\d+)_(?P<noisy_path>.+)\"\n",
    "pattern = r\"sepa_(?P<prob_method>\\w+)_a(?P<alpha>[\\d.]+)_knn(?P<knn>\\d+)_(?P<noisy_path>.+)\"\n",
    "\n",
    "# Perform regex search\n",
    "match = re.search(pattern, string)\n",
    "\n",
    "if match:\n",
    "    # Extracting the values\n",
    "    prob_method = match.group(\"prob_method\")\n",
    "    alpha = match.group(\"alpha\")\n",
    "    knn = match.group(\"knn\")\n",
    "    noisy_path = match.group(\"noisy_path\")\n",
    "    \n",
    "    print(f\"prob_method: {prob_method}\")\n",
    "    print(f\"alpha: {alpha}\")\n",
    "    print(f\"knn: {knn}\")\n",
    "    print(f\"noisy_path: {noisy_path}\")\n",
    "else:\n",
    "    print(\"No match found. Please check the string format.\")\n"
   ]
  },
  {
   "cell_type": "code",
   "execution_count": 4,
   "metadata": {},
   "outputs": [],
   "source": [
    "root_path = '/gpfs/gibbs/pi/krishnaswamy_smita/dl2282/dmae/results'\n",
    "data_path1 = string\n",
    "enc_path = os.path.join(root_path, data_path1, 'model.ckpt')\n",
    "dec_path = os.path.join(root_path, data_path1, 'decoder.ckpt')"
   ]
  },
  {
   "cell_type": "code",
   "execution_count": 5,
   "metadata": {},
   "outputs": [],
   "source": [
    "encoder_dict = torch.load(enc_path)\n",
    "decoder_dict = torch.load(dec_path)"
   ]
  },
  {
   "cell_type": "code",
   "execution_count": 6,
   "metadata": {},
   "outputs": [],
   "source": [
    "data_name = noisy_path[:-4]"
   ]
  },
  {
   "cell_type": "code",
   "execution_count": 7,
   "metadata": {},
   "outputs": [],
   "source": [
    "probmtd = prob_method"
   ]
  },
  {
   "cell_type": "code",
   "execution_count": 8,
   "metadata": {},
   "outputs": [],
   "source": [
    "data_root = '../synthetic_data3/'\n",
    "data_path = os.path.join(data_root, data_name + '.npz')\n",
    "noiseless_path = os.path.join(data_root, get_noiseless_name(data_name) + '.npz')\n",
    "ambient_path = os.path.join(data_root, get_ambient_name(data_name) + '.npy')"
   ]
  },
  {
   "cell_type": "code",
   "execution_count": 9,
   "metadata": {},
   "outputs": [
    {
     "data": {
      "text/plain": [
       "'noisy_3_groups_17580_3000_1_0.25_0.5_all'"
      ]
     },
     "execution_count": 9,
     "metadata": {},
     "output_type": "execute_result"
    }
   ],
   "source": [
    "data_name"
   ]
  },
  {
   "cell_type": "code",
   "execution_count": 10,
   "metadata": {},
   "outputs": [
    {
     "data": {
      "text/plain": [
       "<All keys matched successfully>"
      ]
     },
     "execution_count": 10,
     "metadata": {},
     "output_type": "execute_result"
    }
   ],
   "source": [
    "encoder = AEProb(dim=100, emb_dim=2, layer_widths=[256, 128, 64], activation_fn=torch.nn.ReLU(), prob_method=probmtd, dist_reconstr_weights=[1.0,0.0,0.], )\n",
    "encoder.load_state_dict(encoder_dict)\n",
    "decoder = Decoder(dim=100, emb_dim=2, layer_widths=[256, 128, 64][::-1], activation_fn=torch.nn.ReLU())\n",
    "decoder.load_state_dict(decoder_dict)"
   ]
  },
  {
   "cell_type": "code",
   "execution_count": 11,
   "metadata": {},
   "outputs": [],
   "source": [
    "model = Model(encoder, decoder)"
   ]
  },
  {
   "cell_type": "code",
   "execution_count": 12,
   "metadata": {},
   "outputs": [],
   "source": [
    "res_dict = compute_all_metrics(model, data_path, noiseless_path, ambient_path)"
   ]
  },
  {
   "cell_type": "code",
   "execution_count": 13,
   "metadata": {},
   "outputs": [
    {
     "data": {
      "text/plain": [
       "{'seed': 'groups',\n",
       " 'method': '3',\n",
       " 'bcv': '0.25',\n",
       " 'dropout': '0.5',\n",
       " 'demap': 0.8075374435383558,\n",
       " 'accuracy': 0.05195010848583048,\n",
       " 'recon score': 0.6449547852158134}"
      ]
     },
     "execution_count": 13,
     "metadata": {},
     "output_type": "execute_result"
    }
   ],
   "source": [
    "res_dict"
   ]
  }
 ],
 "metadata": {
  "kernelspec": {
   "display_name": "geosink",
   "language": "python",
   "name": "python3"
  },
  "language_info": {
   "codemirror_mode": {
    "name": "ipython",
    "version": 3
   },
   "file_extension": ".py",
   "mimetype": "text/x-python",
   "name": "python",
   "nbconvert_exporter": "python",
   "pygments_lexer": "ipython3",
   "version": "3.11.5"
  },
  "orig_nbformat": 4
 },
 "nbformat": 4,
 "nbformat_minor": 2
}
