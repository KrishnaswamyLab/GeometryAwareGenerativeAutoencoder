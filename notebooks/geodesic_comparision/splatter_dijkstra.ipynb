{
 "cells": [
  {
   "cell_type": "code",
   "execution_count": 14,
   "metadata": {},
   "outputs": [],
   "source": [
    "import numpy as np\n",
    "import graphtools\n",
    "import pathlib\n",
    "from tqdm import tqdm\n",
    "import pickle\n",
    "import pandas as pd\n",
    "from scipy.stats import spearmanr"
   ]
  },
  {
   "cell_type": "code",
   "execution_count": 2,
   "metadata": {},
   "outputs": [],
   "source": [
    "root_path = \"../../synthetic_data4/\"\n",
    "data_names = [\"noisy_1_groups_17580_3000_1_0.18_0.5_all\",\"noisy_1_groups_17580_3000_1_0.25_0.5_all\",\"noisy_1_groups_17580_3000_1_0.5_0.5_all\",\"noisy_1_groups_17580_3000_1_0_0.5_all\",\"noisy_1_paths_17580_3000_1_0.18_0.5_all\",\"noisy_1_paths_17580_3000_1_0.25_0.5_all\",\"noisy_1_paths_17580_3000_1_0.5_0.5_all\",\"noisy_1_paths_17580_3000_1_0_0.5_all\",\"noisy_2_groups_17580_3000_1_0.18_0.5_all\",\"noisy_2_groups_17580_3000_1_0.25_0.5_all\",\"noisy_2_groups_17580_3000_1_0.5_0.5_all\",\"noisy_2_groups_17580_3000_1_0_0.5_all\",\"noisy_2_paths_17580_3000_1_0.18_0.5_all\",\"noisy_2_paths_17580_3000_1_0.25_0.5_all\",\"noisy_2_paths_17580_3000_1_0.5_0.5_all\",\"noisy_2_paths_17580_3000_1_0_0.5_all\",\"noisy_3_groups_17580_3000_1_0.18_0.5_all\",\"noisy_3_groups_17580_3000_1_0.25_0.5_all\",\"noisy_3_groups_17580_3000_1_0.5_0.5_all\",\"noisy_3_groups_17580_3000_1_0_0.5_all\",\"noisy_3_paths_17580_3000_1_0.18_0.5_all\",\"noisy_3_paths_17580_3000_1_0.25_0.5_all\",\"noisy_3_paths_17580_3000_1_0.5_0.5_all\",\"noisy_3_paths_17580_3000_1_0_0.5_all\",\"noisy_4_groups_17580_3000_1_0.18_0.5_all\",\"noisy_4_groups_17580_3000_1_0.25_0.5_all\",\"noisy_4_groups_17580_3000_1_0.5_0.5_all\",\"noisy_4_groups_17580_3000_1_0_0.5_all\",\"noisy_4_paths_17580_3000_1_0.18_0.5_all\",\"noisy_4_paths_17580_3000_1_0.25_0.5_all\",\"noisy_4_paths_17580_3000_1_0.5_0.5_all\",\"noisy_4_paths_17580_3000_1_0_0.5_all\",\"noisy_5_groups_17580_3000_1_0.18_0.5_all\",\"noisy_5_groups_17580_3000_1_0.25_0.5_all\",\"noisy_5_groups_17580_3000_1_0.5_0.5_all\",\"noisy_5_groups_17580_3000_1_0_0.5_all\",\"noisy_5_paths_17580_3000_1_0.18_0.5_all\",\"noisy_5_paths_17580_3000_1_0.25_0.5_all\",\"noisy_5_paths_17580_3000_1_0.5_0.5_all\",\"noisy_5_paths_17580_3000_1_0_0.5_all\"]"
   ]
  },
  {
   "cell_type": "code",
   "execution_count": 8,
   "metadata": {},
   "outputs": [
    {
     "name": "stderr",
     "output_type": "stream",
     "text": [
      "100%|██████████| 40/40 [02:48<00:00,  4.22s/it]\n"
     ]
    }
   ],
   "source": [
    "results = {}\n",
    "mses = {}\n",
    "corrs = {}\n",
    "# spearmans = {}\n",
    "for name in tqdm(data_names):\n",
    "    data = np.load(f\"{root_path}/{name}.npz\")\n",
    "    G = graphtools.Graph(data['data'], knn=5, decay=None)\n",
    "    D = G.shortest_path(distance='data')\n",
    "    splited_name = name.split(\"_\")\n",
    "    data_name_noiseless = f\"true_{splited_name[1]}_{splited_name[2]}_{splited_name[3]}_{splited_name[4]}_{splited_name[5]}_all\"\n",
    "    data_gt = np.load(f\"../../synthetic_data4/gt/{data_name_noiseless}.npz\", allow_pickle=True)\n",
    "    pairs = data_gt['pairs']\n",
    "    ds = [D[p[0], p[1]] for p in pairs]\n",
    "    results[name] = ds\n",
    "    mses[name] = ((np.array(ds) - np.array(data_gt['ds']))**2).mean()\n",
    "    corrs[name] = np.corrcoef(ds, data_gt['ds'])[0,1]\n",
    "    # spearmans[name] = spearmanr(ds, data_gt['ds']).correlation"
   ]
  },
  {
   "cell_type": "code",
   "execution_count": null,
   "metadata": {},
   "outputs": [],
   "source": [
    "# results = {}\n",
    "# mses = {}\n",
    "# corrs = {}\n",
    "spearmans = {}\n",
    "for name in tqdm(data_names):\n",
    "    # data = np.load(f\"{root_path}/{name}.npz\")\n",
    "    # G = graphtools.Graph(data['data'], knn=5, decay=None)\n",
    "    # D = G.shortest_path(distance='data')\n",
    "    splited_name = name.split(\"_\")\n",
    "    data_name_noiseless = f\"true_{splited_name[1]}_{splited_name[2]}_{splited_name[3]}_{splited_name[4]}_{splited_name[5]}_all\"\n",
    "    data_gt = np.load(f\"../../synthetic_data4/gt/{data_name_noiseless}.npz\", allow_pickle=True)\n",
    "    # pairs = data_gt['pairs']\n",
    "    # ds = [D[p[0], p[1]] for p in pairs]\n",
    "    # results[name] = ds\n",
    "    # mses[name] = ((np.array(ds) - np.array(data_gt['ds']))**2).mean()\n",
    "    # corrs[name] = np.corrcoef(ds, data_gt['ds'])[0,1]\n",
    "    ds = results[name]\n",
    "    spearmans[name] = spearmanr(ds, data_gt['ds']).correlation"
   ]
  },
  {
   "cell_type": "code",
   "execution_count": 10,
   "metadata": {},
   "outputs": [],
   "source": [
    "with open(\"results_dijkstra.pkl\", \"wb\") as f:\n",
    "    pickle.dump(results, f)"
   ]
  },
  {
   "cell_type": "code",
   "execution_count": 17,
   "metadata": {},
   "outputs": [],
   "source": [
    "mses_series = pd.Series(mses)\n",
    "corrs_series = pd.Series(corrs)\n",
    "spearmans_series = pd.Series(spearmans)"
   ]
  },
  {
   "cell_type": "code",
   "execution_count": 19,
   "metadata": {},
   "outputs": [
    {
     "data": {
      "text/plain": [
       "noisy_1_groups_17580_3000_1_0.18_0.5_all    0.864662\n",
       "noisy_1_groups_17580_3000_1_0.25_0.5_all    0.646617\n",
       "noisy_1_groups_17580_3000_1_0.5_0.5_all     0.195489\n",
       "noisy_1_groups_17580_3000_1_0_0.5_all       0.867669\n",
       "noisy_1_paths_17580_3000_1_0.18_0.5_all     0.751880\n",
       "noisy_1_paths_17580_3000_1_0.25_0.5_all     0.664662\n",
       "noisy_1_paths_17580_3000_1_0.5_0.5_all      0.430075\n",
       "noisy_1_paths_17580_3000_1_0_0.5_all        0.914286\n",
       "noisy_2_groups_17580_3000_1_0.18_0.5_all    0.212030\n",
       "noisy_2_groups_17580_3000_1_0.25_0.5_all    0.536842\n",
       "noisy_2_groups_17580_3000_1_0.5_0.5_all     0.139850\n",
       "noisy_2_groups_17580_3000_1_0_0.5_all       0.658647\n",
       "noisy_2_paths_17580_3000_1_0.18_0.5_all     0.610526\n",
       "noisy_2_paths_17580_3000_1_0.25_0.5_all     0.603008\n",
       "noisy_2_paths_17580_3000_1_0.5_0.5_all      0.418045\n",
       "noisy_2_paths_17580_3000_1_0_0.5_all        0.830075\n",
       "noisy_3_groups_17580_3000_1_0.18_0.5_all    0.637594\n",
       "noisy_3_groups_17580_3000_1_0.25_0.5_all    0.517293\n",
       "noisy_3_groups_17580_3000_1_0.5_0.5_all     0.375940\n",
       "noisy_3_groups_17580_3000_1_0_0.5_all       0.630075\n",
       "noisy_3_paths_17580_3000_1_0.18_0.5_all     0.751880\n",
       "noisy_3_paths_17580_3000_1_0.25_0.5_all     0.717293\n",
       "noisy_3_paths_17580_3000_1_0.5_0.5_all      0.469173\n",
       "noisy_3_paths_17580_3000_1_0_0.5_all        0.923308\n",
       "noisy_4_groups_17580_3000_1_0.18_0.5_all    0.291729\n",
       "noisy_4_groups_17580_3000_1_0.25_0.5_all    0.151880\n",
       "noisy_4_groups_17580_3000_1_0.5_0.5_all     0.114286\n",
       "noisy_4_groups_17580_3000_1_0_0.5_all       0.189474\n",
       "noisy_4_paths_17580_3000_1_0.18_0.5_all     0.536842\n",
       "noisy_4_paths_17580_3000_1_0.25_0.5_all     0.568421\n",
       "noisy_4_paths_17580_3000_1_0.5_0.5_all      0.487218\n",
       "noisy_4_paths_17580_3000_1_0_0.5_all        0.891729\n",
       "noisy_5_groups_17580_3000_1_0.18_0.5_all    0.499248\n",
       "noisy_5_groups_17580_3000_1_0.25_0.5_all   -0.070677\n",
       "noisy_5_groups_17580_3000_1_0.5_0.5_all     0.231579\n",
       "noisy_5_groups_17580_3000_1_0_0.5_all       0.496241\n",
       "noisy_5_paths_17580_3000_1_0.18_0.5_all     0.254135\n",
       "noisy_5_paths_17580_3000_1_0.25_0.5_all     0.103759\n",
       "noisy_5_paths_17580_3000_1_0.5_0.5_all      0.058647\n",
       "noisy_5_paths_17580_3000_1_0_0.5_all        0.717293\n",
       "dtype: float64"
      ]
     },
     "execution_count": 19,
     "metadata": {},
     "output_type": "execute_result"
    }
   ],
   "source": [
    "spearmans_series"
   ]
  },
  {
   "cell_type": "code",
   "execution_count": 20,
   "metadata": {},
   "outputs": [],
   "source": [
    "spearmans_series.to_csv(\"spearmans_dijkstra.csv\")"
   ]
  },
  {
   "cell_type": "code",
   "execution_count": null,
   "metadata": {},
   "outputs": [],
   "source": []
  }
 ],
 "metadata": {
  "kernelspec": {
   "display_name": "geosink",
   "language": "python",
   "name": "python3"
  },
  "language_info": {
   "codemirror_mode": {
    "name": "ipython",
    "version": 3
   },
   "file_extension": ".py",
   "mimetype": "text/x-python",
   "name": "python",
   "nbconvert_exporter": "python",
   "pygments_lexer": "ipython3",
   "version": "3.11.5"
  },
  "orig_nbformat": 4
 },
 "nbformat": 4,
 "nbformat_minor": 2
}
