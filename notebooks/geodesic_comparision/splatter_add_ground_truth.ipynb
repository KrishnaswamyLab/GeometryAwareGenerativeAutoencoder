{
 "cells": [
  {
   "cell_type": "code",
   "execution_count": 38,
   "metadata": {},
   "outputs": [],
   "source": [
    "import numpy as np\n",
    "import graphtools\n",
    "import pathlib\n",
    "from tqdm import tqdm\n",
    "\n",
    "def sample_non_inf_pairs(distance_matrix, num_pairs=20, seed=None):\n",
    "    if seed is not None:\n",
    "        np.random.seed(seed)\n",
    "    \n",
    "    # Identify non-infinity entries in the distance matrix\n",
    "    non_inf_indices = np.argwhere(np.isfinite(distance_matrix))\n",
    "    \n",
    "    # Convert to list of tuples\n",
    "    non_inf_pairs = [tuple(pair) for pair in non_inf_indices if pair[0] != pair[1]]  # Exclude diagonal elements\n",
    "    \n",
    "    # Check if there are enough pairs to sample from\n",
    "    if len(non_inf_pairs) < num_pairs:\n",
    "        raise ValueError(\"Not enough non-infinity pairs to sample from.\")\n",
    "    \n",
    "    # Randomly sample 20 pairs using numpy\n",
    "    sampled_pairs_indices = np.random.choice(len(non_inf_pairs), size=num_pairs, replace=False)\n",
    "    sampled_pairs = [non_inf_pairs[i] for i in sampled_pairs_indices]\n",
    "    \n",
    "    return sampled_pairs\n"
   ]
  },
  {
   "cell_type": "code",
   "execution_count": 39,
   "metadata": {},
   "outputs": [],
   "source": [
    "root_path = \"../../synthetic_data4/\"\n",
    "data_names = [\"true_1_groups_17580_3000_1_all\",\"true_1_paths_17580_3000_1_all\",\"true_2_groups_17580_3000_1_all\",\"true_2_paths_17580_3000_1_all\",\"true_3_groups_17580_3000_1_all\",\"true_3_paths_17580_3000_1_all\",\"true_4_groups_17580_3000_1_all\",\"true_4_paths_17580_3000_1_all\",\"true_5_groups_17580_3000_1_all\",\"true_5_paths_17580_3000_1_all\"]\n",
    "save_path =  \"../../synthetic_data4/gt/\"\n",
    "pathlib.Path(save_path).mkdir(parents=True, exist_ok=True)"
   ]
  },
  {
   "cell_type": "code",
   "execution_count": 40,
   "metadata": {},
   "outputs": [
    {
     "name": "stderr",
     "output_type": "stream",
     "text": [
      "100%|██████████| 10/10 [01:33<00:00,  9.32s/it]\n"
     ]
    }
   ],
   "source": [
    "for name in tqdm(data_names):\n",
    "    data = np.load(f\"{root_path}/{name}.npz\")\n",
    "    G = graphtools.Graph(data['data'], knn=5, decay=None)\n",
    "    D = G.shortest_path(distance='data')\n",
    "    pairs = sample_non_inf_pairs(D, seed=432)\n",
    "    ds = [D[p[0], p[1]] for p in pairs]\n",
    "    np.savez(f\"{save_path}/{name}.npz\", pairs=pairs, ds=ds)"
   ]
  },
  {
   "cell_type": "code",
   "execution_count": null,
   "metadata": {},
   "outputs": [],
   "source": []
  },
  {
   "cell_type": "code",
   "execution_count": null,
   "metadata": {},
   "outputs": [],
   "source": []
  }
 ],
 "metadata": {
  "kernelspec": {
   "display_name": "geosink",
   "language": "python",
   "name": "python3"
  },
  "language_info": {
   "codemirror_mode": {
    "name": "ipython",
    "version": 3
   },
   "file_extension": ".py",
   "mimetype": "text/x-python",
   "name": "python",
   "nbconvert_exporter": "python",
   "pygments_lexer": "ipython3",
   "version": "3.11.5"
  },
  "orig_nbformat": 4
 },
 "nbformat": 4,
 "nbformat_minor": 2
}
