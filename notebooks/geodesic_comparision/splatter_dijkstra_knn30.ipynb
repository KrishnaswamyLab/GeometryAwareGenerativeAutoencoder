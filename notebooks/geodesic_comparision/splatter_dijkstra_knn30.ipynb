{
 "cells": [
  {
   "cell_type": "code",
   "execution_count": 1,
   "metadata": {},
   "outputs": [],
   "source": [
    "import numpy as np\n",
    "import graphtools\n",
    "import pathlib\n",
    "from tqdm import tqdm\n",
    "import pickle\n",
    "import pandas as pd\n",
    "from scipy.stats import spearmanr"
   ]
  },
  {
   "cell_type": "code",
   "execution_count": 2,
   "metadata": {},
   "outputs": [],
   "source": [
    "root_path = \"../../synthetic_data4/\"\n",
    "data_names = [\"noisy_1_groups_17580_3000_1_0.18_0.5_all\",\"noisy_1_groups_17580_3000_1_0.25_0.5_all\",\"noisy_1_groups_17580_3000_1_0.5_0.5_all\",\"noisy_1_groups_17580_3000_1_0_0.5_all\",\"noisy_1_paths_17580_3000_1_0.18_0.5_all\",\"noisy_1_paths_17580_3000_1_0.25_0.5_all\",\"noisy_1_paths_17580_3000_1_0.5_0.5_all\",\"noisy_1_paths_17580_3000_1_0_0.5_all\",\"noisy_2_groups_17580_3000_1_0.18_0.5_all\",\"noisy_2_groups_17580_3000_1_0.25_0.5_all\",\"noisy_2_groups_17580_3000_1_0.5_0.5_all\",\"noisy_2_groups_17580_3000_1_0_0.5_all\",\"noisy_2_paths_17580_3000_1_0.18_0.5_all\",\"noisy_2_paths_17580_3000_1_0.25_0.5_all\",\"noisy_2_paths_17580_3000_1_0.5_0.5_all\",\"noisy_2_paths_17580_3000_1_0_0.5_all\",\"noisy_3_groups_17580_3000_1_0.18_0.5_all\",\"noisy_3_groups_17580_3000_1_0.25_0.5_all\",\"noisy_3_groups_17580_3000_1_0.5_0.5_all\",\"noisy_3_groups_17580_3000_1_0_0.5_all\",\"noisy_3_paths_17580_3000_1_0.18_0.5_all\",\"noisy_3_paths_17580_3000_1_0.25_0.5_all\",\"noisy_3_paths_17580_3000_1_0.5_0.5_all\",\"noisy_3_paths_17580_3000_1_0_0.5_all\",\"noisy_4_groups_17580_3000_1_0.18_0.5_all\",\"noisy_4_groups_17580_3000_1_0.25_0.5_all\",\"noisy_4_groups_17580_3000_1_0.5_0.5_all\",\"noisy_4_groups_17580_3000_1_0_0.5_all\",\"noisy_4_paths_17580_3000_1_0.18_0.5_all\",\"noisy_4_paths_17580_3000_1_0.25_0.5_all\",\"noisy_4_paths_17580_3000_1_0.5_0.5_all\",\"noisy_4_paths_17580_3000_1_0_0.5_all\",\"noisy_5_groups_17580_3000_1_0.18_0.5_all\",\"noisy_5_groups_17580_3000_1_0.25_0.5_all\",\"noisy_5_groups_17580_3000_1_0.5_0.5_all\",\"noisy_5_groups_17580_3000_1_0_0.5_all\",\"noisy_5_paths_17580_3000_1_0.18_0.5_all\",\"noisy_5_paths_17580_3000_1_0.25_0.5_all\",\"noisy_5_paths_17580_3000_1_0.5_0.5_all\",\"noisy_5_paths_17580_3000_1_0_0.5_all\"]"
   ]
  },
  {
   "cell_type": "code",
   "execution_count": 3,
   "metadata": {},
   "outputs": [
    {
     "name": "stderr",
     "output_type": "stream",
     "text": [
      "  0%|          | 0/40 [00:00<?, ?it/s]"
     ]
    },
    {
     "name": "stderr",
     "output_type": "stream",
     "text": [
      "100%|██████████| 40/40 [04:08<00:00,  6.22s/it]\n"
     ]
    }
   ],
   "source": [
    "results = {}\n",
    "mses = {}\n",
    "corrs = {}\n",
    "spearmans = {}\n",
    "for name in tqdm(data_names):\n",
    "    data = np.load(f\"{root_path}/{name}.npz\")\n",
    "    G = graphtools.Graph(data['data'], knn=30, decay=None)\n",
    "    D = G.shortest_path(distance='data')\n",
    "    splited_name = name.split(\"_\")\n",
    "    data_name_noiseless = f\"true_{splited_name[1]}_{splited_name[2]}_{splited_name[3]}_{splited_name[4]}_{splited_name[5]}_all\"\n",
    "    data_gt = np.load(f\"../../synthetic_data4/gt/{data_name_noiseless}.npz\", allow_pickle=True)\n",
    "    pairs = data_gt['pairs']\n",
    "    ds = [D[p[0], p[1]] for p in pairs]\n",
    "    results[name] = ds\n",
    "    mses[name] = ((np.array(ds) - np.array(data_gt['ds']))**2).mean()\n",
    "    corrs[name] = np.corrcoef(ds, data_gt['ds'])[0,1]\n",
    "    spearmans[name] = spearmanr(ds, data_gt['ds']).correlation"
   ]
  },
  {
   "cell_type": "code",
   "execution_count": 4,
   "metadata": {},
   "outputs": [],
   "source": [
    "with open(\"results_dijkstra_knn30.pkl\", \"wb\") as f:\n",
    "    pickle.dump(results, f)"
   ]
  },
  {
   "cell_type": "code",
   "execution_count": 5,
   "metadata": {},
   "outputs": [],
   "source": [
    "mses_series = pd.Series(mses)\n",
    "corrs_series = pd.Series(corrs)\n",
    "spearmans_series = pd.Series(spearmans)"
   ]
  },
  {
   "cell_type": "code",
   "execution_count": 6,
   "metadata": {},
   "outputs": [
    {
     "data": {
      "text/plain": [
       "noisy_1_groups_17580_3000_1_0.18_0.5_all    0.936842\n",
       "noisy_1_groups_17580_3000_1_0.25_0.5_all    0.690226\n",
       "noisy_1_groups_17580_3000_1_0.5_0.5_all     0.627068\n",
       "noisy_1_groups_17580_3000_1_0_0.5_all       0.930827\n",
       "noisy_1_paths_17580_3000_1_0.18_0.5_all     0.760902\n",
       "noisy_1_paths_17580_3000_1_0.25_0.5_all     0.481203\n",
       "noisy_1_paths_17580_3000_1_0.5_0.5_all      0.499248\n",
       "noisy_1_paths_17580_3000_1_0_0.5_all        0.736842\n",
       "noisy_2_groups_17580_3000_1_0.18_0.5_all    0.365414\n",
       "noisy_2_groups_17580_3000_1_0.25_0.5_all    0.168421\n",
       "noisy_2_groups_17580_3000_1_0.5_0.5_all     0.233083\n",
       "noisy_2_groups_17580_3000_1_0_0.5_all       0.777444\n",
       "noisy_2_paths_17580_3000_1_0.18_0.5_all     0.658647\n",
       "noisy_2_paths_17580_3000_1_0.25_0.5_all     0.383459\n",
       "noisy_2_paths_17580_3000_1_0.5_0.5_all      0.509774\n",
       "noisy_2_paths_17580_3000_1_0_0.5_all        0.807519\n",
       "noisy_3_groups_17580_3000_1_0.18_0.5_all    0.517293\n",
       "noisy_3_groups_17580_3000_1_0.25_0.5_all    0.550376\n",
       "noisy_3_groups_17580_3000_1_0.5_0.5_all     0.306767\n",
       "noisy_3_groups_17580_3000_1_0_0.5_all       0.765414\n",
       "noisy_3_paths_17580_3000_1_0.18_0.5_all     0.660150\n",
       "noisy_3_paths_17580_3000_1_0.25_0.5_all     0.766917\n",
       "noisy_3_paths_17580_3000_1_0.5_0.5_all      0.526316\n",
       "noisy_3_paths_17580_3000_1_0_0.5_all        0.888722\n",
       "noisy_4_groups_17580_3000_1_0.18_0.5_all    0.360902\n",
       "noisy_4_groups_17580_3000_1_0.25_0.5_all    0.178947\n",
       "noisy_4_groups_17580_3000_1_0.5_0.5_all     0.183459\n",
       "noisy_4_groups_17580_3000_1_0_0.5_all       0.303759\n",
       "noisy_4_paths_17580_3000_1_0.18_0.5_all     0.488722\n",
       "noisy_4_paths_17580_3000_1_0.25_0.5_all     0.619549\n",
       "noisy_4_paths_17580_3000_1_0.5_0.5_all      0.760902\n",
       "noisy_4_paths_17580_3000_1_0_0.5_all        0.884211\n",
       "noisy_5_groups_17580_3000_1_0.18_0.5_all    0.550376\n",
       "noisy_5_groups_17580_3000_1_0.25_0.5_all    0.634586\n",
       "noisy_5_groups_17580_3000_1_0.5_0.5_all     0.290226\n",
       "noisy_5_groups_17580_3000_1_0_0.5_all       0.642105\n",
       "noisy_5_paths_17580_3000_1_0.18_0.5_all     0.327820\n",
       "noisy_5_paths_17580_3000_1_0.25_0.5_all    -0.225564\n",
       "noisy_5_paths_17580_3000_1_0.5_0.5_all      0.085714\n",
       "noisy_5_paths_17580_3000_1_0_0.5_all        0.601504\n",
       "dtype: float64"
      ]
     },
     "execution_count": 6,
     "metadata": {},
     "output_type": "execute_result"
    }
   ],
   "source": [
    "spearmans_series"
   ]
  },
  {
   "cell_type": "code",
   "execution_count": 7,
   "metadata": {},
   "outputs": [],
   "source": [
    "spearmans_series.to_csv(\"spearmans_dijkstra_knn30.csv\")"
   ]
  },
  {
   "cell_type": "code",
   "execution_count": null,
   "metadata": {},
   "outputs": [],
   "source": []
  }
 ],
 "metadata": {
  "kernelspec": {
   "display_name": "geosink",
   "language": "python",
   "name": "python3"
  },
  "language_info": {
   "codemirror_mode": {
    "name": "ipython",
    "version": 3
   },
   "file_extension": ".py",
   "mimetype": "text/x-python",
   "name": "python",
   "nbconvert_exporter": "python",
   "pygments_lexer": "ipython3",
   "version": "3.11.5"
  },
  "orig_nbformat": 4
 },
 "nbformat": 4,
 "nbformat_minor": 2
}
