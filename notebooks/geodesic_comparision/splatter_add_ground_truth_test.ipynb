{
 "cells": [
  {
   "cell_type": "code",
   "execution_count": 1,
   "metadata": {},
   "outputs": [],
   "source": [
    "import numpy as np\n",
    "import graphtools"
   ]
  },
  {
   "cell_type": "code",
   "execution_count": 2,
   "metadata": {},
   "outputs": [],
   "source": [
    "root_path = \"../../synthetic_data4/\"\n",
    "data_names = [\"noisy_1_groups_17580_3000_1_0.18_0.5_all\",\"noisy_1_groups_17580_3000_1_0.25_0.5_all\",\"noisy_1_groups_17580_3000_1_0.5_0.5_all\",\"noisy_1_groups_17580_3000_1_0_0.5_all\",\"noisy_1_paths_17580_3000_1_0.18_0.5_all\",\"noisy_1_paths_17580_3000_1_0.25_0.5_all\",\"noisy_1_paths_17580_3000_1_0.5_0.5_all\",\"noisy_1_paths_17580_3000_1_0_0.5_all\",\"noisy_2_groups_17580_3000_1_0.18_0.5_all\",\"noisy_2_groups_17580_3000_1_0.25_0.5_all\",\"noisy_2_groups_17580_3000_1_0.5_0.5_all\",\"noisy_2_groups_17580_3000_1_0_0.5_all\",\"noisy_2_paths_17580_3000_1_0.18_0.5_all\",\"noisy_2_paths_17580_3000_1_0.25_0.5_all\",\"noisy_2_paths_17580_3000_1_0.5_0.5_all\",\"noisy_2_paths_17580_3000_1_0_0.5_all\",\"noisy_3_groups_17580_3000_1_0.18_0.5_all\",\"noisy_3_groups_17580_3000_1_0.25_0.5_all\",\"noisy_3_groups_17580_3000_1_0.5_0.5_all\",\"noisy_3_groups_17580_3000_1_0_0.5_all\",\"noisy_3_paths_17580_3000_1_0.18_0.5_all\",\"noisy_3_paths_17580_3000_1_0.25_0.5_all\",\"noisy_3_paths_17580_3000_1_0.5_0.5_all\",\"noisy_3_paths_17580_3000_1_0_0.5_all\",\"noisy_4_groups_17580_3000_1_0.18_0.5_all\",\"noisy_4_groups_17580_3000_1_0.25_0.5_all\",\"noisy_4_groups_17580_3000_1_0.5_0.5_all\",\"noisy_4_groups_17580_3000_1_0_0.5_all\",\"noisy_4_paths_17580_3000_1_0.18_0.5_all\",\"noisy_4_paths_17580_3000_1_0.25_0.5_all\",\"noisy_4_paths_17580_3000_1_0.5_0.5_all\",\"noisy_4_paths_17580_3000_1_0_0.5_all\",\"noisy_5_groups_17580_3000_1_0.18_0.5_all\",\"noisy_5_groups_17580_3000_1_0.25_0.5_all\",\"noisy_5_groups_17580_3000_1_0.5_0.5_all\",\"noisy_5_groups_17580_3000_1_0_0.5_all\",\"noisy_5_paths_17580_3000_1_0.18_0.5_all\",\"noisy_5_paths_17580_3000_1_0.25_0.5_all\",\"noisy_5_paths_17580_3000_1_0.5_0.5_all\",\"noisy_5_paths_17580_3000_1_0_0.5_all\"]"
   ]
  },
  {
   "cell_type": "code",
   "execution_count": 6,
   "metadata": {},
   "outputs": [],
   "source": [
    "name = data_names[0]\n",
    "splited_name = name.split(\"_\")\n",
    "true_name = f\"true_{splited_name[1]}_{splited_name[2]}_{splited_name[3]}_{splited_name[4]}_{splited_name[5]}_all\""
   ]
  },
  {
   "cell_type": "code",
   "execution_count": 7,
   "metadata": {},
   "outputs": [
    {
     "data": {
      "text/plain": [
       "'true_1_groups_17580_3000_1_all'"
      ]
     },
     "execution_count": 7,
     "metadata": {},
     "output_type": "execute_result"
    }
   ],
   "source": [
    "true_name"
   ]
  },
  {
   "cell_type": "code",
   "execution_count": 37,
   "metadata": {},
   "outputs": [],
   "source": [
    "name = data_names[0]\n",
    "data = np.load(f\"{root_path}/{name}.npz\")"
   ]
  },
  {
   "cell_type": "code",
   "execution_count": 16,
   "metadata": {},
   "outputs": [
    {
     "data": {
      "text/plain": [
       "['data', 'colors', 'dist', 'dist_all', 'phate', 'is_train']"
      ]
     },
     "execution_count": 16,
     "metadata": {},
     "output_type": "execute_result"
    }
   ],
   "source": [
    "data.files"
   ]
  },
  {
   "cell_type": "code",
   "execution_count": 17,
   "metadata": {},
   "outputs": [
    {
     "data": {
      "text/plain": [
       "(3000, 100)"
      ]
     },
     "execution_count": 17,
     "metadata": {},
     "output_type": "execute_result"
    }
   ],
   "source": [
    "data['data'].shape"
   ]
  },
  {
   "cell_type": "code",
   "execution_count": 18,
   "metadata": {},
   "outputs": [],
   "source": [
    "G1 = graphtools.Graph(data['data'], knn=5, decay=None)\n",
    "D1 = G1.shortest_path(distance='data')"
   ]
  },
  {
   "cell_type": "code",
   "execution_count": 19,
   "metadata": {},
   "outputs": [],
   "source": [
    "name = 'true_1_groups_17580_3000_1_all'\n",
    "data_noiseless = np.load(f\"{root_path}/{name}.npz\")"
   ]
  },
  {
   "cell_type": "code",
   "execution_count": 20,
   "metadata": {},
   "outputs": [],
   "source": [
    "G2 = graphtools.Graph(data_noiseless['data'], knn=5, decay=None)\n",
    "D2 = G2.shortest_path(distance='data')"
   ]
  },
  {
   "cell_type": "code",
   "execution_count": 21,
   "metadata": {},
   "outputs": [
    {
     "data": {
      "text/plain": [
       "array([[ 0.        , 70.93130174, 70.09154941, ..., 72.27446526,\n",
       "        71.63497206, 90.23384747],\n",
       "       [70.93130174,  0.        , 70.23494122, ..., 54.86952757,\n",
       "        89.87325483, 79.69582837],\n",
       "       [70.09154941, 70.23494122,  0.        , ..., 86.33140903,\n",
       "        55.70443353, 55.11269255],\n",
       "       ...,\n",
       "       [72.27446526, 54.86952757, 86.33140903, ...,  0.        ,\n",
       "        80.58464573, 96.53957518],\n",
       "       [71.63497206, 89.87325483, 55.70443353, ..., 80.58464573,\n",
       "         0.        , 73.91113659],\n",
       "       [90.23384747, 79.69582837, 55.11269255, ..., 96.53957518,\n",
       "        73.91113659,  0.        ]])"
      ]
     },
     "execution_count": 21,
     "metadata": {},
     "output_type": "execute_result"
    }
   ],
   "source": [
    "D1"
   ]
  },
  {
   "cell_type": "code",
   "execution_count": 22,
   "metadata": {},
   "outputs": [
    {
     "data": {
      "text/plain": [
       "array([[  0.        ,  34.85567322,          inf, ...,  36.08930515,\n",
       "         97.23501991,          inf],\n",
       "       [ 34.85567322,   0.        ,          inf, ...,  30.02172546,\n",
       "        100.62463705,          inf],\n",
       "       [         inf,          inf,   0.        , ...,          inf,\n",
       "                 inf,  34.87795371],\n",
       "       ...,\n",
       "       [ 36.08930515,  30.02172546,          inf, ...,   0.        ,\n",
       "        110.63428877,          inf],\n",
       "       [ 97.23501991, 100.62463705,          inf, ..., 110.63428877,\n",
       "          0.        ,          inf],\n",
       "       [         inf,          inf,  34.87795371, ...,          inf,\n",
       "                 inf,   0.        ]])"
      ]
     },
     "execution_count": 22,
     "metadata": {},
     "output_type": "execute_result"
    }
   ],
   "source": [
    "D2"
   ]
  },
  {
   "cell_type": "code",
   "execution_count": 23,
   "metadata": {},
   "outputs": [],
   "source": [
    "def sample_non_inf_pairs(distance_matrix, num_pairs=20, seed=None):\n",
    "    if seed is not None:\n",
    "        np.random.seed(seed)\n",
    "    \n",
    "    # Identify non-infinity entries in the distance matrix\n",
    "    non_inf_indices = np.argwhere(np.isfinite(distance_matrix))\n",
    "    \n",
    "    # Convert to list of tuples\n",
    "    non_inf_pairs = [tuple(pair) for pair in non_inf_indices if pair[0] != pair[1]]  # Exclude diagonal elements\n",
    "    \n",
    "    # Check if there are enough pairs to sample from\n",
    "    if len(non_inf_pairs) < num_pairs:\n",
    "        raise ValueError(\"Not enough non-infinity pairs to sample from.\")\n",
    "    \n",
    "    # Randomly sample 20 pairs using numpy\n",
    "    sampled_pairs_indices = np.random.choice(len(non_inf_pairs), size=num_pairs, replace=False)\n",
    "    sampled_pairs = [non_inf_pairs[i] for i in sampled_pairs_indices]\n",
    "    \n",
    "    return sampled_pairs\n",
    "\n"
   ]
  },
  {
   "cell_type": "code",
   "execution_count": 25,
   "metadata": {},
   "outputs": [],
   "source": [
    "pairs = sample_non_inf_pairs(D2, seed=432)"
   ]
  },
  {
   "cell_type": "code",
   "execution_count": 26,
   "metadata": {},
   "outputs": [
    {
     "data": {
      "text/plain": [
       "[(261, 1822),\n",
       " (2282, 320),\n",
       " (1149, 2019),\n",
       " (73, 790),\n",
       " (345, 2153),\n",
       " (165, 2893),\n",
       " (1705, 984),\n",
       " (2485, 1675),\n",
       " (1642, 2555),\n",
       " (2852, 920),\n",
       " (2313, 2455),\n",
       " (2536, 1961),\n",
       " (1051, 2558),\n",
       " (376, 1063),\n",
       " (2939, 2235),\n",
       " (1046, 1173),\n",
       " (1764, 845),\n",
       " (1980, 668),\n",
       " (2685, 851),\n",
       " (736, 1474)]"
      ]
     },
     "execution_count": 26,
     "metadata": {},
     "output_type": "execute_result"
    }
   ],
   "source": [
    "pairs"
   ]
  },
  {
   "cell_type": "code",
   "execution_count": 31,
   "metadata": {},
   "outputs": [],
   "source": [
    "d2s = [D2[p[0], p[1]] for p in pairs]"
   ]
  },
  {
   "cell_type": "code",
   "execution_count": 32,
   "metadata": {},
   "outputs": [],
   "source": [
    "d1s = [D1[p[0], p[1]] for p in pairs]"
   ]
  },
  {
   "cell_type": "code",
   "execution_count": 34,
   "metadata": {},
   "outputs": [
    {
     "data": {
      "text/plain": [
       "0.8320695486534964"
      ]
     },
     "execution_count": 34,
     "metadata": {},
     "output_type": "execute_result"
    }
   ],
   "source": [
    "np.corrcoef(d2s, d1s)[0,1]"
   ]
  },
  {
   "cell_type": "code",
   "execution_count": 36,
   "metadata": {},
   "outputs": [
    {
     "data": {
      "text/plain": [
       "365.8693675924137"
      ]
     },
     "execution_count": 36,
     "metadata": {},
     "output_type": "execute_result"
    }
   ],
   "source": [
    "((np.array(d2s) - np.array(d1s))**2).mean()"
   ]
  },
  {
   "cell_type": "code",
   "execution_count": 8,
   "metadata": {},
   "outputs": [],
   "source": [
    "true_dat = np.load(f\"{root_path}/gt/{true_name}.npz\")"
   ]
  },
  {
   "cell_type": "code",
   "execution_count": 13,
   "metadata": {},
   "outputs": [],
   "source": [
    "start_idx, end_idx = true_dat['pairs'].T"
   ]
  },
  {
   "cell_type": "code",
   "execution_count": 14,
   "metadata": {},
   "outputs": [
    {
     "data": {
      "text/plain": [
       "array([ 261, 2282, 1149,   73,  345,  165, 1705, 2485, 1642, 2852, 2313,\n",
       "       2536, 1051,  376, 2939, 1046, 1764, 1980, 2685,  736])"
      ]
     },
     "execution_count": 14,
     "metadata": {},
     "output_type": "execute_result"
    }
   ],
   "source": [
    "start_idx"
   ]
  },
  {
   "cell_type": "code",
   "execution_count": 15,
   "metadata": {},
   "outputs": [
    {
     "data": {
      "text/plain": [
       "array([1822,  320, 2019,  790, 2153, 2893,  984, 1675, 2555,  920, 2455,\n",
       "       1961, 2558, 1063, 2235, 1173,  845,  668,  851, 1474])"
      ]
     },
     "execution_count": 15,
     "metadata": {},
     "output_type": "execute_result"
    }
   ],
   "source": [
    "end_idx"
   ]
  },
  {
   "cell_type": "code",
   "execution_count": null,
   "metadata": {},
   "outputs": [],
   "source": []
  }
 ],
 "metadata": {
  "kernelspec": {
   "display_name": "geosink",
   "language": "python",
   "name": "python3"
  },
  "language_info": {
   "codemirror_mode": {
    "name": "ipython",
    "version": 3
   },
   "file_extension": ".py",
   "mimetype": "text/x-python",
   "name": "python",
   "nbconvert_exporter": "python",
   "pygments_lexer": "ipython3",
   "version": "3.11.5"
  },
  "orig_nbformat": 4
 },
 "nbformat": 4,
 "nbformat_minor": 2
}
