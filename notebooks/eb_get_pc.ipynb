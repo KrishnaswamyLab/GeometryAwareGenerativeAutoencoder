{
 "cells": [
  {
   "cell_type": "code",
   "execution_count": 1,
   "metadata": {},
   "outputs": [],
   "source": [
    "import sys\n",
    "import matplotlib.pyplot as plt\n",
    "import scprep\n",
    "import pandas as pd\n",
    "import numpy as np\n",
    "import scanpy as sc"
   ]
  },
  {
   "cell_type": "code",
   "execution_count": 2,
   "metadata": {},
   "outputs": [],
   "source": [
    "data = np.load('../data/eb_subset_all.npz')"
   ]
  },
  {
   "cell_type": "code",
   "execution_count": 20,
   "metadata": {},
   "outputs": [],
   "source": [
    "raw_data = sc.read_h5ad('../data/old/eb_hv.h5ad')"
   ]
  },
  {
   "cell_type": "code",
   "execution_count": 14,
   "metadata": {},
   "outputs": [],
   "source": [
    "data_old = np.load('../data/old/eb_hv_pca_subset.npy')"
   ]
  },
  {
   "cell_type": "code",
   "execution_count": 12,
   "metadata": {},
   "outputs": [
    {
     "data": {
      "text/plain": [
       "array([[ 0.01935549, -0.00797983],\n",
       "       [ 0.04288998,  0.02949095],\n",
       "       [ 0.04142842,  0.0280109 ],\n",
       "       ...,\n",
       "       [-0.02111476, -0.00016555],\n",
       "       [-0.02158279, -0.00016536],\n",
       "       [-0.01735641, -0.00157353]])"
      ]
     },
     "execution_count": 12,
     "metadata": {},
     "output_type": "execute_result"
    }
   ],
   "source": [
    "raw_data.obsm['X_phate']"
   ]
  },
  {
   "cell_type": "code",
   "execution_count": 18,
   "metadata": {},
   "outputs": [
    {
     "data": {
      "text/plain": [
       "True"
      ]
     },
     "execution_count": 18,
     "metadata": {},
     "output_type": "execute_result"
    }
   ],
   "source": [
    "(data['data'] == data_old).all()"
   ]
  },
  {
   "cell_type": "code",
   "execution_count": 19,
   "metadata": {},
   "outputs": [
    {
     "data": {
      "text/plain": [
       "(3000, 50)"
      ]
     },
     "execution_count": 19,
     "metadata": {},
     "output_type": "execute_result"
    }
   ],
   "source": [
    "data_old.shape"
   ]
  },
  {
   "cell_type": "code",
   "execution_count": 21,
   "metadata": {},
   "outputs": [],
   "source": [
    "np.random.seed(42)\n",
    "subset_id = np.random.choice(raw_data.shape[0], size=3000, replace=False)\n",
    "X_pca_subset = raw_data.obsm['X_pca'][subset_id,:]"
   ]
  },
  {
   "cell_type": "code",
   "execution_count": 23,
   "metadata": {},
   "outputs": [
    {
     "data": {
      "text/plain": [
       "True"
      ]
     },
     "execution_count": 23,
     "metadata": {},
     "output_type": "execute_result"
    }
   ],
   "source": [
    "(data['data'] == X_pca_subset).all()"
   ]
  },
  {
   "cell_type": "code",
   "execution_count": 29,
   "metadata": {},
   "outputs": [
    {
     "data": {
      "text/plain": [
       "(1684, 50)"
      ]
     },
     "execution_count": 29,
     "metadata": {},
     "output_type": "execute_result"
    }
   ],
   "source": [
    "raw_data.varm['PCs'].shape"
   ]
  },
  {
   "cell_type": "code",
   "execution_count": 32,
   "metadata": {},
   "outputs": [],
   "source": [
    "pca_loadings = raw_data.varm['PCs']  # PCA loadings\n",
    "data_mean = np.mean(raw_data.X, axis=0)  # Compute the mean of the original data"
   ]
  },
  {
   "cell_type": "code",
   "execution_count": 33,
   "metadata": {},
   "outputs": [],
   "source": [
    "pca_data = data['data']\n",
    "original_space_data = np.dot(pca_data, pca_loadings.T) + data_mean\n",
    "original_space_data = np.asarray(original_space_data)\n"
   ]
  },
  {
   "cell_type": "code",
   "execution_count": 56,
   "metadata": {},
   "outputs": [],
   "source": []
  },
  {
   "cell_type": "code",
   "execution_count": 35,
   "metadata": {},
   "outputs": [
    {
     "data": {
      "text/plain": [
       "<16821x1684 sparse matrix of type '<class 'numpy.float64'>'\n",
       "\twith 3446327 stored elements in Compressed Sparse Row format>"
      ]
     },
     "execution_count": 35,
     "metadata": {},
     "output_type": "execute_result"
    }
   ],
   "source": [
    "raw_data.X"
   ]
  },
  {
   "cell_type": "code",
   "execution_count": 36,
   "metadata": {},
   "outputs": [],
   "source": [
    "import sys\n",
    "sys.path.append('../src')\n",
    "from evaluation import pearson_correlation_corresponding"
   ]
  },
  {
   "cell_type": "code",
   "execution_count": 44,
   "metadata": {},
   "outputs": [],
   "source": [
    "actual_data = raw_data[subset_id,:].X.toarray()"
   ]
  },
  {
   "cell_type": "code",
   "execution_count": 57,
   "metadata": {},
   "outputs": [],
   "source": [
    "corrs = pearson_correlation_corresponding(original_space_data, actual_data)"
   ]
  },
  {
   "cell_type": "code",
   "execution_count": 59,
   "metadata": {},
   "outputs": [
    {
     "data": {
      "text/plain": [
       "0.2918863630596089"
      ]
     },
     "execution_count": 59,
     "metadata": {},
     "output_type": "execute_result"
    }
   ],
   "source": [
    "corrs.mean()"
   ]
  },
  {
   "cell_type": "code",
   "execution_count": 69,
   "metadata": {},
   "outputs": [
    {
     "data": {
      "text/plain": [
       "array([[-1.79874788e-01,  1.77552745e-01,  1.24380966e+00, ...,\n",
       "        -1.49910190e-01,  2.76596831e-01, -4.63554424e-01],\n",
       "       [ 6.60449411e-01, -1.01056013e+00, -1.06202805e+00, ...,\n",
       "         1.33767903e-01,  3.25151256e-01, -5.40944890e-02],\n",
       "       [-3.16819965e-01, -4.75869277e-01, -1.29266071e+00, ...,\n",
       "         1.36273339e-01,  5.60034402e-03,  2.56478554e-01],\n",
       "       ...,\n",
       "       [-4.60610591e+00, -1.56684569e+00,  5.83325569e+00, ...,\n",
       "        -3.73826670e-01, -9.53925076e-02, -2.55217638e-02],\n",
       "       [-4.07017703e+00, -6.55004576e-01,  1.65875036e-01, ...,\n",
       "        -1.62177526e-01, -1.72656096e-01, -3.25158076e-02],\n",
       "       [-1.81190124e+00, -1.53630470e+00, -1.11290874e+00, ...,\n",
       "         5.26763537e-02, -3.75978377e-01,  1.35822816e-01]])"
      ]
     },
     "execution_count": 69,
     "metadata": {},
     "output_type": "execute_result"
    }
   ],
   "source": [
    "x_magic"
   ]
  },
  {
   "cell_type": "code",
   "execution_count": 70,
   "metadata": {},
   "outputs": [
    {
     "data": {
      "text/plain": [
       "array([[-1.7016331e+00,  8.8023923e-02,  2.0021570e+00, ...,\n",
       "        -1.3836890e+00,  3.6277589e-01,  1.3107024e-01],\n",
       "       [-2.1301298e-01, -2.3534687e+00,  5.5244428e-01, ...,\n",
       "         5.4930478e-01,  1.3934861e+00,  1.7196587e-01],\n",
       "       [-1.3155088e+00, -1.1787565e+00, -9.6000332e-01, ...,\n",
       "         1.3089414e+00, -7.7756536e-01,  1.2356104e+00],\n",
       "       ...,\n",
       "       [-4.7607551e+00, -1.4115350e+00,  4.5781436e+00, ...,\n",
       "        -1.0765858e+00, -9.8167352e-02,  8.4981084e-01],\n",
       "       [-4.9118619e+00, -6.2910384e-01, -2.7711913e-01, ...,\n",
       "        -6.2702727e-01, -1.4723185e+00, -5.5469060e-01],\n",
       "       [-5.9857810e-01, -2.4779913e+00, -1.5524262e+00, ...,\n",
       "         6.0734707e-01,  5.1273879e-02, -1.5904061e-03]], dtype=float32)"
      ]
     },
     "execution_count": 70,
     "metadata": {},
     "output_type": "execute_result"
    }
   ],
   "source": [
    "pca_data"
   ]
  },
  {
   "cell_type": "code",
   "execution_count": 88,
   "metadata": {},
   "outputs": [
    {
     "name": "stdout",
     "output_type": "stream",
     "text": [
      "Calculating MAGIC...\n",
      "  Running MAGIC on 3000 cells and 50 genes.\n",
      "  Calculating graph and diffusion operator...\n",
      "    Calculating KNN search...\n",
      "    Calculated KNN search in 0.67 seconds.\n",
      "    Calculating affinities...\n",
      "    Calculated affinities in 0.65 seconds.\n",
      "  Calculated graph and diffusion operator in 1.32 seconds.\n",
      "  Calculating imputation...\n",
      "Calculated MAGIC in 1.33 seconds.\n"
     ]
    }
   ],
   "source": [
    "import magic\n",
    "magic_op = magic.MAGIC()\n",
    "x_magic = magic_op.fit_transform(pca_data)\n",
    "original_space_magic = np.dot(x_magic, pca_loadings.T) + data_mean\n",
    "original_space_magic = np.asarray(original_space_magic)"
   ]
  },
  {
   "cell_type": "code",
   "execution_count": 89,
   "metadata": {},
   "outputs": [],
   "source": [
    "corrs = pearson_correlation_corresponding(original_space_magic, original_space_data)"
   ]
  },
  {
   "cell_type": "code",
   "execution_count": 90,
   "metadata": {},
   "outputs": [
    {
     "data": {
      "text/plain": [
       "0.8114686766133132"
      ]
     },
     "execution_count": 90,
     "metadata": {},
     "output_type": "execute_result"
    }
   ],
   "source": [
    "corrs.mean()"
   ]
  },
  {
   "cell_type": "code",
   "execution_count": 71,
   "metadata": {},
   "outputs": [],
   "source": [
    "datapcs = np.load('../data/eb_pcs.npz')"
   ]
  },
  {
   "cell_type": "code",
   "execution_count": 76,
   "metadata": {},
   "outputs": [],
   "source": [
    "np.savez('../data/eb_all_pcs_correct.npz', pca_loadings=pca_loadings, data_mean=data_mean)"
   ]
  },
  {
   "cell_type": "code",
   "execution_count": null,
   "metadata": {},
   "outputs": [],
   "source": []
  }
 ],
 "metadata": {
  "kernelspec": {
   "display_name": "geosink",
   "language": "python",
   "name": "python3"
  },
  "language_info": {
   "codemirror_mode": {
    "name": "ipython",
    "version": 3
   },
   "file_extension": ".py",
   "mimetype": "text/x-python",
   "name": "python",
   "nbconvert_exporter": "python",
   "pygments_lexer": "ipython3",
   "version": "3.11.5"
  },
  "orig_nbformat": 4
 },
 "nbformat": 4,
 "nbformat_minor": 2
}
