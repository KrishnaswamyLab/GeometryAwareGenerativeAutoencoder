{
 "cells": [
  {
   "cell_type": "code",
   "execution_count": 1,
   "metadata": {},
   "outputs": [],
   "source": [
    "import numpy as np\n",
    "import pathlib\n",
    "import sys\n",
    "sys.path.append('../../src')\n",
    "from negative_sampling import add_negative_samples, make_hi_freq_noise\n",
    "from diffusionmap import DiffusionMap\n",
    "import phate\n",
    "from plotly3d.plot import scatter"
   ]
  },
  {
   "cell_type": "code",
   "execution_count": null,
   "metadata": {},
   "outputs": [],
   "source": [
    "data0 = np.load('../../data/eb_subset_all.npz')\n",
    "data_dict0 = {f: data0[f] for f in data0.files}\n",
    "noise_type = 'gaussian'\n",
    "noise_level = 0.5\n",
    "mask_dist = False\n",
    "seed = 32\n",
    "data_dict = add_negative_samples(data_dict0.copy(), subset_rate=1., noise_rate=noise_level, seed=seed, noise=noise_type, mask_dists=mask_dist, shell=True)\n",
    "pathlib.Path('../../data/neurips_results/real/disc/').mkdir(parents=True, exist_ok=True)\n",
    "np.savez('../../data/neurips_results/real/disc/eb.npz', **data_dict)"
   ]
  },
  {
   "cell_type": "code",
   "execution_count": null,
   "metadata": {},
   "outputs": [],
   "source": []
  }
 ],
 "metadata": {
  "kernelspec": {
   "display_name": "geosink",
   "language": "python",
   "name": "python3"
  },
  "language_info": {
   "codemirror_mode": {
    "name": "ipython",
    "version": 3
   },
   "file_extension": ".py",
   "mimetype": "text/x-python",
   "name": "python",
   "nbconvert_exporter": "python",
   "pygments_lexer": "ipython3",
   "version": "3.11.5"
  },
  "orig_nbformat": 4
 },
 "nbformat": 4,
 "nbformat_minor": 2
}
