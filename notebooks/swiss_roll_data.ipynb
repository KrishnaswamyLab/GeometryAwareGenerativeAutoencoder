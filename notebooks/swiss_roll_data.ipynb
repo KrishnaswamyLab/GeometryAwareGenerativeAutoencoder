{
 "cells": [
  {
   "cell_type": "code",
   "execution_count": 1,
   "metadata": {},
   "outputs": [],
   "source": [
    "import numpy as np\n",
    "import phate"
   ]
  },
  {
   "cell_type": "code",
   "execution_count": 2,
   "metadata": {},
   "outputs": [],
   "source": [
    "def make_swiss_roll(turns=2, a=0.1, base_delta_theta=0.1 * 2 * np.pi, theta=1 * np.pi, noise=0.0):\n",
    "    thetas = []\n",
    "    while theta < 2 * np.pi * turns:\n",
    "        thetas.append(theta)\n",
    "        # Adjust delta_theta to be inversely proportional to theta, but ensure it's never zero\n",
    "        delta_theta = base_delta_theta / (1 + theta / (2 * np.pi))\n",
    "        theta += delta_theta\n",
    "    thetas = np.array(thetas)\n",
    "    tmp_x = (a * thetas * np.cos(thetas))\n",
    "    xmin, xmax = np.min(tmp_x), np.max(tmp_x)\n",
    "    w = np.linspace(xmin, xmax, len(thetas))\n",
    "    t, w = np.meshgrid(thetas, w)\n",
    "    t = t.flatten()\n",
    "    w = w.flatten()\n",
    "    x = a * t * np.cos(t)\n",
    "    y = a * t * np.sin(t)\n",
    "    z = w\n",
    "    noises_t = np.random.normal(0, noise * (t.max()-t.min()), len(t))\n",
    "    noises_w = np.random.normal(0, noise * (w.max()-w.min()), len(w))\n",
    "    t += noises_t\n",
    "    w += noises_w\n",
    "    return np.column_stack((x, y, z)), np.column_stack((t, w))\n"
   ]
  },
  {
   "cell_type": "code",
   "execution_count": 3,
   "metadata": {},
   "outputs": [],
   "source": [
    "Xs, thetas = make_swiss_roll(turns=2, a=0.1, base_delta_theta=0.1 * 2 * np.pi, theta=1.5 * np.pi, noise=0.)\n",
    "ambient_noise = np.random.normal(0, 0.05, size=Xs.shape)\n",
    "Xs += ambient_noise"
   ]
  },
  {
   "cell_type": "code",
   "execution_count": 5,
   "metadata": {},
   "outputs": [
    {
     "name": "stdout",
     "output_type": "stream",
     "text": [
      "Calculating PHATE...\n",
      "  Running PHATE on 900 observations and 3 variables.\n",
      "  Calculating graph and diffusion operator...\n",
      "    Calculating KNN search...\n",
      "    Calculating affinities...\n",
      "  Calculated graph and diffusion operator in 0.02 seconds.\n",
      "  Calculating optimal t...\n",
      "    Automatically selected t = 29\n",
      "  Calculated optimal t in 0.39 seconds.\n",
      "  Calculating diffusion potential...\n",
      "  Calculated diffusion potential in 0.26 seconds.\n",
      "  Calculating metric MDS...\n",
      "  Calculated metric MDS in 0.58 seconds.\n",
      "Calculated PHATE in 1.27 seconds.\n"
     ]
    }
   ],
   "source": [
    "phate_op = phate.PHATE()\n",
    "X_phate = phate_op.fit_transform(Xs)"
   ]
  },
  {
   "cell_type": "code",
   "execution_count": 6,
   "metadata": {},
   "outputs": [],
   "source": [
    "np.save(f\"../data/swiss_roll.npy\", Xs)\n",
    "np.save(f\"../data/swiss_roll_phate.npy\", X_phate)"
   ]
  }
 ],
 "metadata": {
  "kernelspec": {
   "display_name": "geosink",
   "language": "python",
   "name": "python3"
  },
  "language_info": {
   "codemirror_mode": {
    "name": "ipython",
    "version": 3
   },
   "file_extension": ".py",
   "mimetype": "text/x-python",
   "name": "python",
   "nbconvert_exporter": "python",
   "pygments_lexer": "ipython3",
   "version": "3.11.5"
  }
 },
 "nbformat": 4,
 "nbformat_minor": 2
}
