{
 "cells": [
  {
   "cell_type": "code",
   "execution_count": 1,
   "metadata": {},
   "outputs": [],
   "source": [
    "import sys\n",
    "sys.path.append(\"../src/\")\n",
    "from model import AEDist\n",
    "import numpy as np\n",
    "import torch\n",
    "import phate\n",
    "from heatgeo.embedding import HeatGeo\n",
    "from pytorch_lightning import Trainer\n",
    "from pytorch_lightning.callbacks import EarlyStopping\n",
    "from scipy.spatial import procrustes\n",
    "import scanpy as sc\n",
    "import scprep\n",
    "import matplotlib.pyplot as plt\n",
    "from pytorch_lightning.loggers import WandbLogger\n",
    "from pytorch_lightning.callbacks import ModelCheckpoint\n",
    "import wandb\n",
    "import hydra\n",
    "import os\n",
    "from omegaconf import DictConfig, OmegaConf\n",
    "import wandb\n",
    "from hydra import initialize, compose\n",
    "import pickle\n",
    "from scipy.spatial.distance import pdist, squareform, cdist\n",
    "import graphtools"
   ]
  },
  {
   "cell_type": "code",
   "execution_count": 2,
   "metadata": {},
   "outputs": [],
   "source": [
    "data = np.load('../data/eb.npz')"
   ]
  },
  {
   "cell_type": "code",
   "execution_count": 3,
   "metadata": {},
   "outputs": [
    {
     "name": "stderr",
     "output_type": "stream",
     "text": [
      "/gpfs/gibbs/pi/krishnaswamy_smita/xingzhi/.conda_envs/geosink/lib/python3.11/site-packages/anndata/__init__.py:51: FutureWarning: `anndata.read` is deprecated, use `anndata.read_h5ad` instead. `ad.read` will be removed in mid 2024.\n",
      "  warnings.warn(\n"
     ]
    }
   ],
   "source": [
    "# adata = sc.read('../data/old/eb.h5ad', backed='r')\n",
    "adata = sc.read('../data/old/eb_hv.h5ad')"
   ]
  },
  {
   "cell_type": "code",
   "execution_count": 4,
   "metadata": {},
   "outputs": [],
   "source": [
    "pca_loadings = adata.obsm['X_pca']"
   ]
  },
  {
   "cell_type": "code",
   "execution_count": 5,
   "metadata": {},
   "outputs": [],
   "source": [
    "pca_components = adata.varm['PCs']"
   ]
  },
  {
   "cell_type": "code",
   "execution_count": 6,
   "metadata": {},
   "outputs": [],
   "source": [
    "original_feature_means = np.mean(adata[:,:].X.toarray(), axis=0)"
   ]
  },
  {
   "cell_type": "code",
   "execution_count": 7,
   "metadata": {},
   "outputs": [],
   "source": [
    "X_approx = pca_loadings @ pca_components.T + original_feature_means"
   ]
  },
  {
   "cell_type": "code",
   "execution_count": 8,
   "metadata": {},
   "outputs": [],
   "source": [
    "np.savez('../data/eb_pcs.npz', pca_loadings=pca_loadings, pca_components=pca_components)"
   ]
  },
  {
   "cell_type": "code",
   "execution_count": 9,
   "metadata": {},
   "outputs": [
    {
     "data": {
      "text/plain": [
       "0.38969232424440226"
      ]
     },
     "execution_count": 9,
     "metadata": {},
     "output_type": "execute_result"
    }
   ],
   "source": [
    "1 - ((adata[:,:].X.toarray() - X_approx)**2).mean()/adata[:,:].X.toarray().var()"
   ]
  },
  {
   "cell_type": "code",
   "execution_count": 10,
   "metadata": {},
   "outputs": [
    {
     "data": {
      "text/plain": [
       "5.034935516207318e-17"
      ]
     },
     "execution_count": 10,
     "metadata": {},
     "output_type": "execute_result"
    }
   ],
   "source": [
    "# Sanity check!\n",
    "# Generate a synthetic data2set\n",
    "np.random.seed(42)  # For reproducibility\n",
    "data2 = np.random.rand(100, 10)  # 100 cells, 10 genes\n",
    "adata2 = sc.AnnData(data2)\n",
    "sc.tl.pca(adata2, svd_solver='full', n_comps=10)\n",
    "pca_components2 = adata2.varm['PCs']\n",
    "pca_loadings2 = adata2.obsm['X_pca']\n",
    "original_mean2 = np.mean(adata2.X, axis=0)\n",
    "reconstructed_data2 = pca_loadings2 @ pca_components2.T + original_mean2\n",
    "((reconstructed_data2 - adata2.X)**2).mean()"
   ]
  }
 ],
 "metadata": {
  "kernelspec": {
   "display_name": "geosink",
   "language": "python",
   "name": "python3"
  },
  "language_info": {
   "codemirror_mode": {
    "name": "ipython",
    "version": 3
   },
   "file_extension": ".py",
   "mimetype": "text/x-python",
   "name": "python",
   "nbconvert_exporter": "python",
   "pygments_lexer": "ipython3",
   "version": "3.11.5"
  }
 },
 "nbformat": 4,
 "nbformat_minor": 2
}
