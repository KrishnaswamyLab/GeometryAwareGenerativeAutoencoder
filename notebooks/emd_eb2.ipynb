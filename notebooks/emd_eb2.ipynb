{
 "cells": [
  {
   "cell_type": "code",
   "execution_count": 1,
   "metadata": {},
   "outputs": [],
   "source": [
    "import wandb\n",
    "import sys\n",
    "import matplotlib.pyplot as plt\n",
    "import scprep\n",
    "import pandas as pd\n",
    "sys.path.append('../src/')\n",
    "from diffusion import DiffusionModel\n",
    "from evaluate import get_results\n",
    "from omegaconf import OmegaConf\n",
    "from main import load_data, make_model\n",
    "import numpy as np\n",
    "import os\n",
    "import glob\n",
    "import matplotlib.animation as animation\n",
    "from matplotlib.animation import PillowWriter\n",
    "import torch"
   ]
  },
  {
   "cell_type": "code",
   "execution_count": 2,
   "metadata": {},
   "outputs": [],
   "source": [
    "# # Initialize wandb (replace 'your_entity' and 'your_project' with your specific details)\n",
    "# import torch\n",
    "# wandb.login()\n",
    "# api = wandb.Api()\n",
    "\n",
    "# # Specify your entity, project, and sweep ID\n",
    "# entity = \"xingzhis\"\n",
    "# project = \"dmae\"\n",
    "# sweep_id = 'n7krfbsz'\n",
    "\n",
    "# # Fetch the sweep\n",
    "# sweep = api.sweep(f\"{entity}/{project}/{sweep_id}\")\n",
    "\n",
    "# run_ids = [run.id for run in sweep.runs]\n",
    "# run_id = 'ucvq4x2o'\n",
    "# run = [run for run in sweep.runs if run.id == run_id][0]\n",
    "\n",
    "# cfg = OmegaConf.create(run.config)\n",
    "# folder_path = \"../src/wandb/\"\n",
    "# folder_list = glob.glob(f\"{folder_path}*{run.id}*\")\n",
    "# ckpt_files = glob.glob(f\"{folder_list[0]}/files/*.ckpt\")\n",
    "# ckpt_path = ckpt_files[0]\n",
    "# allloader, _, X, phate_coords, colors, dist, pp, _, _ = load_data(cfg, load_all=False)\n",
    "# emb_dim = phate_coords.shape[1]\n",
    "# data_path = os.path.join(cfg.data.root, cfg.data.name + cfg.data.filetype)\n",
    "# data = np.load(data_path, allow_pickle=True)\n",
    "# dist_std = np.std(data['dist'].flatten())\n",
    "# model = make_model(cfg, X.shape[1], emb_dim, pp, dist_std, from_checkpoint=True, checkpoint_path=ckpt_path)\n",
    "# model.eval()\n",
    "# x_all = next(iter(allloader))['x']\n",
    "# x_pred, z_pred = model(x_all)\n",
    "# x_pred = x_pred.detach().cpu().numpy()\n",
    "# z_pred = z_pred.detach().cpu().numpy()"
   ]
  },
  {
   "cell_type": "code",
   "execution_count": 3,
   "metadata": {},
   "outputs": [
    {
     "name": "stderr",
     "output_type": "stream",
     "text": [
      "Failed to detect the name of this notebook, you can set it manually with the WANDB_NOTEBOOK_NAME environment variable to enable code saving.\n"
     ]
    },
    {
     "name": "stderr",
     "output_type": "stream",
     "text": [
      "\u001b[34m\u001b[1mwandb\u001b[0m: Currently logged in as: \u001b[33mxingzhis\u001b[0m. Use \u001b[1m`wandb login --relogin`\u001b[0m to force relogin\n"
     ]
    }
   ],
   "source": [
    "# Initialize wandb (replace 'your_entity' and 'your_project' with your specific details)\n",
    "wandb.login()\n",
    "api = wandb.Api()\n",
    "\n",
    "# Specify your entity, project, and sweep ID\n",
    "entity = \"xingzhis\"\n",
    "project = \"dmae\"\n",
    "sweep_id = 'u05futg7'\n",
    "\n",
    "# Fetch the sweep\n",
    "sweep = api.sweep(f\"{entity}/{project}/{sweep_id}\")\n",
    "\n",
    "run_ids = [run.id for run in sweep.runs]\n",
    "\n",
    "run_id = 'xsj3odwl'\n",
    "run = [run for run in sweep.runs if run.id == run_id][0]"
   ]
  },
  {
   "cell_type": "code",
   "execution_count": 4,
   "metadata": {},
   "outputs": [],
   "source": [
    "cfg = OmegaConf.create(run.config)\n",
    "folder_path = \"../src/wandb/\"\n",
    "folder_list = glob.glob(f\"{folder_path}*{run.id}*\")\n",
    "ckpt_files = glob.glob(f\"{folder_list[0]}/files/*.ckpt\")\n",
    "ckpt_path = ckpt_files[0]"
   ]
  },
  {
   "cell_type": "code",
   "execution_count": 5,
   "metadata": {},
   "outputs": [
    {
     "name": "stderr",
     "output_type": "stream",
     "text": [
      "/gpfs/gibbs/pi/krishnaswamy_smita/xingzhi/.conda_envs/geosink/lib/python3.11/site-packages/pytorch_lightning/utilities/parsing.py:269: UserWarning: Attribute 'activation_fn' is an instance of `nn.Module` and is already saved during checkpointing. It is recommended to ignore them using `self.save_hyperparameters(ignore=['activation_fn'])`.\n",
      "  rank_zero_warn(\n"
     ]
    }
   ],
   "source": [
    "diffusionmodel = DiffusionModel.load_from_checkpoint(\n",
    "    checkpoint_path=ckpt_path,\n",
    "    data_size=10, \n",
    "    time_embedding_size=cfg.time_embedding_size,\n",
    "    layer_widths=cfg.layer_widths,\n",
    "    dropout=cfg.dropout,\n",
    "    batch_norm=cfg.batch_norm,\n",
    "    num_steps=cfg.num_steps,\n",
    "    learning_rate=cfg.lr,\n",
    "    weight_decay=cfg.weight_decay,\n",
    ")"
   ]
  },
  {
   "cell_type": "code",
   "execution_count": 6,
   "metadata": {},
   "outputs": [],
   "source": [
    "dat = np.load('../dm_data/eb_all_10.npz')"
   ]
  },
  {
   "cell_type": "code",
   "execution_count": 7,
   "metadata": {},
   "outputs": [],
   "source": [
    "# train_mask = data['is_train']\n",
    "# data_train = data['data'][train_mask]\n",
    "# color_train = data['colors'][train_mask]"
   ]
  },
  {
   "cell_type": "code",
   "execution_count": 8,
   "metadata": {},
   "outputs": [],
   "source": [
    "# data_pred = x_pred[~train_mask]\n",
    "# latent_pred = z_pred[~train_mask]\n",
    "train_mask = dat['train_mask']\n",
    "with torch.no_grad():\n",
    "    generated_latent = diffusionmodel.generate_samples((~train_mask).sum())"
   ]
  },
  {
   "cell_type": "code",
   "execution_count": 9,
   "metadata": {},
   "outputs": [],
   "source": [
    "data_latent = np.load(cfg.path + cfg.data)\n",
    "data_latent_train = data_latent['data'][data_latent['train_mask']]\n",
    "mean_, std_ = np.mean(data_latent_train, axis=0), np.std(data_latent_train, axis=0)"
   ]
  },
  {
   "cell_type": "code",
   "execution_count": 10,
   "metadata": {},
   "outputs": [],
   "source": [
    "generated_latent = generated_latent * std_ + mean_"
   ]
  },
  {
   "cell_type": "code",
   "execution_count": 11,
   "metadata": {},
   "outputs": [],
   "source": [
    "# with torch.no_grad():\n",
    "#     generated_ambient = model.decode(generated_latent)"
   ]
  },
  {
   "cell_type": "code",
   "execution_count": 12,
   "metadata": {},
   "outputs": [],
   "source": [
    "# generated = generated_ambient.detach().cpu().numpy()"
   ]
  },
  {
   "cell_type": "code",
   "execution_count": 13,
   "metadata": {},
   "outputs": [],
   "source": [
    "import numpy as np\n",
    "import matplotlib.pylab as pl\n",
    "import ot\n",
    "import ot.plot"
   ]
  },
  {
   "cell_type": "code",
   "execution_count": 14,
   "metadata": {},
   "outputs": [],
   "source": [
    "import torch\n",
    "device = torch.device(\"cuda\" if torch.cuda.is_available() else \"cpu\")"
   ]
  },
  {
   "cell_type": "code",
   "execution_count": 15,
   "metadata": {},
   "outputs": [],
   "source": [
    "latent_gen = generated_latent.detach().cpu().numpy()"
   ]
  },
  {
   "cell_type": "code",
   "execution_count": 16,
   "metadata": {},
   "outputs": [],
   "source": [
    "latent_test = data_latent['data'][~data_latent['train_mask']]"
   ]
  },
  {
   "cell_type": "code",
   "execution_count": 18,
   "metadata": {},
   "outputs": [
    {
     "data": {
      "text/plain": [
       "array([-2.0513875 , -1.3463763 , -2.7189796 ,  2.865738  , -1.9128035 ,\n",
       "       -0.7072906 ,  1.9343247 ,  3.0472    ,  0.48421434, -0.47793153],\n",
       "      dtype=float32)"
      ]
     },
     "execution_count": 18,
     "metadata": {},
     "output_type": "execute_result"
    }
   ],
   "source": [
    "latent_test.mean(axis=0)"
   ]
  },
  {
   "cell_type": "code",
   "execution_count": 19,
   "metadata": {},
   "outputs": [],
   "source": [
    "latent_train = data_latent['data'][data_latent['train_mask']]"
   ]
  },
  {
   "cell_type": "code",
   "execution_count": 39,
   "metadata": {},
   "outputs": [],
   "source": [
    "def compute_w2(gen, tru):\n",
    "    M = ot.dist(gen, tru)\n",
    "    M = torch.tensor(M, dtype=torch.float32, device=device)\n",
    "    # M/=M.max()\n",
    "    n = latent_test.shape[0]\n",
    "    a, b = torch.ones((n,)).to(device) / n, torch.ones((n,)).to(device) / n  # uniform distribution on samples\n",
    "    G0 = ot.emd(a, b, M)\n",
    "    W = torch.sum(G0 * M)\n",
    "    return torch.sqrt(W)"
   ]
  },
  {
   "cell_type": "code",
   "execution_count": 42,
   "metadata": {},
   "outputs": [],
   "source": [
    "std = latent_train.std()"
   ]
  },
  {
   "cell_type": "code",
   "execution_count": 43,
   "metadata": {},
   "outputs": [],
   "source": [
    "noises = np.arange(1, 10) * 0.1\n",
    "w2s = []\n",
    "for noise in noises:\n",
    "    noisy_test = latent_test + np.random.randn(*latent_test.shape) * noise * std\n",
    "    w2 = compute_w2(noisy_test, latent_test).detach().cpu().numpy()\n",
    "    w2s.append(w2)"
   ]
  },
  {
   "cell_type": "code",
   "execution_count": 44,
   "metadata": {},
   "outputs": [],
   "source": [
    "res = np.array([noises, w2s]).T"
   ]
  },
  {
   "cell_type": "code",
   "execution_count": 45,
   "metadata": {},
   "outputs": [],
   "source": [
    "w_rand = compute_w2(rand_samples, latent_test).cpu().numpy()"
   ]
  },
  {
   "cell_type": "code",
   "execution_count": 46,
   "metadata": {},
   "outputs": [],
   "source": [
    "w_gen = compute_w2(latent_gen, latent_test).cpu().numpy()"
   ]
  },
  {
   "cell_type": "code",
   "execution_count": 47,
   "metadata": {},
   "outputs": [
    {
     "data": {
      "text/plain": [
       "array(41.756752, dtype=float32)"
      ]
     },
     "execution_count": 47,
     "metadata": {},
     "output_type": "execute_result"
    }
   ],
   "source": [
    "w_rand"
   ]
  },
  {
   "cell_type": "code",
   "execution_count": 48,
   "metadata": {},
   "outputs": [
    {
     "data": {
      "text/plain": [
       "array(38.35653, dtype=float32)"
      ]
     },
     "execution_count": 48,
     "metadata": {},
     "output_type": "execute_result"
    }
   ],
   "source": [
    "w_gen"
   ]
  },
  {
   "cell_type": "code",
   "execution_count": 49,
   "metadata": {},
   "outputs": [
    {
     "data": {
      "text/plain": [
       "Text(0, 0.5, 'w2')"
      ]
     },
     "execution_count": 49,
     "metadata": {},
     "output_type": "execute_result"
    },
    {
     "data": {
      "image/png": "[encoded data removed]",
      "text/plain": [
       "<Figure size 640x480 with 1 Axes>"
      ]
     },
     "metadata": {},
     "output_type": "display_data"
    }
   ],
   "source": [
    "fig, ax = plt.subplots()\n",
    "ax.plot(res[:,0], res[:,1], label='add Gaussian')\n",
    "ax.axhline(y=w_rand, color='r', linestyle='-', label='Gaussian noise')\n",
    "ax.axhline(y=w_gen, color='g', linestyle='-', label='DM generated')\n",
    "ax.legend()\n",
    "ax.set_xlabel('noise std / true std')\n",
    "ax.set_ylabel('w2')"
   ]
  },
  {
   "cell_type": "code",
   "execution_count": 60,
   "metadata": {},
   "outputs": [],
   "source": [
    "# go back to ambient space"
   ]
  },
  {
   "cell_type": "code",
   "execution_count": 63,
   "metadata": {},
   "outputs": [
    {
     "ename": "IndexError",
     "evalue": "list index out of range",
     "output_type": "error",
     "traceback": [
      "\u001b[0;31m---------------------------------------------------------------------------\u001b[0m",
      "\u001b[0;31mIndexError\u001b[0m                                Traceback (most recent call last)",
      "Cell \u001b[0;32mIn[63], line 2\u001b[0m\n\u001b[1;32m      1\u001b[0m run_id \u001b[39m=\u001b[39m \u001b[39m'\u001b[39m\u001b[39mucvq4x2o\u001b[39m\u001b[39m'\u001b[39m\n\u001b[0;32m----> 2\u001b[0m run \u001b[39m=\u001b[39m [run \u001b[39mfor\u001b[39;00m run \u001b[39min\u001b[39;00m sweep\u001b[39m.\u001b[39mruns \u001b[39mif\u001b[39;00m run\u001b[39m.\u001b[39mid \u001b[39m==\u001b[39m run_id][\u001b[39m0\u001b[39m]\n\u001b[1;32m      3\u001b[0m cfg \u001b[39m=\u001b[39m OmegaConf\u001b[39m.\u001b[39mcreate(run\u001b[39m.\u001b[39mconfig)\n\u001b[1;32m      4\u001b[0m folder_path \u001b[39m=\u001b[39m \u001b[39m\"\u001b[39m\u001b[39m../src/wandb/\u001b[39m\u001b[39m\"\u001b[39m\n",
      "\u001b[0;31mIndexError\u001b[0m: list index out of range"
     ]
    }
   ],
   "source": [
    "run_id = 'ucvq4x2o'\n",
    "run = [run for run in sweep.runs if run.id == run_id][0]\n",
    "cfg = OmegaConf.create(run.config)\n",
    "folder_path = \"../src/wandb/\"\n",
    "folder_list = glob.glob(f\"{folder_path}*{run.id}*\")\n",
    "ckpt_files = glob.glob(f\"{folder_list[0]}/files/*.ckpt\")\n",
    "ckpt_path = ckpt_files[0]\n",
    "allloader, _, X, phate_coords, colors, dist, pp = load_data(cfg, load_all=True)\n",
    "emb_dim = phate_coords.shape[1]\n",
    "data_path = os.path.join(cfg.data.root, cfg.data.name + cfg.data.filetype)\n",
    "data = np.load(data_path, allow_pickle=True)\n",
    "dist_std = np.std(data['dist'].flatten())\n",
    "model = make_model(cfg, X.shape[1], emb_dim, pp, dist_std, from_checkpoint=True, checkpoint_path=ckpt_path)\n",
    "model.eval()\n",
    "# x_all = next(iter(allloader))['x']\n",
    "# x_pred, z_pred = model(x_all)\n",
    "# x_pred = x_pred.detach().cpu().numpy()\n",
    "# z_pred = z_pred.detach().cpu().numpy()\n",
    "# np.savez('../dm_data/eb_all_10.npz', data=z_pred, train_mask=data['is_train'])"
   ]
  },
  {
   "cell_type": "code",
   "execution_count": null,
   "metadata": {},
   "outputs": [],
   "source": []
  }
 ],
 "metadata": {
  "kernelspec": {
   "display_name": "geosink",
   "language": "python",
   "name": "python3"
  },
  "language_info": {
   "codemirror_mode": {
    "name": "ipython",
    "version": 3
   },
   "file_extension": ".py",
   "mimetype": "text/x-python",
   "name": "python",
   "nbconvert_exporter": "python",
   "pygments_lexer": "ipython3",
   "version": "3.11.5"
  },
  "orig_nbformat": 4
 },
 "nbformat": 4,
 "nbformat_minor": 2
}
