{
 "cells": [
  {
   "cell_type": "code",
   "execution_count": 1,
   "metadata": {},
   "outputs": [],
   "source": [
    "import wandb\n",
    "\n",
    "api = wandb.Api()\n",
    "\n",
    "project_name = \"xingzhis/dmae\"\n",
    "sweep_id = \"toj6zybz\"  # Replace with your actual sweep ID\n",
    "\n",
    "# Query runs within a specific sweep\n",
    "sweep = api.sweep(f\"{project_name}/{sweep_id}\")\n",
    "runs = sweep.runs\n",
    "\n",
    "# Apply the filters to the runs fetched from the sweep\n",
    "filtered_runs = [run for run in runs if run.config.get(\"data.name\") not in [\"sea_ad\", \"sea_ad_heatgeo\"] and\n",
    "                 run.config.get(\"training.match_potential\") == True and\n",
    "                 run.config.get(\"model.layer_widths\") == [256, 128, 64]]\n",
    "\n",
    "for run in filtered_runs:\n",
    "    # Construct a new name based on a hyperparameter or a combination of hyperparameters\n",
    "    # Example: new_name = f\"run_{run.config['some_hyperparameter']}\"\n",
    "    # Replace 'some_hyperparameter' with the actual key you want to use in the name\n",
    "    data_name = run.config.get('data.name')\n",
    "    preproc = run.config.get('data.preprocess')\n",
    "    new_name = f\"{data_name}_{preproc}\"\n",
    "    # Update the run name\n",
    "    # print(run.name)\n",
    "    run.name = new_name\n",
    "    run.update()\n",
    "\n",
    "    # print(new_name)"
   ]
  },
  {
   "cell_type": "code",
   "execution_count": 3,
   "metadata": {},
   "outputs": [],
   "source": [
    "import wandb\n",
    "\n",
    "api = wandb.Api()\n",
    "\n",
    "project_name = \"xingzhis/dmae\"\n",
    "sweep_id = \"2dph8na3\"  # Replace with your actual sweep ID\n",
    "\n",
    "# Query runs within a specific sweep\n",
    "sweep = api.sweep(f\"{project_name}/{sweep_id}\")\n",
    "runs = sweep.runs\n",
    "\n",
    "# Apply the filters to the runs fetched from the sweep\n",
    "filtered_runs = [run for run in runs if run.config.get(\"training.match_potential\") == True and\n",
    "                 run.config.get(\"model.layer_widths\") == [256, 128, 64]]\n",
    "\n",
    "for run in filtered_runs:\n",
    "    # Construct a new name based on a hyperparameter or a combination of hyperparameters\n",
    "    # Example: new_name = f\"run_{run.config['some_hyperparameter']}\"\n",
    "    # Replace 'some_hyperparameter' with the actual key you want to use in the name\n",
    "    data_name = run.config.get('data.name')\n",
    "    preproc = run.config.get('data.preprocess')\n",
    "    new_name = f\"{data_name}_{preproc}\"\n",
    "    # Update the run name\n",
    "    # print(run.name)\n",
    "    run.name = new_name\n",
    "    run.update()\n",
    "\n",
    "    # print(new_name)"
   ]
  },
  {
   "cell_type": "code",
   "execution_count": null,
   "metadata": {},
   "outputs": [],
   "source": []
  }
 ],
 "metadata": {
  "kernelspec": {
   "display_name": "geosink",
   "language": "python",
   "name": "python3"
  },
  "language_info": {
   "codemirror_mode": {
    "name": "ipython",
    "version": 3
   },
   "file_extension": ".py",
   "mimetype": "text/x-python",
   "name": "python",
   "nbconvert_exporter": "python",
   "pygments_lexer": "ipython3",
   "version": "3.11.5"
  },
  "orig_nbformat": 4
 },
 "nbformat": 4,
 "nbformat_minor": 2
}
