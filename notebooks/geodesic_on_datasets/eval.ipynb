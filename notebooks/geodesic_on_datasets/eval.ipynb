{
 "cells": [
  {
   "cell_type": "code",
   "execution_count": 1,
   "metadata": {},
   "outputs": [],
   "source": [
    "import wandb\n",
    "import sys\n",
    "import matplotlib.pyplot as plt\n",
    "import scprep\n",
    "import pandas as pd\n",
    "sys.path.append('../../src/')\n",
    "from train import load_data\n",
    "# from diffusion import DiffusionModel\n",
    "# from evaluate import get_results\n",
    "from omegaconf import OmegaConf\n",
    "# from main import load_data, make_model\n",
    "import numpy as np\n",
    "import os\n",
    "import glob\n",
    "import matplotlib.animation as animation\n",
    "from matplotlib.animation import PillowWriter\n",
    "import torch\n",
    "from model2 import Autoencoder, Preprocessor, Discriminator\n",
    "import magic\n",
    "import torch\n",
    "import pathlib\n",
    "import copy"
   ]
  },
  {
   "cell_type": "code",
   "execution_count": 2,
   "metadata": {},
   "outputs": [],
   "source": [
    "import wandb\n",
    "import sys\n",
    "import matplotlib.pyplot as plt\n",
    "import scprep\n",
    "import pandas as pd\n",
    "from omegaconf import OmegaConf\n",
    "import os\n",
    "import glob\n",
    "import numpy as np\n",
    "import torch\n",
    "from torch import nn\n",
    "import torch.optim as optim\n",
    "from geodesic import jacobian, velocity, CondCurve, GeodesicBridgeOverfit\n",
    "from plotly3d.plot import scatter, trajectories\n",
    "import torch\n",
    "from torch import nn\n",
    "import pytorch_lightning as pl\n",
    "from procrustes import Procrustes\n",
    "from torch.utils.data import DataLoader, TensorDataset"
   ]
  },
  {
   "cell_type": "code",
   "execution_count": 3,
   "metadata": {},
   "outputs": [
    {
     "name": "stderr",
     "output_type": "stream",
     "text": [
      "Failed to detect the name of this notebook, you can set it manually with the WANDB_NOTEBOOK_NAME environment variable to enable code saving.\n",
      "\u001b[34m\u001b[1mwandb\u001b[0m: Currently logged in as: \u001b[33mxingzhis\u001b[0m. Use \u001b[1m`wandb login --relogin`\u001b[0m to force relogin\n"
     ]
    }
   ],
   "source": [
    "wandb.login()\n",
    "api = wandb.Api()"
   ]
  },
  {
   "cell_type": "code",
   "execution_count": 4,
   "metadata": {},
   "outputs": [
    {
     "name": "stderr",
     "output_type": "stream",
     "text": [
      "/gpfs/gibbs/pi/krishnaswamy_smita/xingzhi/.conda_envs/geosink/lib/python3.11/site-packages/pytorch_lightning/utilities/parsing.py:269: UserWarning: Attribute 'preprocessor' is an instance of `nn.Module` and is already saved during checkpointing. It is recommended to ignore them using `self.save_hyperparameters(ignore=['preprocessor'])`.\n",
      "  rank_zero_warn(\n"
     ]
    }
   ],
   "source": [
    "data_name = 'hemisphere_none_0'\n",
    "\n",
    "entity = \"xingzhis\"\n",
    "project = \"dmae\"\n",
    "sweep_id = '59muwbsf'\n",
    "sweep = api.sweep(f\"{entity}/{project}/{sweep_id}\")\n",
    "\n",
    "runs_data = []\n",
    "\n",
    "# Iterate through each run in the sweep\n",
    "for run in sweep.runs:\n",
    "    # Extract metrics and configs\n",
    "    metrics = run.summary._json_dict\n",
    "    configs = run.config\n",
    "    \n",
    "    # Combine metrics and configs, and add run ID\n",
    "    combined_data = {**metrics, **configs, \"run_id\": run.id}\n",
    "    \n",
    "    # Append the combined data to the list\n",
    "    runs_data.append(combined_data)\n",
    "\n",
    "# Create a DataFrame from the runs data\n",
    "df = pd.DataFrame(runs_data)\n",
    "\n",
    "# run_ids = df[(df['data.name'] == data_name) & (df['cfg/loss/weights/cycle'] == 1.) & (df['cfg/dimensions/latent'] == 3)]['run_id']\n",
    "run_ids = df[(df['data.name'] == data_name) & (df['loss.weights.cycle'] == 1.0) & (df['dimensions.latent'] == 3)]['run_id']\n",
    "assert len(run_ids) == 1\n",
    "run_id = run_ids.iloc[0]\n",
    "run = api.run(f\"{entity}/{project}/{run_id}\")\n",
    "# run = api.run(f\"{entity}/{project}/{run_id}\")\n",
    "folder_path = '../../src/wandb/'\n",
    "cfg = OmegaConf.create(run.config)\n",
    "folder_list = glob.glob(f\"{folder_path}*{run.id}*\")\n",
    "ckpt_files = glob.glob(f\"{folder_list[0]}/files/*.ckpt\")\n",
    "ckpt_path = ckpt_files[0]\n",
    "cfg.data.root = '../' + cfg.data.root\n",
    "model = Autoencoder.load_from_checkpoint(ckpt_path)\n",
    "data = np.load(f\"{cfg.data.root}/{cfg.data.name}{cfg.data.filetype}\", allow_pickle=True)"
   ]
  },
  {
   "cell_type": "code",
   "execution_count": 5,
   "metadata": {},
   "outputs": [
    {
     "name": "stderr",
     "output_type": "stream",
     "text": [
      "/gpfs/gibbs/pi/krishnaswamy_smita/xingzhi/.conda_envs/geosink/lib/python3.11/site-packages/pytorch_lightning/utilities/parsing.py:269: UserWarning: Attribute 'preprocessor' is an instance of `nn.Module` and is already saved during checkpointing. It is recommended to ignore them using `self.save_hyperparameters(ignore=['preprocessor'])`.\n",
      "  rank_zero_warn(\n"
     ]
    }
   ],
   "source": [
    "sweep_id = 'ywep3ixr'\n",
    "sweep = api.sweep(f\"{entity}/{project}/{sweep_id}\")\n",
    "# Initialize an empty list to store run data\n",
    "runs_data = []\n",
    "\n",
    "# Iterate through each run in the sweep\n",
    "for run in sweep.runs:\n",
    "    # Extract metrics and configs\n",
    "    metrics = run.summary._json_dict\n",
    "    configs = run.config\n",
    "    \n",
    "    # Combine metrics and configs, and add run ID\n",
    "    combined_data = {**metrics, **configs, \"run_id\": run.id}\n",
    "    \n",
    "    # Append the combined data to the list\n",
    "    runs_data.append(combined_data)\n",
    "\n",
    "# Create a DataFrame from the runs data\n",
    "df = pd.DataFrame(runs_data)\n",
    "run_ids = df[(df['data.name'] == data_name)][['run_id']]\n",
    "assert len(run_ids) == 1\n",
    "run_id = run_ids.iloc[0]\n",
    "run = api.run(f\"{entity}/{project}/{run_ids.iloc[0].values[0]}\")\n",
    "folder_path = '../../src/wandb/'\n",
    "cfg = OmegaConf.create(run.config)\n",
    "folder_list = glob.glob(f\"{folder_path}*{run.id}*\")\n",
    "ckpt_files = glob.glob(f\"{folder_list[0]}/files/*.ckpt\")\n",
    "ckpt_path = ckpt_files[0]\n",
    "cfg.data.root = '../' + cfg.data.root\n",
    "discriminator = Discriminator.load_from_checkpoint(ckpt_path)"
   ]
  },
  {
   "cell_type": "code",
   "execution_count": 6,
   "metadata": {},
   "outputs": [],
   "source": [
    "entity = \"xingzhis\"\n",
    "project = \"dmae\"\n",
    "sweep_id = '413aez4p'\n",
    "sweep = api.sweep(f\"{entity}/{project}/{sweep_id}\")"
   ]
  },
  {
   "cell_type": "code",
   "execution_count": 7,
   "metadata": {},
   "outputs": [],
   "source": [
    "runs_data = []\n",
    "\n",
    "# Iterate through each run in the sweep\n",
    "for run in sweep.runs:\n",
    "    # Extract metrics and configs\n",
    "    metrics = run.summary._json_dict\n",
    "    configs = run.config\n",
    "    \n",
    "    # Combine metrics and configs, and add run ID\n",
    "    combined_data = {**metrics, **configs, \"run_id\": run.id}\n",
    "    \n",
    "    # Append the combined data to the list\n",
    "    runs_data.append(combined_data)\n",
    "\n",
    "# Create a DataFrame from the runs data\n",
    "df = pd.DataFrame(runs_data)"
   ]
  },
  {
   "cell_type": "code",
   "execution_count": 8,
   "metadata": {},
   "outputs": [],
   "source": [
    "# df.columns"
   ]
  },
  {
   "cell_type": "code",
   "execution_count": 9,
   "metadata": {},
   "outputs": [],
   "source": [
    "# df[(df['loss_epoch']!='NaN') & (df['overfit']==False)][['data_name', 'loss_epoch', 'overfit']]"
   ]
  },
  {
   "cell_type": "code",
   "execution_count": 10,
   "metadata": {},
   "outputs": [],
   "source": [
    "if data_name.startswith('hemisphere'):\n",
    "    data_gt = np.load(f\"../../data/gt_geodesic/{data_name}.npz\", allow_pickle=True)\n",
    "else:\n",
    "    data_gt = np.load(f\"../../data/gt_geodesic_w_geod//{data_name}.npz\", allow_pickle=True)"
   ]
  },
  {
   "cell_type": "code",
   "execution_count": 12,
   "metadata": {},
   "outputs": [],
   "source": [
    "run_ids = df[(df['data_name'] == data_name) & (df['overfit'] == False) & (df['loss_epoch'] != 'NaN')]['run_id']\n",
    "assert len(run_ids) == 1\n",
    "run_id = run_ids.iloc[0]\n",
    "run = api.run(f\"{entity}/{project}/{run_id}\")\n",
    "cfg_main = OmegaConf.create(run.config)\n",
    "folder_path = './wandb/'\n",
    "folder_list = glob.glob(f\"{folder_path}*{run.id}*\")\n",
    "ckpt_files = glob.glob(f\"{folder_list[0]}/files/*.ckpt\")\n",
    "ckpt_path = ckpt_files[0]"
   ]
  },
  {
   "cell_type": "code",
   "execution_count": 13,
   "metadata": {},
   "outputs": [],
   "source": [
    "x = torch.tensor(data['data'], dtype=torch.float32, device=model.device)\n",
    "xbatch = torch.tensor(data['start_points'], dtype=x.dtype, device=x.device)\n",
    "xendbatch = torch.tensor(data['end_points'], dtype=x.dtype, device=x.device)\n",
    "xbatch = model.encoder.preprocessor.normalize(xbatch)\n",
    "xendbatch = model.encoder.preprocessor.normalize(xendbatch)\n",
    "if cfg_main.overfit:\n",
    "    ids = torch.eye(xbatch.size(0))\n",
    "else:\n",
    "    ids = torch.zeros((xbatch.size(0),1))\n",
    "dataset = TensorDataset(xbatch, xendbatch, ids)\n",
    "dataloader = DataLoader(dataset, batch_size=len(x), shuffle=False)"
   ]
  },
  {
   "cell_type": "code",
   "execution_count": null,
   "metadata": {},
   "outputs": [],
   "source": []
  },
  {
   "cell_type": "code",
   "execution_count": 14,
   "metadata": {},
   "outputs": [],
   "source": [
    "for param in model.encoder.parameters():\n",
    "    param.requires_grad = False\n",
    "def func(x):\n",
    "    return model.encoder(x)\n",
    "for param in discriminator.parameters():\n",
    "    param.requires_grad = False\n",
    "def discriminator_func_for_grad(x):\n",
    "    return discriminator.positive_proba(x, normalize=False).reshape(-1,1)\n",
    "def discriminator_func(x):\n",
    "    return discriminator.positive_proba(x, normalize=False).reshape(-1,1)\n",
    "\n",
    "gbmodel = GeodesicBridgeOverfit.load_from_checkpoint(\n",
    "    checkpoint_path=ckpt_path,\n",
    "    func=func,\n",
    "    input_dim=x.size(1), \n",
    "    hidden_dim=32, \n",
    "    scale_factor=1, \n",
    "    symmetric=True, \n",
    "    num_layers=2, \n",
    "    n_tsteps=20, \n",
    "    lr=1e-3, \n",
    "    weight_decay=1e-5,\n",
    "    discriminator_func_for_grad=discriminator_func_for_grad,\n",
    "    discriminator_func_for_grad_weight=4.,\n",
    "    length_weight=0.,\n",
    "    discriminator_func=discriminator_func,\n",
    "    discriminator_weight=8.,\n",
    "    points_penalty_alpha=4.,\n",
    "    density_weight=0.,\n",
    "    n_topk=10,\n",
    "    points_penalty_power=4,\n",
    "    points_penalty_density=False,\n",
    "    points_penalty_disc=False,\n",
    "    points_penalty_grad=True,\n",
    "    disc_use_max=False,\n",
    "    id_dim=20 if cfg_main.overfit else 1,  # learn an embedding for each curve, to overfit the model to each curve.\n",
    "    id_emb_dim=8 if cfg_main.overfit else 1,\n",
    "    multiply_loss=True,\n",
    "    # multiply_loss=False,\n",
    "    cc_k=2,\n",
    "    data_pts=x\n",
    ")\n"
   ]
  },
  {
   "cell_type": "code",
   "execution_count": 15,
   "metadata": {},
   "outputs": [],
   "source": [
    "batch = next(iter(dataloader))"
   ]
  },
  {
   "cell_type": "code",
   "execution_count": 16,
   "metadata": {},
   "outputs": [],
   "source": [
    "x0, x1, ids = batch\n",
    "def cc_func(x0, x1, t):\n",
    "    return gbmodel.cc(x0, x1, t, ids)\n",
    "vectors = velocity(cc_func, gbmodel.ts, x0, x1)\n",
    "cc_pts = gbmodel.cc(x0, x1, gbmodel.ts, ids)\n",
    "vectors_flat = vectors.flatten(0,1)\n",
    "cc_pts_flat = cc_pts.flatten(0, 1)\n",
    "jac_flat = jacobian(gbmodel.func, cc_pts_flat)\n",
    "# length_all = torch.sqrt((torch.einsum(\"nij,nj->ni\", jac_flat, vectors_flat)**2).sum(axis=1))\n",
    "# length_all = length_all.reshape(vectors.shape[0], vectors.shape[1])\n",
    "# length = length_all.mean(axis=0)"
   ]
  },
  {
   "cell_type": "code",
   "execution_count": 17,
   "metadata": {},
   "outputs": [],
   "source": [
    "geods = model.encoder.preprocessor.unnormalize(cc_pts_flat).reshape(cc_pts.shape)"
   ]
  },
  {
   "cell_type": "code",
   "execution_count": 48,
   "metadata": {},
   "outputs": [],
   "source": [
    "length2 = torch.sqrt(torch.diff(geods, axis=0)**2).sum(axis=-1).sum(axis=0)/2"
   ]
  },
  {
   "cell_type": "code",
   "execution_count": 42,
   "metadata": {},
   "outputs": [],
   "source": [
    "import matplotlib.pyplot as plt"
   ]
  },
  {
   "cell_type": "code",
   "execution_count": 43,
   "metadata": {},
   "outputs": [
    {
     "data": {
      "image/png": "[encoded data removed]",
      "text/plain": [
       "<Figure size 640x480 with 1 Axes>"
      ]
     },
     "metadata": {},
     "output_type": "display_data"
    }
   ],
   "source": [
    "plt.scatter(length.detach().numpy(), data_gt['geodesic_lengths'])\n",
    "plt.show()"
   ]
  },
  {
   "cell_type": "code",
   "execution_count": 49,
   "metadata": {},
   "outputs": [
    {
     "data": {
      "image/png": "[encoded data removed]",
      "text/plain": [
       "<Figure size 640x480 with 1 Axes>"
      ]
     },
     "metadata": {},
     "output_type": "display_data"
    }
   ],
   "source": [
    "plt.scatter(length2.detach().numpy(), data_gt['geodesic_lengths'])\n",
    "plt.show()"
   ]
  },
  {
   "cell_type": "code",
   "execution_count": 51,
   "metadata": {},
   "outputs": [
    {
     "data": {
      "text/plain": [
       "0.7196097641619222"
      ]
     },
     "execution_count": 51,
     "metadata": {},
     "output_type": "execute_result"
    }
   ],
   "source": [
    "np.corrcoef(length2.detach().numpy(), data_gt['geodesic_lengths'])[0,1]"
   ]
  },
  {
   "cell_type": "code",
   "execution_count": 55,
   "metadata": {},
   "outputs": [
    {
     "data": {
      "text/plain": [
       "0.12817807313902713"
      ]
     },
     "execution_count": 55,
     "metadata": {},
     "output_type": "execute_result"
    }
   ],
   "source": [
    "((length2.detach().numpy() - data_gt['geodesic_lengths'])**2).mean()"
   ]
  },
  {
   "cell_type": "code",
   "execution_count": 25,
   "metadata": {},
   "outputs": [],
   "source": [
    "def _distance_to_geodesic_criterion(predicted_geodesic, true_geodesic):\n",
    "    # the inputs here are single samples from a geodesic; should be shape num_samples x num_dims\n",
    "    # for each input point, we want the closest distance to any point on the true geodesic using the euclidean distance, torch.cdist\n",
    "    D = torch.cdist(predicted_geodesic, true_geodesic)\n",
    "    min_dists_to_true_geodesic = D.min(dim=1)[0]\n",
    "    # we take the mean of the squared distances\n",
    "    return torch.mean(min_dists_to_true_geodesic**2)\n",
    "def distance_to_geodesic_criterion(\n",
    "    predicted_geodesic:torch.Tensor, # size num_geodesics x num_samples x num_dims\n",
    "    true_geodesic:torch.Tensor, # size num_geodesics num_samples x num_dims. But it's okay if the num_samples are different\n",
    "    ):\n",
    "    \"\"\"\n",
    "    Mean of the squared distances from each predicted point to the closest point on the true geodesic\n",
    "    \"\"\"\n",
    "    dists = []\n",
    "    for i in range(predicted_geodesic.shape[0]):\n",
    "        dists.append(_distance_to_geodesic_criterion(predicted_geodesic[i], true_geodesic[i]))\n",
    "    dists = torch.stack(dists)\n",
    "    return dists.mean()"
   ]
  },
  {
   "cell_type": "code",
   "execution_count": 26,
   "metadata": {},
   "outputs": [
    {
     "data": {
      "text/plain": [
       "tensor(0.7937, grad_fn=<MeanBackward0>)"
      ]
     },
     "execution_count": 26,
     "metadata": {},
     "output_type": "execute_result"
    }
   ],
   "source": [
    "distance_to_geodesic_criterion(geods, torch.tensor(data_gt['geodesics'], dtype=torch.float32))"
   ]
  },
  {
   "cell_type": "code",
   "execution_count": null,
   "metadata": {},
   "outputs": [],
   "source": []
  }
 ],
 "metadata": {
  "kernelspec": {
   "display_name": "geosink",
   "language": "python",
   "name": "python3"
  },
  "language_info": {
   "codemirror_mode": {
    "name": "ipython",
    "version": 3
   },
   "file_extension": ".py",
   "mimetype": "text/x-python",
   "name": "python",
   "nbconvert_exporter": "python",
   "pygments_lexer": "ipython3",
   "version": "3.11.5"
  },
  "orig_nbformat": 4
 },
 "nbformat": 4,
 "nbformat_minor": 2
}
