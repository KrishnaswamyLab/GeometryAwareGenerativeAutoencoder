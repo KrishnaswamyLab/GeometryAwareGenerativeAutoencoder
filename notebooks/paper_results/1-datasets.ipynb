{
 "cells": [
  {
   "cell_type": "markdown",
   "metadata": {},
   "source": [
    "Format"
   ]
  },
  {
   "cell_type": "markdown",
   "metadata": {},
   "source": [
    "(for ae & geodesic)   \n",
    "data   \n",
    "data_gt   \n",
    "~~colors~~   \n",
    "dist   \n",
    "~~phate~~   \n",
    "is_train   \n",
    "start_points   \n",
    "end_points   \n",
    "geodesics   \n",
    "geodesic_lengths"
   ]
  },
  {
   "cell_type": "markdown",
   "metadata": {},
   "source": [
    "(for negative sampling)   \n",
    "data   \n",
    "dist   \n",
    "mask_x   \n",
    "is_train   "
   ]
  },
  {
   "cell_type": "markdown",
   "metadata": {},
   "source": [
    "data\n",
    "1. Toy\n",
    "2. Splatter\n",
    "3. EB\n",
    "4. others from previous papers (IPSC, BMMC, ...) if have time"
   ]
  },
  {
   "cell_type": "code",
   "execution_count": 5,
   "metadata": {},
   "outputs": [],
   "source": [
    "toy_path = '/gpfs/gibbs/pi/krishnaswamy_smita/xingzhi/dmae/data/neurips_results/toy'"
   ]
  },
  {
   "cell_type": "code",
   "execution_count": 6,
   "metadata": {},
   "outputs": [],
   "source": [
    "data_names = []\n",
    "for name in ['ellipsoid', 'hemisphere', 'saddle', 'torus']:\n",
    "    dim = 15\n",
    "    for noise in [0,0.1,0.3,0.5,0.7]:\n",
    "        data_names.append(f'{name}_{dim}_{noise}')\n",
    "    noise = 0.1\n",
    "    for dim in ['none', 5, 10, 15, 50]:\n",
    "        data_names.append(f'{name}_{dim}_{noise}')"
   ]
  },
  {
   "cell_type": "code",
   "execution_count": 7,
   "metadata": {},
   "outputs": [
    {
     "name": "stdout",
     "output_type": "stream",
     "text": [
      "cd /gpfs/gibbs/pi/krishnaswamy_smita/xingzhi/dmae/notebooks/datasets_with_geodesic/; /gpfs/gibbs/pi/krishnaswamy_smita/xingzhi/.conda_envs/geosink/bin/python neg_samp.py --data_name ellipsoid_15_0.npz\n",
      "cd /gpfs/gibbs/pi/krishnaswamy_smita/xingzhi/dmae/notebooks/datasets_with_geodesic/; /gpfs/gibbs/pi/krishnaswamy_smita/xingzhi/.conda_envs/geosink/bin/python neg_samp.py --data_name ellipsoid_15_0.1.npz\n",
      "cd /gpfs/gibbs/pi/krishnaswamy_smita/xingzhi/dmae/notebooks/datasets_with_geodesic/; /gpfs/gibbs/pi/krishnaswamy_smita/xingzhi/.conda_envs/geosink/bin/python neg_samp.py --data_name ellipsoid_15_0.3.npz\n",
      "cd /gpfs/gibbs/pi/krishnaswamy_smita/xingzhi/dmae/notebooks/datasets_with_geodesic/; /gpfs/gibbs/pi/krishnaswamy_smita/xingzhi/.conda_envs/geosink/bin/python neg_samp.py --data_name ellipsoid_15_0.5.npz\n",
      "cd /gpfs/gibbs/pi/krishnaswamy_smita/xingzhi/dmae/notebooks/datasets_with_geodesic/; /gpfs/gibbs/pi/krishnaswamy_smita/xingzhi/.conda_envs/geosink/bin/python neg_samp.py --data_name ellipsoid_15_0.7.npz\n",
      "cd /gpfs/gibbs/pi/krishnaswamy_smita/xingzhi/dmae/notebooks/datasets_with_geodesic/; /gpfs/gibbs/pi/krishnaswamy_smita/xingzhi/.conda_envs/geosink/bin/python neg_samp.py --data_name ellipsoid_none_0.1.npz\n",
      "cd /gpfs/gibbs/pi/krishnaswamy_smita/xingzhi/dmae/notebooks/datasets_with_geodesic/; /gpfs/gibbs/pi/krishnaswamy_smita/xingzhi/.conda_envs/geosink/bin/python neg_samp.py --data_name ellipsoid_5_0.1.npz\n",
      "cd /gpfs/gibbs/pi/krishnaswamy_smita/xingzhi/dmae/notebooks/datasets_with_geodesic/; /gpfs/gibbs/pi/krishnaswamy_smita/xingzhi/.conda_envs/geosink/bin/python neg_samp.py --data_name ellipsoid_10_0.1.npz\n",
      "cd /gpfs/gibbs/pi/krishnaswamy_smita/xingzhi/dmae/notebooks/datasets_with_geodesic/; /gpfs/gibbs/pi/krishnaswamy_smita/xingzhi/.conda_envs/geosink/bin/python neg_samp.py --data_name ellipsoid_15_0.1.npz\n",
      "cd /gpfs/gibbs/pi/krishnaswamy_smita/xingzhi/dmae/notebooks/datasets_with_geodesic/; /gpfs/gibbs/pi/krishnaswamy_smita/xingzhi/.conda_envs/geosink/bin/python neg_samp.py --data_name ellipsoid_50_0.1.npz\n",
      "cd /gpfs/gibbs/pi/krishnaswamy_smita/xingzhi/dmae/notebooks/datasets_with_geodesic/; /gpfs/gibbs/pi/krishnaswamy_smita/xingzhi/.conda_envs/geosink/bin/python neg_samp.py --data_name hemisphere_15_0.npz\n",
      "cd /gpfs/gibbs/pi/krishnaswamy_smita/xingzhi/dmae/notebooks/datasets_with_geodesic/; /gpfs/gibbs/pi/krishnaswamy_smita/xingzhi/.conda_envs/geosink/bin/python neg_samp.py --data_name hemisphere_15_0.1.npz\n",
      "cd /gpfs/gibbs/pi/krishnaswamy_smita/xingzhi/dmae/notebooks/datasets_with_geodesic/; /gpfs/gibbs/pi/krishnaswamy_smita/xingzhi/.conda_envs/geosink/bin/python neg_samp.py --data_name hemisphere_15_0.3.npz\n",
      "cd /gpfs/gibbs/pi/krishnaswamy_smita/xingzhi/dmae/notebooks/datasets_with_geodesic/; /gpfs/gibbs/pi/krishnaswamy_smita/xingzhi/.conda_envs/geosink/bin/python neg_samp.py --data_name hemisphere_15_0.5.npz\n",
      "cd /gpfs/gibbs/pi/krishnaswamy_smita/xingzhi/dmae/notebooks/datasets_with_geodesic/; /gpfs/gibbs/pi/krishnaswamy_smita/xingzhi/.conda_envs/geosink/bin/python neg_samp.py --data_name hemisphere_15_0.7.npz\n",
      "cd /gpfs/gibbs/pi/krishnaswamy_smita/xingzhi/dmae/notebooks/datasets_with_geodesic/; /gpfs/gibbs/pi/krishnaswamy_smita/xingzhi/.conda_envs/geosink/bin/python neg_samp.py --data_name hemisphere_none_0.1.npz\n",
      "cd /gpfs/gibbs/pi/krishnaswamy_smita/xingzhi/dmae/notebooks/datasets_with_geodesic/; /gpfs/gibbs/pi/krishnaswamy_smita/xingzhi/.conda_envs/geosink/bin/python neg_samp.py --data_name hemisphere_5_0.1.npz\n",
      "cd /gpfs/gibbs/pi/krishnaswamy_smita/xingzhi/dmae/notebooks/datasets_with_geodesic/; /gpfs/gibbs/pi/krishnaswamy_smita/xingzhi/.conda_envs/geosink/bin/python neg_samp.py --data_name hemisphere_10_0.1.npz\n",
      "cd /gpfs/gibbs/pi/krishnaswamy_smita/xingzhi/dmae/notebooks/datasets_with_geodesic/; /gpfs/gibbs/pi/krishnaswamy_smita/xingzhi/.conda_envs/geosink/bin/python neg_samp.py --data_name hemisphere_15_0.1.npz\n",
      "cd /gpfs/gibbs/pi/krishnaswamy_smita/xingzhi/dmae/notebooks/datasets_with_geodesic/; /gpfs/gibbs/pi/krishnaswamy_smita/xingzhi/.conda_envs/geosink/bin/python neg_samp.py --data_name hemisphere_50_0.1.npz\n",
      "cd /gpfs/gibbs/pi/krishnaswamy_smita/xingzhi/dmae/notebooks/datasets_with_geodesic/; /gpfs/gibbs/pi/krishnaswamy_smita/xingzhi/.conda_envs/geosink/bin/python neg_samp.py --data_name saddle_15_0.npz\n",
      "cd /gpfs/gibbs/pi/krishnaswamy_smita/xingzhi/dmae/notebooks/datasets_with_geodesic/; /gpfs/gibbs/pi/krishnaswamy_smita/xingzhi/.conda_envs/geosink/bin/python neg_samp.py --data_name saddle_15_0.1.npz\n",
      "cd /gpfs/gibbs/pi/krishnaswamy_smita/xingzhi/dmae/notebooks/datasets_with_geodesic/; /gpfs/gibbs/pi/krishnaswamy_smita/xingzhi/.conda_envs/geosink/bin/python neg_samp.py --data_name saddle_15_0.3.npz\n",
      "cd /gpfs/gibbs/pi/krishnaswamy_smita/xingzhi/dmae/notebooks/datasets_with_geodesic/; /gpfs/gibbs/pi/krishnaswamy_smita/xingzhi/.conda_envs/geosink/bin/python neg_samp.py --data_name saddle_15_0.5.npz\n",
      "cd /gpfs/gibbs/pi/krishnaswamy_smita/xingzhi/dmae/notebooks/datasets_with_geodesic/; /gpfs/gibbs/pi/krishnaswamy_smita/xingzhi/.conda_envs/geosink/bin/python neg_samp.py --data_name saddle_15_0.7.npz\n",
      "cd /gpfs/gibbs/pi/krishnaswamy_smita/xingzhi/dmae/notebooks/datasets_with_geodesic/; /gpfs/gibbs/pi/krishnaswamy_smita/xingzhi/.conda_envs/geosink/bin/python neg_samp.py --data_name saddle_none_0.1.npz\n",
      "cd /gpfs/gibbs/pi/krishnaswamy_smita/xingzhi/dmae/notebooks/datasets_with_geodesic/; /gpfs/gibbs/pi/krishnaswamy_smita/xingzhi/.conda_envs/geosink/bin/python neg_samp.py --data_name saddle_5_0.1.npz\n",
      "cd /gpfs/gibbs/pi/krishnaswamy_smita/xingzhi/dmae/notebooks/datasets_with_geodesic/; /gpfs/gibbs/pi/krishnaswamy_smita/xingzhi/.conda_envs/geosink/bin/python neg_samp.py --data_name saddle_10_0.1.npz\n",
      "cd /gpfs/gibbs/pi/krishnaswamy_smita/xingzhi/dmae/notebooks/datasets_with_geodesic/; /gpfs/gibbs/pi/krishnaswamy_smita/xingzhi/.conda_envs/geosink/bin/python neg_samp.py --data_name saddle_15_0.1.npz\n",
      "cd /gpfs/gibbs/pi/krishnaswamy_smita/xingzhi/dmae/notebooks/datasets_with_geodesic/; /gpfs/gibbs/pi/krishnaswamy_smita/xingzhi/.conda_envs/geosink/bin/python neg_samp.py --data_name saddle_50_0.1.npz\n",
      "cd /gpfs/gibbs/pi/krishnaswamy_smita/xingzhi/dmae/notebooks/datasets_with_geodesic/; /gpfs/gibbs/pi/krishnaswamy_smita/xingzhi/.conda_envs/geosink/bin/python neg_samp.py --data_name torus_15_0.npz\n",
      "cd /gpfs/gibbs/pi/krishnaswamy_smita/xingzhi/dmae/notebooks/datasets_with_geodesic/; /gpfs/gibbs/pi/krishnaswamy_smita/xingzhi/.conda_envs/geosink/bin/python neg_samp.py --data_name torus_15_0.1.npz\n",
      "cd /gpfs/gibbs/pi/krishnaswamy_smita/xingzhi/dmae/notebooks/datasets_with_geodesic/; /gpfs/gibbs/pi/krishnaswamy_smita/xingzhi/.conda_envs/geosink/bin/python neg_samp.py --data_name torus_15_0.3.npz\n",
      "cd /gpfs/gibbs/pi/krishnaswamy_smita/xingzhi/dmae/notebooks/datasets_with_geodesic/; /gpfs/gibbs/pi/krishnaswamy_smita/xingzhi/.conda_envs/geosink/bin/python neg_samp.py --data_name torus_15_0.5.npz\n",
      "cd /gpfs/gibbs/pi/krishnaswamy_smita/xingzhi/dmae/notebooks/datasets_with_geodesic/; /gpfs/gibbs/pi/krishnaswamy_smita/xingzhi/.conda_envs/geosink/bin/python neg_samp.py --data_name torus_15_0.7.npz\n",
      "cd /gpfs/gibbs/pi/krishnaswamy_smita/xingzhi/dmae/notebooks/datasets_with_geodesic/; /gpfs/gibbs/pi/krishnaswamy_smita/xingzhi/.conda_envs/geosink/bin/python neg_samp.py --data_name torus_none_0.1.npz\n",
      "cd /gpfs/gibbs/pi/krishnaswamy_smita/xingzhi/dmae/notebooks/datasets_with_geodesic/; /gpfs/gibbs/pi/krishnaswamy_smita/xingzhi/.conda_envs/geosink/bin/python neg_samp.py --data_name torus_5_0.1.npz\n",
      "cd /gpfs/gibbs/pi/krishnaswamy_smita/xingzhi/dmae/notebooks/datasets_with_geodesic/; /gpfs/gibbs/pi/krishnaswamy_smita/xingzhi/.conda_envs/geosink/bin/python neg_samp.py --data_name torus_10_0.1.npz\n",
      "cd /gpfs/gibbs/pi/krishnaswamy_smita/xingzhi/dmae/notebooks/datasets_with_geodesic/; /gpfs/gibbs/pi/krishnaswamy_smita/xingzhi/.conda_envs/geosink/bin/python neg_samp.py --data_name torus_15_0.1.npz\n",
      "cd /gpfs/gibbs/pi/krishnaswamy_smita/xingzhi/dmae/notebooks/datasets_with_geodesic/; /gpfs/gibbs/pi/krishnaswamy_smita/xingzhi/.conda_envs/geosink/bin/python neg_samp.py --data_name torus_50_0.1.npz\n"
     ]
    }
   ],
   "source": [
    "for dn in data_names:\n",
    "    print(f\"cd /gpfs/gibbs/pi/krishnaswamy_smita/xingzhi/dmae/notebooks/datasets_with_geodesic/; /gpfs/gibbs/pi/krishnaswamy_smita/xingzhi/.conda_envs/geosink/bin/python neg_samp.py --data_name {dn}.npz\")"
   ]
  },
  {
   "cell_type": "code",
   "execution_count": 8,
   "metadata": {},
   "outputs": [
    {
     "data": {
      "text/plain": [
       "['ellipsoid_15_0',\n",
       " 'ellipsoid_15_0.1',\n",
       " 'ellipsoid_15_0.3',\n",
       " 'ellipsoid_15_0.5',\n",
       " 'ellipsoid_15_0.7',\n",
       " 'ellipsoid_none_0.1',\n",
       " 'ellipsoid_5_0.1',\n",
       " 'ellipsoid_10_0.1',\n",
       " 'ellipsoid_15_0.1',\n",
       " 'ellipsoid_50_0.1',\n",
       " 'hemisphere_15_0',\n",
       " 'hemisphere_15_0.1',\n",
       " 'hemisphere_15_0.3',\n",
       " 'hemisphere_15_0.5',\n",
       " 'hemisphere_15_0.7',\n",
       " 'hemisphere_none_0.1',\n",
       " 'hemisphere_5_0.1',\n",
       " 'hemisphere_10_0.1',\n",
       " 'hemisphere_15_0.1',\n",
       " 'hemisphere_50_0.1',\n",
       " 'saddle_15_0',\n",
       " 'saddle_15_0.1',\n",
       " 'saddle_15_0.3',\n",
       " 'saddle_15_0.5',\n",
       " 'saddle_15_0.7',\n",
       " 'saddle_none_0.1',\n",
       " 'saddle_5_0.1',\n",
       " 'saddle_10_0.1',\n",
       " 'saddle_15_0.1',\n",
       " 'saddle_50_0.1',\n",
       " 'torus_15_0',\n",
       " 'torus_15_0.1',\n",
       " 'torus_15_0.3',\n",
       " 'torus_15_0.5',\n",
       " 'torus_15_0.7',\n",
       " 'torus_none_0.1',\n",
       " 'torus_5_0.1',\n",
       " 'torus_10_0.1',\n",
       " 'torus_15_0.1',\n",
       " 'torus_50_0.1']"
      ]
     },
     "execution_count": 8,
     "metadata": {},
     "output_type": "execute_result"
    }
   ],
   "source": [
    "data_names"
   ]
  },
  {
   "cell_type": "code",
   "execution_count": 5,
   "metadata": {},
   "outputs": [],
   "source": [
    "data_names = []\n",
    "for name in ['ellipsoid', 'hemisphere', 'saddle', 'torus']:\n",
    "    dim = 15\n",
    "    for noise in [0,0.1,0.3,0.5,0.7]:\n",
    "        data_names.append(f'{name}_{dim}_{noise}')\n",
    "    noise = 0.1\n",
    "    for dim in ['none']:\n",
    "        data_names.append(f'{name}_{dim}_{noise}')"
   ]
  },
  {
   "cell_type": "code",
   "execution_count": 6,
   "metadata": {},
   "outputs": [
    {
     "name": "stdout",
     "output_type": "stream",
     "text": [
      "cd /gpfs/gibbs/pi/krishnaswamy_smita/xingzhi/dmae/notebooks/datasets_with_geodesic/; /gpfs/gibbs/pi/krishnaswamy_smita/xingzhi/.conda_envs/geosink/bin/python neg_samp.py --data_name ellipsoid_15_0.npz\n",
      "cd /gpfs/gibbs/pi/krishnaswamy_smita/xingzhi/dmae/notebooks/datasets_with_geodesic/; /gpfs/gibbs/pi/krishnaswamy_smita/xingzhi/.conda_envs/geosink/bin/python neg_samp.py --data_name ellipsoid_15_0.1.npz\n",
      "cd /gpfs/gibbs/pi/krishnaswamy_smita/xingzhi/dmae/notebooks/datasets_with_geodesic/; /gpfs/gibbs/pi/krishnaswamy_smita/xingzhi/.conda_envs/geosink/bin/python neg_samp.py --data_name ellipsoid_15_0.3.npz\n",
      "cd /gpfs/gibbs/pi/krishnaswamy_smita/xingzhi/dmae/notebooks/datasets_with_geodesic/; /gpfs/gibbs/pi/krishnaswamy_smita/xingzhi/.conda_envs/geosink/bin/python neg_samp.py --data_name ellipsoid_15_0.5.npz\n",
      "cd /gpfs/gibbs/pi/krishnaswamy_smita/xingzhi/dmae/notebooks/datasets_with_geodesic/; /gpfs/gibbs/pi/krishnaswamy_smita/xingzhi/.conda_envs/geosink/bin/python neg_samp.py --data_name ellipsoid_15_0.7.npz\n",
      "cd /gpfs/gibbs/pi/krishnaswamy_smita/xingzhi/dmae/notebooks/datasets_with_geodesic/; /gpfs/gibbs/pi/krishnaswamy_smita/xingzhi/.conda_envs/geosink/bin/python neg_samp.py --data_name ellipsoid_none_0.1.npz\n",
      "cd /gpfs/gibbs/pi/krishnaswamy_smita/xingzhi/dmae/notebooks/datasets_with_geodesic/; /gpfs/gibbs/pi/krishnaswamy_smita/xingzhi/.conda_envs/geosink/bin/python neg_samp.py --data_name hemisphere_15_0.npz\n",
      "cd /gpfs/gibbs/pi/krishnaswamy_smita/xingzhi/dmae/notebooks/datasets_with_geodesic/; /gpfs/gibbs/pi/krishnaswamy_smita/xingzhi/.conda_envs/geosink/bin/python neg_samp.py --data_name hemisphere_15_0.1.npz\n",
      "cd /gpfs/gibbs/pi/krishnaswamy_smita/xingzhi/dmae/notebooks/datasets_with_geodesic/; /gpfs/gibbs/pi/krishnaswamy_smita/xingzhi/.conda_envs/geosink/bin/python neg_samp.py --data_name hemisphere_15_0.3.npz\n",
      "cd /gpfs/gibbs/pi/krishnaswamy_smita/xingzhi/dmae/notebooks/datasets_with_geodesic/; /gpfs/gibbs/pi/krishnaswamy_smita/xingzhi/.conda_envs/geosink/bin/python neg_samp.py --data_name hemisphere_15_0.5.npz\n",
      "cd /gpfs/gibbs/pi/krishnaswamy_smita/xingzhi/dmae/notebooks/datasets_with_geodesic/; /gpfs/gibbs/pi/krishnaswamy_smita/xingzhi/.conda_envs/geosink/bin/python neg_samp.py --data_name hemisphere_15_0.7.npz\n",
      "cd /gpfs/gibbs/pi/krishnaswamy_smita/xingzhi/dmae/notebooks/datasets_with_geodesic/; /gpfs/gibbs/pi/krishnaswamy_smita/xingzhi/.conda_envs/geosink/bin/python neg_samp.py --data_name hemisphere_none_0.1.npz\n",
      "cd /gpfs/gibbs/pi/krishnaswamy_smita/xingzhi/dmae/notebooks/datasets_with_geodesic/; /gpfs/gibbs/pi/krishnaswamy_smita/xingzhi/.conda_envs/geosink/bin/python neg_samp.py --data_name saddle_15_0.npz\n",
      "cd /gpfs/gibbs/pi/krishnaswamy_smita/xingzhi/dmae/notebooks/datasets_with_geodesic/; /gpfs/gibbs/pi/krishnaswamy_smita/xingzhi/.conda_envs/geosink/bin/python neg_samp.py --data_name saddle_15_0.1.npz\n",
      "cd /gpfs/gibbs/pi/krishnaswamy_smita/xingzhi/dmae/notebooks/datasets_with_geodesic/; /gpfs/gibbs/pi/krishnaswamy_smita/xingzhi/.conda_envs/geosink/bin/python neg_samp.py --data_name saddle_15_0.3.npz\n",
      "cd /gpfs/gibbs/pi/krishnaswamy_smita/xingzhi/dmae/notebooks/datasets_with_geodesic/; /gpfs/gibbs/pi/krishnaswamy_smita/xingzhi/.conda_envs/geosink/bin/python neg_samp.py --data_name saddle_15_0.5.npz\n",
      "cd /gpfs/gibbs/pi/krishnaswamy_smita/xingzhi/dmae/notebooks/datasets_with_geodesic/; /gpfs/gibbs/pi/krishnaswamy_smita/xingzhi/.conda_envs/geosink/bin/python neg_samp.py --data_name saddle_15_0.7.npz\n",
      "cd /gpfs/gibbs/pi/krishnaswamy_smita/xingzhi/dmae/notebooks/datasets_with_geodesic/; /gpfs/gibbs/pi/krishnaswamy_smita/xingzhi/.conda_envs/geosink/bin/python neg_samp.py --data_name saddle_none_0.1.npz\n",
      "cd /gpfs/gibbs/pi/krishnaswamy_smita/xingzhi/dmae/notebooks/datasets_with_geodesic/; /gpfs/gibbs/pi/krishnaswamy_smita/xingzhi/.conda_envs/geosink/bin/python neg_samp.py --data_name torus_15_0.npz\n",
      "cd /gpfs/gibbs/pi/krishnaswamy_smita/xingzhi/dmae/notebooks/datasets_with_geodesic/; /gpfs/gibbs/pi/krishnaswamy_smita/xingzhi/.conda_envs/geosink/bin/python neg_samp.py --data_name torus_15_0.1.npz\n",
      "cd /gpfs/gibbs/pi/krishnaswamy_smita/xingzhi/dmae/notebooks/datasets_with_geodesic/; /gpfs/gibbs/pi/krishnaswamy_smita/xingzhi/.conda_envs/geosink/bin/python neg_samp.py --data_name torus_15_0.3.npz\n",
      "cd /gpfs/gibbs/pi/krishnaswamy_smita/xingzhi/dmae/notebooks/datasets_with_geodesic/; /gpfs/gibbs/pi/krishnaswamy_smita/xingzhi/.conda_envs/geosink/bin/python neg_samp.py --data_name torus_15_0.5.npz\n",
      "cd /gpfs/gibbs/pi/krishnaswamy_smita/xingzhi/dmae/notebooks/datasets_with_geodesic/; /gpfs/gibbs/pi/krishnaswamy_smita/xingzhi/.conda_envs/geosink/bin/python neg_samp.py --data_name torus_15_0.7.npz\n",
      "cd /gpfs/gibbs/pi/krishnaswamy_smita/xingzhi/dmae/notebooks/datasets_with_geodesic/; /gpfs/gibbs/pi/krishnaswamy_smita/xingzhi/.conda_envs/geosink/bin/python neg_samp.py --data_name torus_none_0.1.npz\n"
     ]
    }
   ],
   "source": [
    "for dn in data_names:\n",
    "    print(f\"cd /gpfs/gibbs/pi/krishnaswamy_smita/xingzhi/dmae/notebooks/datasets_with_geodesic/; /gpfs/gibbs/pi/krishnaswamy_smita/xingzhi/.conda_envs/geosink/bin/python neg_samp.py --data_name {dn}.npz\")"
   ]
  },
  {
   "cell_type": "code",
   "execution_count": null,
   "metadata": {},
   "outputs": [],
   "source": []
  }
 ],
 "metadata": {
  "kernelspec": {
   "display_name": "geosink",
   "language": "python",
   "name": "python3"
  },
  "language_info": {
   "codemirror_mode": {
    "name": "ipython",
    "version": 3
   },
   "file_extension": ".py",
   "mimetype": "text/x-python",
   "name": "python",
   "nbconvert_exporter": "python",
   "pygments_lexer": "ipython3",
   "version": "3.11.5"
  },
  "orig_nbformat": 4
 },
 "nbformat": 4,
 "nbformat_minor": 2
}
