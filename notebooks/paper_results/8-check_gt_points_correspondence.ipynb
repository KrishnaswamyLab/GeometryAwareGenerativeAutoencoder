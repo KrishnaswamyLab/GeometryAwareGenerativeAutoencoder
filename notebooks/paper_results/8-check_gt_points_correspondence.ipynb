{
 "cells": [
  {
   "cell_type": "code",
   "execution_count": 2,
   "metadata": {},
   "outputs": [],
   "source": [
    "import numpy as np\n",
    "import os"
   ]
  },
  {
   "cell_type": "code",
   "execution_count": 3,
   "metadata": {},
   "outputs": [],
   "source": [
    "root_path = '/gpfs/gibbs/pi/krishnaswamy_smita/xingzhi/dmae/data/neurips_results/toy/'\n",
    "files = os.listdir(root_path+'gt')"
   ]
  },
  {
   "cell_type": "code",
   "execution_count": 4,
   "metadata": {},
   "outputs": [
    {
     "name": "stdout",
     "output_type": "stream",
     "text": [
      "torus_none_0.npz True\n",
      "saddle_15_0.3.npz True\n",
      "torus_15_0.3.npz True\n",
      "torus_15_0.5.npz True\n",
      "ellipsoid_15_0.3.npz True\n",
      "torus_15_0.npz True\n",
      "torus_none_0.1.npz True\n",
      "ellipsoid_15_0.npz True\n",
      "hemisphere_15_0.7.npz True\n",
      "ellipsoid_15_0.7.npz True\n",
      "ellipsoid_15_0.1.npz True\n",
      "saddle_5_0.1.npz True\n",
      "hemisphere_50_0.1.npz True\n",
      "hemisphere_15_0.5.npz True\n",
      "saddle_none_0.1.npz True\n",
      "ellipsoid_10_0.1.npz True\n",
      "torus_50_0.1.npz True\n",
      "ellipsoid_15_0.5.npz True\n",
      "saddle_15_0.1.npz True\n",
      "ellipsoid_none_0.1.npz True\n",
      "torus_15_0.7.npz True\n",
      "hemisphere_none_0.npz True\n",
      "hemisphere_15_0.3.npz True\n",
      "saddle_15_0.7.npz True\n",
      "hemisphere_15_0.1.npz True\n",
      "hemisphere_5_0.1.npz True\n",
      "hemisphere_10_0.1.npz True\n",
      "saddle_none_0.npz True\n",
      "ellipsoid_50_0.1.npz True\n",
      "saddle_50_0.1.npz True\n",
      "torus_15_0.1.npz True\n",
      "saddle_15_0.npz True\n",
      "torus_5_0.1.npz True\n",
      "ellipsoid_5_0.1.npz True\n",
      "saddle_10_0.1.npz True\n",
      "hemisphere_none_0.1.npz True\n",
      "torus_10_0.1.npz True\n",
      "saddle_15_0.5.npz True\n",
      "ellipsoid_none_0.npz True\n",
      "hemisphere_15_0.npz True\n"
     ]
    }
   ],
   "source": [
    "for file in files:\n",
    "    data = np.load(f'{root_path}/ae/{file}')\n",
    "    data_gt = np.load(f'{root_path}/gt/{file}')\n",
    "    print(file, (data['start_points'] == data_gt['start_points']).all() & (data['end_points'] == data_gt['end_points']).all())"
   ]
  },
  {
   "cell_type": "code",
   "execution_count": 7,
   "metadata": {},
   "outputs": [
    {
     "name": "stdout",
     "output_type": "stream",
     "text": [
      "torus_none_0.npz 176\n",
      "saddle_15_0.3.npz 240\n",
      "torus_15_0.3.npz 162\n",
      "torus_15_0.5.npz 171\n",
      "ellipsoid_15_0.3.npz 177\n",
      "torus_15_0.npz 162\n",
      "torus_none_0.1.npz 170\n",
      "ellipsoid_15_0.npz 152\n",
      "hemisphere_15_0.7.npz 3000\n",
      "ellipsoid_15_0.7.npz 148\n",
      "ellipsoid_15_0.1.npz 135\n",
      "saddle_5_0.1.npz 233\n",
      "hemisphere_50_0.1.npz 3000\n",
      "hemisphere_15_0.5.npz 3000\n",
      "saddle_none_0.1.npz 231\n",
      "ellipsoid_10_0.1.npz 191\n",
      "torus_50_0.1.npz 153\n",
      "ellipsoid_15_0.5.npz 169\n",
      "saddle_15_0.1.npz 228\n",
      "ellipsoid_none_0.1.npz 192\n",
      "torus_15_0.7.npz 148\n",
      "hemisphere_none_0.npz 3000\n",
      "hemisphere_15_0.3.npz 3000\n",
      "saddle_15_0.7.npz 219\n",
      "hemisphere_15_0.1.npz 3000\n",
      "hemisphere_5_0.1.npz 3000\n",
      "hemisphere_10_0.1.npz 3000\n",
      "saddle_none_0.npz 208\n",
      "ellipsoid_50_0.1.npz 202\n",
      "saddle_50_0.1.npz 219\n",
      "torus_15_0.1.npz 180\n",
      "saddle_15_0.npz 215\n",
      "torus_5_0.1.npz 145\n",
      "ellipsoid_5_0.1.npz 168\n",
      "saddle_10_0.1.npz 194\n",
      "hemisphere_none_0.1.npz 3000\n",
      "torus_10_0.1.npz 134\n",
      "saddle_15_0.5.npz 223\n",
      "ellipsoid_none_0.npz 186\n",
      "hemisphere_15_0.npz 3000\n"
     ]
    }
   ],
   "source": [
    "for file in files:\n",
    "    data = np.load(f'{root_path}/ae/{file}')\n",
    "    data_gt = np.load(f'{root_path}/gt/{file}')\n",
    "    # print(file, (data['start_points'] == data_gt['start_points']).all() & (data['end_points'] == data_gt['end_points']).all())\n",
    "    print(file, data_gt['geodesics'].shape[1])"
   ]
  },
  {
   "cell_type": "code",
   "execution_count": null,
   "metadata": {},
   "outputs": [],
   "source": []
  },
  {
   "cell_type": "code",
   "execution_count": null,
   "metadata": {},
   "outputs": [],
   "source": []
  }
 ],
 "metadata": {
  "kernelspec": {
   "display_name": "geosink",
   "language": "python",
   "name": "python3"
  },
  "language_info": {
   "codemirror_mode": {
    "name": "ipython",
    "version": 3
   },
   "file_extension": ".py",
   "mimetype": "text/x-python",
   "name": "python",
   "nbconvert_exporter": "python",
   "pygments_lexer": "ipython3",
   "version": "3.11.5"
  },
  "orig_nbformat": 4
 },
 "nbformat": 4,
 "nbformat_minor": 2
}
