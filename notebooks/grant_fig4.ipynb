{
 "cells": [
  {
   "cell_type": "code",
   "execution_count": 1,
   "metadata": {},
   "outputs": [],
   "source": [
    "import sys\n",
    "sys.path.append(\"../src/\")\n",
    "from data import train_valid_testloader_from_pc, LogTransform, NonTransform, StandardScaler, MinMaxScaler, PowerTransformer\n",
    "from model import AEDist\n",
    "import numpy as np\n",
    "import torch\n",
    "import phate\n",
    "from heatgeo.embedding import HeatGeo\n",
    "from pytorch_lightning import Trainer\n",
    "from pytorch_lightning.callbacks import EarlyStopping\n",
    "from scipy.spatial import procrustes\n",
    "import scanpy as sc\n",
    "import scprep\n",
    "import matplotlib.pyplot as plt\n",
    "from pytorch_lightning.loggers import WandbLogger\n",
    "from pytorch_lightning.callbacks import ModelCheckpoint\n",
    "import wandb\n",
    "import hydra\n",
    "import os\n",
    "from omegaconf import DictConfig, OmegaConf\n",
    "import wandb\n",
    "from hydra import initialize, compose\n",
    "import pickle\n",
    "import pandas as pd\n",
    "from metrics import mAP, computeKNNmAP"
   ]
  },
  {
   "cell_type": "code",
   "execution_count": 2,
   "metadata": {},
   "outputs": [],
   "source": [
    "data_all = np.load('../data/eb_subset.npz')#, data=data, phate=Y_phate, dist=X_dist, colors=colors.values)"
   ]
  },
  {
   "cell_type": "code",
   "execution_count": 3,
   "metadata": {},
   "outputs": [],
   "source": [
    "data = data_all['data']\n",
    "X_dist = data_all['dist']\n",
    "Y_phate = data_all['phate']\n",
    "colors = data_all['colors']"
   ]
  },
  {
   "cell_type": "code",
   "execution_count": 4,
   "metadata": {},
   "outputs": [],
   "source": [
    "cfg = OmegaConf.load(f'../src/wandb/run-20240116_211824-ydvuqitz/files/config.yaml')"
   ]
  },
  {
   "cell_type": "code",
   "execution_count": 5,
   "metadata": {},
   "outputs": [],
   "source": [
    "activation_dict = {\n",
    "    'relu': torch.nn.ReLU(),\n",
    "    'leaky_relu': torch.nn.LeakyReLU(),\n",
    "    'sigmoid': torch.nn.Sigmoid()\n",
    "}\n",
    "\n",
    "activation_fn = activation_dict[cfg.model.value['activation']]"
   ]
  },
  {
   "cell_type": "code",
   "execution_count": 6,
   "metadata": {},
   "outputs": [],
   "source": [
    "preprocessor_dict = {\n",
    "    'standard': StandardScaler(),\n",
    "    'minmax': MinMaxScaler(),\n",
    "    'power': PowerTransformer(),\n",
    "    'log': LogTransform(),\n",
    "    'none': NonTransform()\n",
    "}\n",
    "pp = preprocessor_dict[cfg.data.value['preprocess']]"
   ]
  },
  {
   "cell_type": "code",
   "execution_count": 7,
   "metadata": {},
   "outputs": [],
   "source": [
    "ckpt_path=f'../src/wandb/run-20240116_211824-ydvuqitz/files/epoch=49-step=96000.ckpt'\n",
    "activation_dict = {\n",
    "    'relu': torch.nn.ReLU(),\n",
    "    'leaky_relu': torch.nn.LeakyReLU(),\n",
    "    'sigmoid': torch.nn.Sigmoid()\n",
    "}\n",
    "model = AEDist.load_from_checkpoint(\n",
    "    checkpoint_path=ckpt_path,\n",
    "    dim=data.shape[1],\n",
    "    emb_dim=Y_phate.shape[1],\n",
    "    layer_widths=cfg.model.value['layer_widths'],\n",
    "    activation_fn=activation_fn,\n",
    "    dist_reconstr_weights=cfg['model.dist_reconstr_weights'].value,\n",
    "    pp=pp,\n",
    "    lr=cfg.model.value['lr'],\n",
    "    dist_recon_topk_coords=cfg.model.value['dist_recon_topk_coords'],\n",
    ")"
   ]
  },
  {
   "cell_type": "code",
   "execution_count": 9,
   "metadata": {},
   "outputs": [],
   "source": [
    "phate_D = X_dist\n",
    "shapes = phate_D.shape\n",
    "phate_D = pp.fit_transform(phate_D.reshape(-1,1)).reshape(shapes)"
   ]
  },
  {
   "cell_type": "code",
   "execution_count": 10,
   "metadata": {},
   "outputs": [],
   "source": [
    "X = data"
   ]
  },
  {
   "cell_type": "code",
   "execution_count": 71,
   "metadata": {},
   "outputs": [],
   "source": [
    "trainloader, valloader, testloader = train_valid_testloader_from_pc(\n",
    "    X, # <---- Pointcloud\n",
    "    phate_D, # <---- Distance matrix to match\n",
    "    batch_size=cfg.training.value['batch_size'],\n",
    "    train_test_split=cfg.training.value['train_test_split'],\n",
    "    train_valid_split=cfg.training.value['train_valid_split'],\n",
    "    shuffle=cfg.training.value['shuffle'],\n",
    "    seed=cfg.training.value['seed'],)"
   ]
  },
  {
   "cell_type": "code",
   "execution_count": 72,
   "metadata": {},
   "outputs": [
    {
     "data": {
      "text/plain": [
       "tensor(-19.5657)"
      ]
     },
     "execution_count": 72,
     "metadata": {},
     "output_type": "execute_result"
    }
   ],
   "source": [
    "# torch.manual_seed(0)\n",
    "# position_sum = 0\n",
    "# # Position you want to sum (e.g., row = 1, column = 2)\n",
    "# row_idx = 1\n",
    "# col_idx = 2\n",
    "\n",
    "# # Iterate over the DataLoader\n",
    "# for batch in valloader:\n",
    "#     batch = batch['x']\n",
    "#     # Assuming batch is a tensor\n",
    "#     # Update the sum with the value at the specified position in each tensor\n",
    "#     position_sum += batch[row_idx, col_idx].sum()\n",
    "# position_sum"
   ]
  },
  {
   "cell_type": "code",
   "execution_count": null,
   "metadata": {},
   "outputs": [],
   "source": [
    "with torch.no_grad():\n",
    "    model.eval()\n",
    "    for batch in testloader:\n",
    "        x = batch['x']\n",
    "        x_hat, emb_z = model(x)"
   ]
  }
 ],
 "metadata": {
  "kernelspec": {
   "display_name": "geosink",
   "language": "python",
   "name": "python3"
  },
  "language_info": {
   "codemirror_mode": {
    "name": "ipython",
    "version": 3
   },
   "file_extension": ".py",
   "mimetype": "text/x-python",
   "name": "python",
   "nbconvert_exporter": "python",
   "pygments_lexer": "ipython3",
   "version": "3.11.5"
  }
 },
 "nbformat": 4,
 "nbformat_minor": 2
}
