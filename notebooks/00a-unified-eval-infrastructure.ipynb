{
 "cells": [
  {
   "cell_type": "code",
   "execution_count": 12,
   "metadata": {},
   "outputs": [],
   "source": [
    "#|export unified_eval_utils\n",
    "from nbdev.export import nb_export\n",
    "from fastcore.all import *\n",
    "import ipynbname\n",
    "import sys\n",
    "sys.path.append('../src/')"
   ]
  },
  {
   "cell_type": "markdown",
   "metadata": {},
   "source": [
    "# 00a Unified Evaluation Infrastructure "
   ]
  },
  {
   "cell_type": "markdown",
   "metadata": {},
   "source": [
    "First, we need to load models from the path."
   ]
  },
  {
   "cell_type": "code",
   "execution_count": 4,
   "metadata": {},
   "outputs": [],
   "source": [
    "#|export\n",
    "from model import AEProb, AEDist\n",
    "from lightning import LightningModule\n",
    "\n",
    "class GenericLightning(LightningModule):\n",
    "    def __init__(self):\n",
    "        super().__init__()\n",
    "\n",
    "def get_model_by_name(model_type):\n",
    "    match model_type:\n",
    "        case \"AEProb\":\n",
    "            return AEProb()\n",
    "        case \"Lightning\":\n",
    "            return GenericLightning()\n",
    "        case \"AEDist\":\n",
    "            return AEDist()\n",
    "        case _:\n",
    "            raise NotImplementedError"
   ]
  },
  {
   "cell_type": "code",
   "execution_count": null,
   "metadata": {},
   "outputs": [],
   "source": [
    "#|export\n",
    "import lightning\n",
    "import torch\n",
    "def load_model_from_checkpoint_file(filepath, model_name = None):\n",
    "    \"\"\"\n",
    "    Given a checkpoint file, loads the correspond pytorch model.\n",
    "    If it's a lightning .ckpt file, that's all we need; these files contain the architecture info.\n",
    "    If it's a pytorch .pt file, we also need the corresponding model class.\n",
    "    \"\"\"\n",
    "    # If its a lightning checkpoint, we don't need the model name\n",
    "    if filepath[-5:] == '.ckpt': # it's a lightning module\n",
    "        model = get_model_by_name(\"lightning\")\n",
    "        model = model.load_from_checkpoint(filepath)\n",
    "    elif filepath[-3:] == '.pt':\n",
    "        # must discover model name\n",
    "        if model_name is not None:\n",
    "            pass\n",
    "        elif \"probae\" in filepath.lower() or \"aeprob\" in filepath.lower():\n",
    "            model_name = \"AEProb\"\n",
    "        else:\n",
    "            raise NotImplementedError(\"Unknown model_name\")\n",
    "        # load model \n",
    "        model = get_model_by_name(model_name)\n",
    "        state_dict = torch.load(filepath)\n",
    "        model.load_state_dict(state_dict)\n",
    "    else:\n",
    "        raise NotImplementedError(\"Checkpoint filename should have .pt or .ckpt format.\")\n",
    "    return model\n"
   ]
  },
  {
   "cell_type": "code",
   "execution_count": 15,
   "metadata": {},
   "outputs": [
    {
     "ename": "FileNotFoundError",
     "evalue": "Can't identify the notebook path.",
     "output_type": "error",
     "traceback": [
      "\u001b[0;31m---------------------------------------------------------------------------\u001b[0m",
      "\u001b[0;31mFileNotFoundError\u001b[0m                         Traceback (most recent call last)",
      "Cell \u001b[0;32mIn[15], line 1\u001b[0m\n\u001b[0;32m----> 1\u001b[0m notebook_name \u001b[38;5;241m=\u001b[39m \u001b[43mipynbname\u001b[49m\u001b[38;5;241;43m.\u001b[39;49m\u001b[43mpath\u001b[49m\u001b[43m(\u001b[49m\u001b[43m)\u001b[49m\n",
      "File \u001b[0;32m~/mambaforge/envs/dmae-iterant/lib/python3.11/site-packages/ipynbname/__init__.py:107\u001b[0m, in \u001b[0;36mpath\u001b[0;34m()\u001b[0m\n\u001b[1;32m    105\u001b[0m     root_dir \u001b[38;5;241m=\u001b[39m Path(srv\u001b[38;5;241m.\u001b[39mget(\u001b[38;5;124m'\u001b[39m\u001b[38;5;124mroot_dir\u001b[39m\u001b[38;5;124m'\u001b[39m) \u001b[38;5;129;01mor\u001b[39;00m srv[\u001b[38;5;124m'\u001b[39m\u001b[38;5;124mnotebook_dir\u001b[39m\u001b[38;5;124m'\u001b[39m])\n\u001b[1;32m    106\u001b[0m     \u001b[38;5;28;01mreturn\u001b[39;00m root_dir \u001b[38;5;241m/\u001b[39m path\n\u001b[0;32m--> 107\u001b[0m \u001b[38;5;28;01mraise\u001b[39;00m \u001b[38;5;167;01mFileNotFoundError\u001b[39;00m(FILE_ERROR\u001b[38;5;241m.\u001b[39mformat(\u001b[38;5;124m'\u001b[39m\u001b[38;5;124mpath\u001b[39m\u001b[38;5;124m'\u001b[39m))\n",
      "\u001b[0;31mFileNotFoundError\u001b[0m: Can't identify the notebook path."
     ]
    }
   ],
   "source": [
    "notebook_name = ipynbname.path()"
   ]
  },
  {
   "cell_type": "code",
   "execution_count": 9,
   "metadata": {},
   "outputs": [
    {
     "data": {
      "application/javascript": [
       "\n",
       "        IPython.notebook.kernel.execute(\"notebook_name = '\" + IPython.notebook.notebook_name + \"'\");\n",
       "    "
      ],
      "text/plain": [
       "<IPython.core.display.Javascript object>"
      ]
     },
     "metadata": {},
     "output_type": "display_data"
    }
   ],
   "source": [
    "\n",
    "from IPython.display import display, Javascript\n",
    "def get_notebook_name():\n",
    "    js = Javascript(\"\"\"\n",
    "        IPython.notebook.kernel.execute(\"notebook_name = '\" + IPython.notebook.notebook_name + \"'\");\n",
    "    \"\"\")\n",
    "    display(js)\n",
    "get_notebook_name()\n",
    "nb_export(notebook_name, 'src')"
   ]
  },
  {
   "cell_type": "code",
   "execution_count": 10,
   "metadata": {},
   "outputs": [
    {
     "ename": "NameError",
     "evalue": "name 'notebook_name' is not defined",
     "output_type": "error",
     "traceback": [
      "\u001b[0;31m---------------------------------------------------------------------------\u001b[0m",
      "\u001b[0;31mNameError\u001b[0m                                 Traceback (most recent call last)",
      "Cell \u001b[0;32mIn[10], line 1\u001b[0m\n\u001b[0;32m----> 1\u001b[0m \u001b[43mnotebook_name\u001b[49m\n",
      "\u001b[0;31mNameError\u001b[0m: name 'notebook_name' is not defined"
     ]
    }
   ],
   "source": []
  },
  {
   "cell_type": "code",
   "execution_count": null,
   "metadata": {},
   "outputs": [],
   "source": []
  }
 ],
 "metadata": {
  "kernelspec": {
   "display_name": "Python [conda env:dmae-iterant]",
   "language": "python",
   "name": "conda-env-dmae-iterant-py"
  },
  "language_info": {
   "codemirror_mode": {
    "name": "ipython",
    "version": 3
   },
   "file_extension": ".py",
   "mimetype": "text/x-python",
   "name": "python",
   "nbconvert_exporter": "python",
   "pygments_lexer": "ipython3",
   "version": "3.11.8"
  }
 },
 "nbformat": 4,
 "nbformat_minor": 4
}
