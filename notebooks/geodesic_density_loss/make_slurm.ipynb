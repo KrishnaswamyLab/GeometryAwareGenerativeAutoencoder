{
 "cells": [
  {
   "cell_type": "code",
   "execution_count": 1,
   "metadata": {},
   "outputs": [],
   "source": [
    "prepend = 'cd /gpfs/gibbs/pi/krishnaswamy_smita/xingzhi/dmae/notebooks/geodesic_on_datasets/; /gpfs/gibbs/pi/krishnaswamy_smita/xingzhi/.conda_envs/geosink/bin/python run.py'\n",
    "data_names = ['eb', 'swiss_roll_sklearn_3000', 'hemisphere_hi_dim2', 'swiss_roll_sklearn_hi_dim_3000', 'swiss_roll_wider_hi_dim', 'swiss_roll_wider', 'tree_hi_dim', 'tree']\n",
    "dimensions_latents = [2,3]\n",
    "\n",
    "# Open a file named 'job.txt' in write mode\n",
    "with open('job.txt', 'w') as file:\n",
    "    # Loop through each data name\n",
    "    for data_name in data_names:\n",
    "        # Loop through each dimension latent\n",
    "        for dimensions_latent in dimensions_latents:\n",
    "            # Format the command string\n",
    "            command = f\"{prepend} --data_name {data_name} --dimensions_latent {dimensions_latent}\"\n",
    "            # Write the command to the file followed by a newline character\n",
    "            file.write(command + '\\n')\n"
   ]
  },
  {
   "cell_type": "code",
   "execution_count": null,
   "metadata": {},
   "outputs": [],
   "source": []
  }
 ],
 "metadata": {
  "kernelspec": {
   "display_name": "geosink",
   "language": "python",
   "name": "python3"
  },
  "language_info": {
   "codemirror_mode": {
    "name": "ipython",
    "version": 3
   },
   "file_extension": ".py",
   "mimetype": "text/x-python",
   "name": "python",
   "nbconvert_exporter": "python",
   "pygments_lexer": "ipython3",
   "version": "3.11.5"
  },
  "orig_nbformat": 4
 },
 "nbformat": 4,
 "nbformat_minor": 2
}
