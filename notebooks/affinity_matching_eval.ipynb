{
 "cells": [
  {
   "cell_type": "code",
   "execution_count": 1,
   "metadata": {},
   "outputs": [],
   "source": [
    "import wandb\n",
    "import sys\n",
    "import matplotlib.pyplot as plt\n",
    "import scprep\n",
    "import pandas as pd\n",
    "sys.path.append('../src/')\n",
    "from evaluate import get_results\n",
    "from omegaconf import OmegaConf\n",
    "import numpy as np\n",
    "import os\n",
    "import glob\n",
    "import demap\n",
    "from tqdm import tqdm\n",
    "from evaluation import compute_all_metrics, get_noiseless_name, get_ambient_name\n",
    "import torch\n",
    "from model import AEProb, Decoder\n",
    "\n",
    "class Model():\n",
    "    def __init__(self, encoder, decoder):\n",
    "        self.device = torch.device('cuda' if torch.cuda.is_available() else 'cpu')\n",
    "        self.encoder = encoder.to(self.device)\n",
    "        self.decoder = decoder.to(self.device)\n",
    "    def encode(self, x):\n",
    "        return self.encoder.encode(x)\n",
    "    def decode(self, x):\n",
    "        return self.decoder(x)\n",
    "    def eval(self):\n",
    "        self.encoder.eval()\n",
    "        self.decoder.eval()"
   ]
  },
  {
   "cell_type": "code",
   "execution_count": 3,
   "metadata": {},
   "outputs": [],
   "source": [
    "root_path = '../affinity_matching_results_xingzhi/results/'\n",
    "data_path1 = 'sepa_gaussian_noisy_42_groups_17580_2000_3_0.2_0.2_all1.00_bw1_knn5'\n",
    "\n",
    "enc_path = os.path.join(root_path, data_path1, 'model.ckpt')\n",
    "dec_path = os.path.join(root_path, data_path1, 'decoder.ckpt')"
   ]
  },
  {
   "cell_type": "code",
   "execution_count": 4,
   "metadata": {},
   "outputs": [],
   "source": [
    "encoder_dict = torch.load(enc_path)\n",
    "decoder_dict = torch.load(dec_path)"
   ]
  },
  {
   "cell_type": "code",
   "execution_count": 5,
   "metadata": {},
   "outputs": [],
   "source": [
    "data_name = data_path1[14:-13]"
   ]
  },
  {
   "cell_type": "code",
   "execution_count": 6,
   "metadata": {},
   "outputs": [],
   "source": [
    "probmtd = data_path1.split('_')[1]"
   ]
  },
  {
   "cell_type": "code",
   "execution_count": 7,
   "metadata": {},
   "outputs": [],
   "source": [
    "data_root = '../synthetic_data2/'\n",
    "data_path = os.path.join(data_root, data_name + '.npz')\n",
    "noiseless_path = os.path.join(data_root, get_noiseless_name(data_name) + '.npz')\n",
    "ambient_path = os.path.join(data_root, get_ambient_name(data_name) + '.npy')"
   ]
  },
  {
   "cell_type": "code",
   "execution_count": 21,
   "metadata": {},
   "outputs": [
    {
     "data": {
      "text/plain": [
       "<All keys matched successfully>"
      ]
     },
     "execution_count": 21,
     "metadata": {},
     "output_type": "execute_result"
    }
   ],
   "source": [
    "encoder = AEProb(dim=100, emb_dim=2, layer_widths=[256, 128, 64], activation_fn=torch.nn.ReLU(), prob_method=probmtd, dist_reconstr_weights=[1.0,0.0,0.], )\n",
    "encoder.load_state_dict(encoder_dict)\n",
    "decoder = Decoder(dim=100, emb_dim=2, layer_widths=[256, 128, 64][::-1], activation_fn=torch.nn.ReLU())\n",
    "decoder.load_state_dict(decoder_dict)"
   ]
  },
  {
   "cell_type": "code",
   "execution_count": 22,
   "metadata": {},
   "outputs": [],
   "source": [
    "model = Model(encoder, decoder)"
   ]
  },
  {
   "cell_type": "code",
   "execution_count": 23,
   "metadata": {},
   "outputs": [],
   "source": [
    "res_dict = compute_all_metrics(model, data_path, noiseless_path, ambient_path)"
   ]
  },
  {
   "cell_type": "code",
   "execution_count": 24,
   "metadata": {},
   "outputs": [
    {
     "data": {
      "text/plain": [
       "{'seedmethod': 'groups,42',\n",
       " 'bcv': '0.2',\n",
       " 'dropout': '0.2',\n",
       " 'demap': 0.7505392434684071,\n",
       " 'accuracy': 0.0416292262671728,\n",
       " 'recon score': 0.7032789476825084}"
      ]
     },
     "execution_count": 24,
     "metadata": {},
     "output_type": "execute_result"
    }
   ],
   "source": [
    "res_dict"
   ]
  },
  {
   "cell_type": "code",
   "execution_count": 25,
   "metadata": {},
   "outputs": [
    {
     "data": {
      "text/plain": [
       "['sepa_tstudent_noisy_43_groups_17580_2000_3_0.4_0.5_all1.00_bw1_knn5',\n",
       " 'sepa_tstudent_noisy_44_groups_17580_2000_3_0.4_0.2_all1.00_bw1_knn5',\n",
       " 'sepa_tstudent_noisy_46_groups_17580_2000_3_0.6_0.7_all1.00_bw1_knn5',\n",
       " 'sepa_tstudent_noisy_45_groups_17580_2000_3_0.6_0.7_all1.00_bw1_knn5',\n",
       " 'sepa_gaussian_noisy_46_groups_17580_2000_3_0.2_0.7_all1.00_bw1_knn5',\n",
       " 'sepa_tstudent_noisy_42_paths_17580_2000_3_0.4_0.7_all1.00_bw1_knn5',\n",
       " 'sepa_gaussian_noisy_46_paths_17580_2000_3_0.2_0.2_all1.00_bw1_knn5',\n",
       " 'sepa_tstudent_noisy_43_paths_17580_2000_3_0.4_0.2_all1.00_bw1_knn5',\n",
       " 'sepa_gaussian_noisy_46_paths_17580_2000_3_0.4_0.7_all1.00_bw1_knn5',\n",
       " 'sepa_tstudent_noisy_46_groups_17580_2000_3_0.6_0.5_all1.00_bw1_knn5',\n",
       " 'sepa_gaussian_noisy_42_paths_17580_2000_3_0.6_0.2_all1.00_bw1_knn5',\n",
       " 'sepa_gaussian_noisy_44_groups_17580_2000_3_0.4_0.5_all1.00_bw1_knn5',\n",
       " 'sepa_gaussian_noisy_42_groups_17580_2000_3_0.2_0.7_all1.00_bw1_knn5',\n",
       " 'sepa_gaussian_noisy_45_groups_17580_2000_3_0.6_0.2_all1.00_bw1_knn5',\n",
       " 'sepa_gaussian_noisy_42_groups_17580_2000_3_0.4_0.2_all1.00_bw1_knn5',\n",
       " 'sepa_tstudent_noisy_44_paths_17580_2000_3_0.6_0.2_all1.00_bw1_knn5',\n",
       " 'sepa_gaussian_noisy_44_groups_17580_2000_3_0.6_0.2_all1.00_bw1_knn5',\n",
       " 'sepa_gaussian_noisy_44_paths_17580_2000_3_0.2_0.5_all1.00_bw1_knn5',\n",
       " 'sepa_gaussian_noisy_46_paths_17580_2000_3_0.4_0.2_all1.00_bw1_knn5',\n",
       " 'sepa_tstudent_noisy_46_paths_17580_2000_3_0.2_0.7_all1.00_bw1_knn5',\n",
       " 'sepa_tstudent_noisy_42_paths_17580_2000_3_0.6_0.2_all1.00_bw1_knn5',\n",
       " 'sepa_tstudent_noisy_46_paths_17580_2000_3_0.2_0.2_all1.00_bw1_knn5',\n",
       " 'sepa_tstudent_noisy_42_groups_17580_2000_3_0.4_0.7_all1.00_bw1_knn5',\n",
       " 'sepa_gaussian_noisy_46_paths_17580_2000_3_0.2_0.5_all1.00_bw1_knn5',\n",
       " 'sepa_gaussian_noisy_42_groups_17580_2000_3_0.6_0.7_all1.00_bw1_knn5',\n",
       " 'sepa_gaussian_noisy_43_paths_17580_2000_3_0.4_0.5_all1.00_bw1_knn5',\n",
       " 'sepa_tstudent_noisy_45_paths_17580_2000_3_0.6_0.5_all1.00_bw1_knn5',\n",
       " 'sepa_tstudent_noisy_43_groups_17580_2000_3_0.6_0.5_all1.00_bw1_knn5',\n",
       " 'sepa_tstudent_noisy_45_groups_17580_2000_3_0.4_0.2_all1.00_bw1_knn5',\n",
       " 'sepa_gaussian_noisy_45_groups_17580_2000_3_0.4_0.7_all1.00_bw1_knn5',\n",
       " 'sepa_gaussian_noisy_45_groups_17580_2000_3_0.2_0.7_all1.00_bw1_knn5',\n",
       " 'sepa_tstudent_noisy_45_groups_17580_2000_3_0.2_0.5_all1.00_bw1_knn5',\n",
       " 'sepa_tstudent_noisy_44_paths_17580_2000_3_0.4_0.2_all1.00_bw1_knn5',\n",
       " 'sepa_gaussian_noisy_45_groups_17580_2000_3_0.4_0.2_all1.00_bw1_knn5',\n",
       " 'sepa_gaussian_noisy_44_groups_17580_2000_3_0.6_0.5_all1.00_bw1_knn5',\n",
       " 'sepa_gaussian_noisy_45_paths_17580_2000_3_0.6_0.7_all1.00_bw1_knn5',\n",
       " 'sepa_gaussian_noisy_45_groups_17580_2000_3_0.2_0.5_all1.00_bw1_knn5',\n",
       " 'sepa_tstudent_noisy_42_groups_17580_2000_3_0.6_0.5_all1.00_bw1_knn5',\n",
       " 'sepa_tstudent_noisy_46_paths_17580_2000_3_0.4_0.2_all1.00_bw1_knn5',\n",
       " 'sepa_gaussian_noisy_44_paths_17580_2000_3_0.6_0.7_all1.00_bw1_knn5',\n",
       " 'sepa_tstudent_noisy_42_paths_17580_2000_3_0.2_0.7_all1.00_bw1_knn5',\n",
       " 'sepa_gaussian_noisy_42_paths_17580_2000_3_0.2_0.5_all1.00_bw1_knn5',\n",
       " 'sepa_gaussian_noisy_46_groups_17580_2000_3_0.2_0.5_all1.00_bw1_knn5',\n",
       " 'sepa_tstudent_noisy_46_paths_17580_2000_3_0.4_0.5_all1.00_bw1_knn5',\n",
       " 'sepa_gaussian_noisy_42_groups_17580_2000_3_0.6_0.2_all1.00_bw1_knn5',\n",
       " 'sepa_tstudent_noisy_42_groups_17580_2000_3_0.6_0.7_all1.00_bw1_knn5',\n",
       " 'sepa_tstudent_noisy_45_paths_17580_2000_3_0.4_0.7_all1.00_bw1_knn5',\n",
       " 'sepa_gaussian_noisy_46_groups_17580_2000_3_0.2_0.2_all1.00_bw1_knn5',\n",
       " 'sepa_gaussian_noisy_45_groups_17580_2000_3_0.6_0.7_all1.00_bw1_knn5',\n",
       " 'sepa_tstudent_noisy_44_paths_17580_2000_3_0.4_0.5_all1.00_bw1_knn5',\n",
       " 'sepa_tstudent_noisy_44_groups_17580_2000_3_0.2_0.5_all1.00_bw1_knn5',\n",
       " 'sepa_gaussian_noisy_43_paths_17580_2000_3_0.2_0.2_all1.00_bw1_knn5',\n",
       " 'sepa_tstudent_noisy_46_groups_17580_2000_3_0.4_0.2_all1.00_bw1_knn5',\n",
       " 'sepa_gaussian_noisy_46_groups_17580_2000_3_0.4_0.5_all1.00_bw1_knn5',\n",
       " 'sepa_tstudent_noisy_45_paths_17580_2000_3_0.2_0.5_all1.00_bw1_knn5',\n",
       " 'sepa_gaussian_noisy_46_groups_17580_2000_3_0.4_0.7_all1.00_bw1_knn5',\n",
       " 'sepa_gaussian_noisy_43_paths_17580_2000_3_0.2_0.5_all1.00_bw1_knn5',\n",
       " 'sepa_gaussian_noisy_45_groups_17580_2000_3_0.4_0.5_all1.00_bw1_knn5',\n",
       " 'sepa_gaussian_noisy_45_groups_17580_2000_3_0.6_0.5_all1.00_bw1_knn5',\n",
       " 'sepa_gaussian_noisy_43_paths_17580_2000_3_0.6_0.5_all1.00_bw1_knn5',\n",
       " 'sepa_gaussian_noisy_43_paths_17580_2000_3_0.4_0.2_all1.00_bw1_knn5',\n",
       " 'sepa_tstudent_noisy_45_paths_17580_2000_3_0.4_0.2_all1.00_bw1_knn5',\n",
       " 'sepa_tstudent_noisy_42_paths_17580_2000_3_0.4_0.2_all1.00_bw1_knn5',\n",
       " 'sepa_gaussian_noisy_45_paths_17580_2000_3_0.2_0.5_all1.00_bw1_knn5',\n",
       " 'sepa_tstudent_noisy_44_paths_17580_2000_3_0.2_0.5_all1.00_bw1_knn5',\n",
       " 'sepa_gaussian_noisy_42_groups_17580_2000_3_0.2_0.5_all1.00_bw1_knn5',\n",
       " 'sepa_gaussian_noisy_44_paths_17580_2000_3_0.2_0.2_all1.00_bw1_knn5',\n",
       " 'sepa_gaussian_noisy_42_paths_17580_2000_3_0.4_0.2_all1.00_bw1_knn5',\n",
       " 'sepa_gaussian_noisy_43_groups_17580_2000_3_0.4_0.5_all1.00_bw1_knn5',\n",
       " 'sepa_gaussian_noisy_43_paths_17580_2000_3_0.2_0.7_all1.00_bw1_knn5',\n",
       " 'sepa_tstudent_noisy_44_paths_17580_2000_3_0.6_0.7_all1.00_bw1_knn5',\n",
       " 'sepa_gaussian_noisy_44_paths_17580_2000_3_0.2_0.7_all1.00_bw1_knn5',\n",
       " 'sepa_gaussian_noisy_42_paths_17580_2000_3_0.6_0.7_all1.00_bw1_knn5',\n",
       " 'sepa_tstudent_noisy_44_paths_17580_2000_3_0.2_0.2_all1.00_bw1_knn5',\n",
       " 'sepa_gaussian_noisy_42_paths_17580_2000_3_0.4_0.5_all1.00_bw1_knn5',\n",
       " 'sepa_gaussian_noisy_45_paths_17580_2000_3_0.4_0.7_all1.00_bw1_knn5',\n",
       " 'sepa_tstudent_noisy_42_paths_17580_2000_3_0.2_0.2_all1.00_bw1_knn5',\n",
       " 'sepa_tstudent_noisy_46_groups_17580_2000_3_0.2_0.7_all1.00_bw1_knn5',\n",
       " 'sepa_tstudent_noisy_43_groups_17580_2000_3_0.6_0.2_all1.00_bw1_knn5',\n",
       " 'sepa_tstudent_noisy_46_paths_17580_2000_3_0.4_0.7_all1.00_bw1_knn5',\n",
       " 'sepa_gaussian_noisy_43_paths_17580_2000_3_0.6_0.7_all1.00_bw1_knn5',\n",
       " 'sepa_gaussian_noisy_46_groups_17580_2000_3_0.6_0.2_all1.00_bw1_knn5',\n",
       " 'sepa_tstudent_noisy_44_groups_17580_2000_3_0.6_0.2_all1.00_bw1_knn5',\n",
       " 'sepa_gaussian_noisy_44_groups_17580_2000_3_0.4_0.7_all1.00_bw1_knn5',\n",
       " 'sepa_tstudent_noisy_45_paths_17580_2000_3_0.2_0.2_all1.00_bw1_knn5',\n",
       " 'sepa_gaussian_noisy_44_groups_17580_2000_3_0.2_0.5_all1.00_bw1_knn5',\n",
       " 'sepa_tstudent_noisy_43_paths_17580_2000_3_0.2_0.2_all1.00_bw1_knn5',\n",
       " 'sepa_tstudent_noisy_46_groups_17580_2000_3_0.4_0.5_all1.00_bw1_knn5',\n",
       " 'sepa_gaussian_noisy_42_groups_17580_2000_3_0.4_0.5_all1.00_bw1_knn5',\n",
       " 'sepa_gaussian_noisy_42_groups_17580_2000_3_0.2_0.2_all1.00_bw1_knn5',\n",
       " 'sepa_tstudent_noisy_44_groups_17580_2000_3_0.2_0.7_all1.00_bw1_knn5',\n",
       " 'sepa_tstudent_noisy_42_groups_17580_2000_3_0.4_0.5_all1.00_bw1_knn5',\n",
       " 'sepa_gaussian_noisy_43_paths_17580_2000_3_0.6_0.2_all1.00_bw1_knn5',\n",
       " 'sepa_gaussian_noisy_43_groups_17580_2000_3_0.4_0.7_all1.00_bw1_knn5',\n",
       " 'sepa_gaussian_noisy_44_paths_17580_2000_3_0.4_0.5_all1.00_bw1_knn5',\n",
       " 'sepa_tstudent_noisy_43_paths_17580_2000_3_0.4_0.7_all1.00_bw1_knn5',\n",
       " 'sepa_gaussian_noisy_42_paths_17580_2000_3_0.2_0.2_all1.00_bw1_knn5',\n",
       " 'sepa_tstudent_noisy_44_groups_17580_2000_3_0.6_0.5_all1.00_bw1_knn5',\n",
       " 'sepa_tstudent_noisy_43_groups_17580_2000_3_0.2_0.7_all1.00_bw1_knn5',\n",
       " 'sepa_tstudent_noisy_45_groups_17580_2000_3_0.6_0.2_all1.00_bw1_knn5',\n",
       " 'sepa_tstudent_noisy_46_groups_17580_2000_3_0.2_0.5_all1.00_bw1_knn5',\n",
       " 'sepa_gaussian_noisy_46_paths_17580_2000_3_0.6_0.2_all1.00_bw1_knn5',\n",
       " 'sepa_tstudent_noisy_43_paths_17580_2000_3_0.2_0.5_all1.00_bw1_knn5',\n",
       " 'sepa_tstudent_noisy_45_groups_17580_2000_3_0.4_0.7_all1.00_bw1_knn5',\n",
       " 'sepa_tstudent_noisy_43_paths_17580_2000_3_0.6_0.7_all1.00_bw1_knn5',\n",
       " 'sepa_gaussian_noisy_43_groups_17580_2000_3_0.6_0.5_all1.00_bw1_knn5',\n",
       " 'sepa_tstudent_noisy_42_paths_17580_2000_3_0.6_0.7_all1.00_bw1_knn5',\n",
       " 'sepa_tstudent_noisy_44_paths_17580_2000_3_0.6_0.5_all1.00_bw1_knn5',\n",
       " 'sepa_tstudent_noisy_42_paths_17580_2000_3_0.6_0.5_all1.00_bw1_knn5',\n",
       " 'sepa_gaussian_noisy_43_groups_17580_2000_3_0.2_0.7_all1.00_bw1_knn5',\n",
       " 'sepa_gaussian_noisy_46_paths_17580_2000_3_0.6_0.7_all1.00_bw1_knn5',\n",
       " 'sepa_tstudent_noisy_42_paths_17580_2000_3_0.2_0.5_all1.00_bw1_knn5',\n",
       " 'sepa_gaussian_noisy_46_paths_17580_2000_3_0.2_0.7_all1.00_bw1_knn5',\n",
       " 'sepa_tstudent_noisy_43_groups_17580_2000_3_0.4_0.7_all1.00_bw1_knn5',\n",
       " 'sepa_gaussian_noisy_45_paths_17580_2000_3_0.4_0.2_all1.00_bw1_knn5',\n",
       " 'sepa_tstudent_noisy_44_groups_17580_2000_3_0.6_0.7_all1.00_bw1_knn5',\n",
       " 'sepa_tstudent_noisy_43_groups_17580_2000_3_0.6_0.7_all1.00_bw1_knn5',\n",
       " 'sepa_gaussian_noisy_45_groups_17580_2000_3_0.2_0.2_all1.00_bw1_knn5',\n",
       " 'sepa_tstudent_noisy_43_paths_17580_2000_3_0.2_0.7_all1.00_bw1_knn5',\n",
       " 'sepa_gaussian_noisy_46_paths_17580_2000_3_0.4_0.5_all1.00_bw1_knn5',\n",
       " 'sepa_tstudent_noisy_45_paths_17580_2000_3_0.2_0.7_all1.00_bw1_knn5',\n",
       " 'sepa_gaussian_noisy_44_paths_17580_2000_3_0.4_0.2_all1.00_bw1_knn5',\n",
       " 'sepa_tstudent_noisy_42_groups_17580_2000_3_0.4_0.2_all1.00_bw1_knn5',\n",
       " 'sepa_tstudent_noisy_44_groups_17580_2000_3_0.4_0.5_all1.00_bw1_knn5',\n",
       " 'sepa_tstudent_noisy_46_paths_17580_2000_3_0.2_0.5_all1.00_bw1_knn5',\n",
       " 'sepa_tstudent_noisy_45_groups_17580_2000_3_0.2_0.2_all1.00_bw1_knn5',\n",
       " 'sepa_tstudent_noisy_45_paths_17580_2000_3_0.6_0.2_all1.00_bw1_knn5',\n",
       " 'sepa_gaussian_noisy_42_groups_17580_2000_3_0.6_0.5_all1.00_bw1_knn5',\n",
       " 'sepa_tstudent_noisy_44_groups_17580_2000_3_0.4_0.7_all1.00_bw1_knn5',\n",
       " 'sepa_tstudent_noisy_44_groups_17580_2000_3_0.2_0.2_all1.00_bw1_knn5',\n",
       " 'sepa_tstudent_noisy_43_groups_17580_2000_3_0.2_0.2_all1.00_bw1_knn5',\n",
       " 'sepa_tstudent_noisy_45_groups_17580_2000_3_0.6_0.5_all1.00_bw1_knn5',\n",
       " 'sepa_tstudent_noisy_46_groups_17580_2000_3_0.2_0.2_all1.00_bw1_knn5',\n",
       " 'sepa_gaussian_noisy_44_groups_17580_2000_3_0.2_0.7_all1.00_bw1_knn5',\n",
       " 'sepa_gaussian_noisy_43_groups_17580_2000_3_0.2_0.2_all1.00_bw1_knn5',\n",
       " 'sepa_gaussian_noisy_42_paths_17580_2000_3_0.4_0.7_all1.00_bw1_knn5',\n",
       " 'sepa_tstudent_noisy_45_groups_17580_2000_3_0.2_0.7_all1.00_bw1_knn5',\n",
       " 'sepa_tstudent_noisy_44_paths_17580_2000_3_0.4_0.7_all1.00_bw1_knn5',\n",
       " 'sepa_gaussian_noisy_43_groups_17580_2000_3_0.4_0.2_all1.00_bw1_knn5',\n",
       " 'sepa_gaussian_noisy_42_groups_17580_2000_3_0.4_0.7_all1.00_bw1_knn5',\n",
       " 'sepa_tstudent_noisy_43_paths_17580_2000_3_0.4_0.5_all1.00_bw1_knn5',\n",
       " 'sepa_gaussian_noisy_43_paths_17580_2000_3_0.4_0.7_all1.00_bw1_knn5',\n",
       " 'sepa_gaussian_noisy_46_groups_17580_2000_3_0.4_0.2_all1.00_bw1_knn5',\n",
       " 'sepa_tstudent_noisy_42_groups_17580_2000_3_0.2_0.7_all1.00_bw1_knn5',\n",
       " 'sepa_gaussian_noisy_45_paths_17580_2000_3_0.2_0.2_all1.00_bw1_knn5',\n",
       " 'sepa_gaussian_noisy_45_paths_17580_2000_3_0.6_0.5_all1.00_bw1_knn5',\n",
       " 'sepa_tstudent_noisy_43_groups_17580_2000_3_0.4_0.2_all1.00_bw1_knn5',\n",
       " 'sepa_gaussian_noisy_46_groups_17580_2000_3_0.6_0.5_all1.00_bw1_knn5',\n",
       " 'sepa_tstudent_noisy_43_paths_17580_2000_3_0.6_0.2_all1.00_bw1_knn5',\n",
       " 'sepa_tstudent_noisy_46_paths_17580_2000_3_0.6_0.5_all1.00_bw1_knn5',\n",
       " 'sepa_tstudent_noisy_44_paths_17580_2000_3_0.2_0.7_all1.00_bw1_knn5',\n",
       " 'sepa_gaussian_noisy_43_groups_17580_2000_3_0.6_0.7_all1.00_bw1_knn5',\n",
       " 'sepa_tstudent_noisy_42_groups_17580_2000_3_0.6_0.2_all1.00_bw1_knn5',\n",
       " 'sepa_gaussian_noisy_46_paths_17580_2000_3_0.6_0.5_all1.00_bw1_knn5',\n",
       " 'sepa_tstudent_noisy_43_groups_17580_2000_3_0.2_0.5_all1.00_bw1_knn5',\n",
       " 'sepa_gaussian_noisy_44_paths_17580_2000_3_0.4_0.7_all1.00_bw1_knn5',\n",
       " 'sepa_gaussian_noisy_44_groups_17580_2000_3_0.4_0.2_all1.00_bw1_knn5',\n",
       " 'sepa_tstudent_noisy_46_paths_17580_2000_3_0.6_0.2_all1.00_bw1_knn5',\n",
       " 'sepa_gaussian_noisy_42_paths_17580_2000_3_0.6_0.5_all1.00_bw1_knn5',\n",
       " 'sepa_tstudent_noisy_46_groups_17580_2000_3_0.6_0.2_all1.00_bw1_knn5',\n",
       " 'sepa_gaussian_noisy_45_paths_17580_2000_3_0.6_0.2_all1.00_bw1_knn5',\n",
       " 'sepa_gaussian_noisy_43_groups_17580_2000_3_0.2_0.5_all1.00_bw1_knn5',\n",
       " 'sepa_gaussian_noisy_45_paths_17580_2000_3_0.2_0.7_all1.00_bw1_knn5',\n",
       " 'sepa_gaussian_noisy_44_groups_17580_2000_3_0.2_0.2_all1.00_bw1_knn5',\n",
       " 'sepa_tstudent_noisy_45_groups_17580_2000_3_0.4_0.5_all1.00_bw1_knn5',\n",
       " 'sepa_tstudent_noisy_45_paths_17580_2000_3_0.6_0.7_all1.00_bw1_knn5',\n",
       " 'sepa_tstudent_noisy_42_paths_17580_2000_3_0.4_0.5_all1.00_bw1_knn5',\n",
       " 'sepa_gaussian_noisy_43_groups_17580_2000_3_0.6_0.2_all1.00_bw1_knn5',\n",
       " 'sepa_tstudent_noisy_46_groups_17580_2000_3_0.4_0.7_all1.00_bw1_knn5',\n",
       " 'sepa_tstudent_noisy_42_groups_17580_2000_3_0.2_0.5_all1.00_bw1_knn5',\n",
       " 'sepa_gaussian_noisy_42_paths_17580_2000_3_0.2_0.7_all1.00_bw1_knn5',\n",
       " 'sepa_tstudent_noisy_42_groups_17580_2000_3_0.2_0.2_all1.00_bw1_knn5',\n",
       " 'sepa_tstudent_noisy_45_paths_17580_2000_3_0.4_0.5_all1.00_bw1_knn5',\n",
       " 'sepa_gaussian_noisy_44_paths_17580_2000_3_0.6_0.5_all1.00_bw1_knn5',\n",
       " 'sepa_gaussian_noisy_44_paths_17580_2000_3_0.6_0.2_all1.00_bw1_knn5',\n",
       " 'sepa_gaussian_noisy_44_groups_17580_2000_3_0.6_0.7_all1.00_bw1_knn5',\n",
       " 'sepa_tstudent_noisy_46_paths_17580_2000_3_0.6_0.7_all1.00_bw1_knn5',\n",
       " 'sepa_gaussian_noisy_46_groups_17580_2000_3_0.6_0.7_all1.00_bw1_knn5',\n",
       " 'sepa_tstudent_noisy_43_paths_17580_2000_3_0.6_0.5_all1.00_bw1_knn5',\n",
       " 'sepa_gaussian_noisy_45_paths_17580_2000_3_0.4_0.5_all1.00_bw1_knn5']"
      ]
     },
     "execution_count": 25,
     "metadata": {},
     "output_type": "execute_result"
    }
   ],
   "source": [
    "root_path = '../affinity_matching_results_xingzhi/results/'\n",
    "os.listdir(root_path)"
   ]
  },
  {
   "cell_type": "code",
   "execution_count": null,
   "metadata": {},
   "outputs": [],
   "source": []
  }
 ],
 "metadata": {
  "kernelspec": {
   "display_name": "geosink",
   "language": "python",
   "name": "python3"
  },
  "language_info": {
   "codemirror_mode": {
    "name": "ipython",
    "version": 3
   },
   "file_extension": ".py",
   "mimetype": "text/x-python",
   "name": "python",
   "nbconvert_exporter": "python",
   "pygments_lexer": "ipython3",
   "version": "3.11.5"
  },
  "orig_nbformat": 4
 },
 "nbformat": 4,
 "nbformat_minor": 2
}
