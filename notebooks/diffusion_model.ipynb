{
 "cells": [
  {
   "cell_type": "code",
   "execution_count": 7,
   "metadata": {},
   "outputs": [],
   "source": [
    "import torch\n",
    "import torch.nn as nn\n",
    "device = torch.device('cuda' if torch.cuda.is_available() else 'cpu')\n",
    "\n",
    "class DiffusionModel(nn.Module):\n",
    "    def __init__(self, data_size=100, time_embedding_size=20, hidden_size=256):\n",
    "        super(DiffusionModel, self).__init__()\n",
    "        self.time_embedding = nn.Linear(1, time_embedding_size)\n",
    "        self.hidden_size = hidden_size\n",
    "        self.network = nn.Sequential(\n",
    "            nn.Linear(data_size + time_embedding_size, self.hidden_size),\n",
    "            nn.ReLU(),\n",
    "            nn.Linear(self.hidden_size, data_size)\n",
    "        )\n",
    "\n",
    "    def forward(self, x, t):\n",
    "        # Ensure t is a 2D tensor with shape [batch_size, 1]\n",
    "        t = t.unsqueeze(-1) if t.dim() == 1 else t\n",
    "        \n",
    "        # Embedding the time step\n",
    "        t_emb = self.time_embedding(t)\n",
    "\n",
    "        # Concatenating the time embedding to the input\n",
    "        xt = torch.cat([x, t_emb], dim=1)  # Ensure dim is set correctly for concatenation\n",
    "        \n",
    "        return self.network(xt)\n"
   ]
  },
  {
   "cell_type": "code",
   "execution_count": 8,
   "metadata": {},
   "outputs": [],
   "source": [
    "import torch\n",
    "import torch.nn.functional as F\n",
    "\n",
    "def train_diffusion_model(model, data_loader, optimizer, num_epochs, num_steps, device):\n",
    "    model.train()\n",
    "    \n",
    "    # Example linear noise schedule (beta values)\n",
    "    betas = torch.linspace(0.0001, 0.02, num_steps).to(device)\n",
    "    alphas = 1.0 - betas\n",
    "    alphas_cumprod = torch.cumprod(alphas, dim=0)\n",
    "\n",
    "    for epoch in range(num_epochs):\n",
    "        for batch in data_loader:\n",
    "            data = batch[0].to(device)\n",
    "            \n",
    "            for step in range(1, num_steps + 1):\n",
    "                # Sample time step\n",
    "                t = torch.randint(0, num_steps, (data.size(0),), device=device)\n",
    "                t_float = t.float() / (num_steps - 1)\n",
    "                \n",
    "                # Calculate noise for this step\n",
    "                noise = torch.randn_like(data)\n",
    "                \n",
    "                # Calculate the noisy data based on the noise schedule\n",
    "                sqrt_alphas_cumprod = torch.sqrt(alphas_cumprod[t]).unsqueeze(-1)\n",
    "                sqrt_one_minus_alphas_cumprod = torch.sqrt(1.0 - alphas_cumprod[t]).unsqueeze(-1)\n",
    "                noisy_data = sqrt_alphas_cumprod * data + sqrt_one_minus_alphas_cumprod * noise\n",
    "                \n",
    "                optimizer.zero_grad()\n",
    "                \n",
    "                # Model prediction (reverse process)\n",
    "                predicted_noise = model(noisy_data, t_float)\n",
    "                \n",
    "                # Calculate loss as MSE between the predicted and actual noise\n",
    "                loss = F.mse_loss(predicted_noise, noise)\n",
    "                \n",
    "                loss.backward()\n",
    "                optimizer.step()\n",
    "                \n",
    "        print(f\"Epoch: {epoch}, Loss: {loss.item()}\")\n"
   ]
  },
  {
   "cell_type": "code",
   "execution_count": 10,
   "metadata": {},
   "outputs": [],
   "source": [
    "import numpy as np"
   ]
  },
  {
   "cell_type": "code",
   "execution_count": 11,
   "metadata": {},
   "outputs": [],
   "source": [
    "import numpy as np\n",
    "import torch\n",
    "from torch.utils.data import DataLoader, TensorDataset\n",
    "from sklearn.model_selection import train_test_split\n",
    "\n",
    "# Load and scale data\n",
    "data = np.load(\"../data/eb_subset_all.npz\")\n",
    "all_data = torch.tensor(data['phate'], dtype=torch.float32)\n",
    "# Calculate mean and standard deviation\n",
    "mean_val = torch.mean(all_data)\n",
    "std_val = torch.std(all_data)\n",
    "\n",
    "# Standardize data\n",
    "scaled_data = (all_data - mean_val) / std_val\n",
    "\n",
    "# Split into training and validation sets\n",
    "train_data, val_data = train_test_split(scaled_data, test_size=0.2, random_state=42)\n",
    "\n",
    "# Convert to tensor datasets\n",
    "train_dataset = TensorDataset(train_data)\n",
    "val_dataset = TensorDataset(val_data)\n",
    "\n",
    "# Create DataLoaders\n",
    "batch_size = 64\n",
    "train_loader = DataLoader(train_dataset, batch_size=batch_size, shuffle=True)\n",
    "valid_loader = DataLoader(val_dataset, batch_size=batch_size, shuffle=False)\n"
   ]
  },
  {
   "cell_type": "code",
   "execution_count": 12,
   "metadata": {},
   "outputs": [
    {
     "name": "stdout",
     "output_type": "stream",
     "text": [
      "Epoch: 0, Loss: 0.24130181968212128\n",
      "Epoch: 1, Loss: 0.13050636649131775\n",
      "Epoch: 2, Loss: 0.1352580040693283\n",
      "Epoch: 3, Loss: 0.2989238500595093\n",
      "Epoch: 4, Loss: 0.34307602047920227\n",
      "Epoch: 5, Loss: 0.2632935345172882\n",
      "Epoch: 6, Loss: 0.3414468467235565\n",
      "Epoch: 7, Loss: 0.21199814975261688\n",
      "Epoch: 8, Loss: 0.19087164103984833\n",
      "Epoch: 9, Loss: 0.1667020320892334\n"
     ]
    }
   ],
   "source": [
    "from torch.utils.data import DataLoader, TensorDataset\n",
    "import torch.optim as optim\n",
    "\n",
    "# Model and optimizer\n",
    "model = DiffusionModel(\n",
    "    data_size=2,  # Assuming the data has shape [batch_size, data_size]\n",
    "    time_embedding_size=4,\n",
    "    hidden_size=8\n",
    ").to(device)  # Assuming 'device' is defined, e.g., 'cpu' or 'cuda'\n",
    "optimizer = optim.Adam(model.parameters(), lr=0.001)\n",
    "\n",
    "# Training\n",
    "train_diffusion_model(model, train_loader, optimizer, num_epochs=10, num_steps=1000, device=device)"
   ]
  },
  {
   "cell_type": "code",
   "execution_count": 29,
   "metadata": {},
   "outputs": [],
   "source": [
    "def generate_samples(model, num_samples, data_size, num_steps, device='cpu'):\n",
    "    model.eval()  # Ensure the model is in evaluation mode.\n",
    "\n",
    "    # Initial random noise\n",
    "    x_t = torch.randn(num_samples, data_size).to(device)\n",
    "\n",
    "    # Linear noise schedule used during training\n",
    "    betas = torch.linspace(0.0001, 0.02, num_steps).to(device)\n",
    "    alphas = 1.0 - betas\n",
    "    alphas_cumprod = torch.cumprod(alphas, dim=0)\n",
    "\n",
    "    # Generate t values for reverse process, normalized\n",
    "    # t_values = torch.linspace(0, num_steps - 1, num_steps).flip(0).to(device) / (num_steps - 1)\n",
    "    t_values = torch.arange(0, num_steps).flip(0).to(device)\n",
    "\n",
    "    with torch.no_grad():\n",
    "        for t in t_values:\n",
    "            # Calculate the current alpha and noise for this step\n",
    "            sqrt_alphas_cumprod = torch.sqrt(alphas_cumprod[t])\n",
    "            sqrt_one_minus_alphas_cumprod = torch.sqrt(1.0 - alphas_cumprod[t])\n",
    "            t_norm = t.float() / (num_steps - 1)\n",
    "            t_batch = t_norm.repeat(num_samples, 1)\n",
    "            # Prepare t for model input (ensure it's the correct shape and type)\n",
    "\n",
    "            # Model prediction to refine the current state\n",
    "            epsilon_t = model(x_t, t_batch)\n",
    "            mu_t = (x_t - (1 - alphas[t]) / sqrt_one_minus_alphas_cumprod * epsilon_t) / torch.sqrt(alphas[t])\n",
    "            noise1 = torch.randn(num_samples, data_size).to(device)\n",
    "            x_t = mu_t + torch.sqrt(betas[t]) * noise1\n",
    "\n",
    "    return x_t\n"
   ]
  },
  {
   "cell_type": "code",
   "execution_count": 40,
   "metadata": {},
   "outputs": [],
   "source": [
    "gs = generate_samples(model, num_samples=3000, data_size=2, num_steps=1000, device=device)"
   ]
  },
  {
   "cell_type": "code",
   "execution_count": 42,
   "metadata": {},
   "outputs": [],
   "source": [
    "import matplotlib.pyplot as plt"
   ]
  },
  {
   "cell_type": "code",
   "execution_count": 45,
   "metadata": {},
   "outputs": [
    {
     "data": {
      "text/plain": [
       "<matplotlib.collections.PathCollection at 0x151b95cffd10>"
      ]
     },
     "execution_count": 45,
     "metadata": {},
     "output_type": "execute_result"
    },
    {
     "data": {
      "image/png": "[encoded data removed]",
      "text/plain": [
       "<Figure size 640x480 with 1 Axes>"
      ]
     },
     "metadata": {},
     "output_type": "display_data"
    }
   ],
   "source": [
    "gt = scaled_data.cpu().numpy()\n",
    "plt.scatter(gt[:,0], gt[:,1], label='Ground Truth', s=1, alpha=0.5)\n",
    "plt.scatter(gs[:, 0].cpu().numpy(), gs[:, 1].cpu().numpy(), s=1, label='generated', alpha=0.5)"
   ]
  },
  {
   "cell_type": "code",
   "execution_count": null,
   "metadata": {},
   "outputs": [],
   "source": []
  }
 ],
 "metadata": {
  "kernelspec": {
   "display_name": "geosink",
   "language": "python",
   "name": "python3"
  },
  "language_info": {
   "codemirror_mode": {
    "name": "ipython",
    "version": 3
   },
   "file_extension": ".py",
   "mimetype": "text/x-python",
   "name": "python",
   "nbconvert_exporter": "python",
   "pygments_lexer": "ipython3",
   "version": "3.11.5"
  }
 },
 "nbformat": 4,
 "nbformat_minor": 2
}
