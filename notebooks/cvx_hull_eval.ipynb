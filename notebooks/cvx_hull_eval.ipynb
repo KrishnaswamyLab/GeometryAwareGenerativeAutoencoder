{
 "cells": [
  {
   "cell_type": "code",
   "execution_count": 1,
   "metadata": {},
   "outputs": [],
   "source": [
    "import wandb\n",
    "import sys\n",
    "import matplotlib.pyplot as plt\n",
    "import scprep\n",
    "import pandas as pd\n",
    "sys.path.append('../src/')\n",
    "from evaluate import get_results\n",
    "from omegaconf import OmegaConf\n",
    "from main import load_data\n",
    "from model import AEDist\n",
    "import numpy as np\n",
    "import os\n",
    "import glob\n",
    "import torch\n",
    "import pickle"
   ]
  },
  {
   "cell_type": "code",
   "execution_count": 2,
   "metadata": {},
   "outputs": [],
   "source": [
    "import numpy as np\n",
    "import scprep\n",
    "import torch\n",
    "import sys\n",
    "sys.path.append('../src/')\n",
    "# from cvx_hull_gen import CvxHullGenDirichlet, CvxHullGen\n",
    "device = torch.device(\"cuda\" if torch.cuda.is_available() else \"cpu\")\n",
    "import pickle"
   ]
  },
  {
   "cell_type": "code",
   "execution_count": 3,
   "metadata": {},
   "outputs": [],
   "source": [
    "import wandb\n",
    "import sys\n",
    "import matplotlib.pyplot as plt\n",
    "import scprep\n",
    "import pandas as pd\n",
    "sys.path.append('../src/')\n",
    "from diffusion import DiffusionModel\n",
    "from evaluate import get_results\n",
    "from omegaconf import OmegaConf\n",
    "from main import load_data, make_model\n",
    "import numpy as np\n",
    "import os\n",
    "import glob\n",
    "import matplotlib.animation as animation\n",
    "from matplotlib.animation import PillowWriter\n",
    "import torch\n",
    "from model import AEDist\n",
    "import magic\n",
    "import torch\n",
    "import numpy as np\n",
    "import matplotlib.pylab as pl\n",
    "import ot\n",
    "import ot.plot\n",
    "\n",
    "def compute_w2(gen, tru, device=torch.device(\"cuda\" if torch.cuda.is_available() else \"cpu\")):\n",
    "    M = ot.dist(gen, tru)\n",
    "    M = torch.tensor(M, dtype=torch.float32, device=device)\n",
    "    # M/=M.max()\n",
    "    assert gen.shape[0] == tru.shape[0]\n",
    "    n = gen.shape[0]\n",
    "    a, b = torch.ones((n,)).to(device) / n, torch.ones((n,)).to(device) / n  # uniform distribution on samples\n",
    "    G0 = ot.emd(a, b, M)\n",
    "    W = torch.sum(G0 * M)\n",
    "    return torch.sqrt(W)\n",
    "\n",
    "def eval_cvx(data_path, model_path, ae_run_id, pca_path, folder_path=\"../src/wandb/\", entity='xingzhis', project='dmae', n_top_genes=10000, seed=423):\n",
    "    with open(model_path, 'rb') as file:\n",
    "        cvxmodel = pickle.load(file)\n",
    "    data_latent = np.load(data_path)\n",
    "    train_mask = data_latent['train_mask']\n",
    "    generated_latent = model.generate((~train_mask).sum())\n",
    "    data_latent_train = data_latent['data'][data_latent['train_mask']]\n",
    "    # mean_, std_ = np.mean(data_latent_train, axis=0), np.std(data_latent_train, axis=0)\n",
    "    # generated_latent = generated_latent * std_ + mean_\n",
    "    device = torch.device(\"cuda\" if torch.cuda.is_available() else \"cpu\")\n",
    "    latent_gen = generated_latent.detach().cpu().numpy()\n",
    "    latent_test = data_latent['data'][~data_latent['train_mask']]\n",
    "    latent_train = data_latent['data'][data_latent['train_mask']]\n",
    "\n",
    "    std = latent_train.std()\n",
    "    noises = np.arange(1, 10) * 0.1\n",
    "    w2s = []\n",
    "    for noise in noises:\n",
    "        noisy_test = latent_test + np.random.randn(*latent_test.shape) * noise * std\n",
    "        w2 = compute_w2(noisy_test, latent_test).detach().cpu().numpy()\n",
    "        w2s.append(w2)\n",
    "\n",
    "    mean = latent_train.mean(axis=0)\n",
    "    cov = np.cov(latent_train, rowvar=False)\n",
    "    rand_samples = np.random.multivariate_normal(mean, cov, latent_test.shape[0])\n",
    "    \n",
    "    res = np.array([noises, w2s]).T\n",
    "    w_rand = compute_w2(rand_samples, latent_test).cpu().numpy()\n",
    "    w_gen = compute_w2(latent_gen, latent_test).cpu().numpy()\n",
    "\n",
    "    np.random.seed(seed)\n",
    "    latent_train_subset_id = np.random.choice(np.arange(len(latent_train)), size=len(latent_test), replace=False)\n",
    "    latent_train_subset = latent_train[latent_train_subset_id]\n",
    "    w_train = compute_w2(latent_train_subset, latent_test).cpu().numpy()\n",
    "\n",
    "    res_dict = dict(\n",
    "        w_increasing_noise=res,\n",
    "        w_noise=w_rand,\n",
    "        w_gen=w_gen,\n",
    "        w_train=w_train,\n",
    "    )\n",
    "\n",
    "    run = api.run(f\"{entity}/{project}/{ae_run_id}\")\n",
    "    cfg = OmegaConf.create(run.config)\n",
    "    folder_list = glob.glob(f\"{folder_path}*{run.id}*\")\n",
    "    ckpt_files = glob.glob(f\"{folder_list[0]}/files/*.ckpt\")\n",
    "    ckpt_path = ckpt_files[0]\n",
    "    data_path = os.path.join(cfg.data.root, cfg.data.name + cfg.data.filetype)\n",
    "    data = np.load(data_path, allow_pickle=True)\n",
    "    model = AEDist.load_from_checkpoint(ckpt_path)\n",
    "    model.eval()\n",
    "    with torch.no_grad():\n",
    "        gen_decoded = model.decode(generated_latent)\n",
    "    with torch.no_grad():\n",
    "        test_decoded = model.decode(torch.tensor(latent_test, dtype=torch.float32))\n",
    "    test_ambient = data['data'][~data['is_train']]\n",
    "    test_ambient = torch.tensor(test_ambient, dtype=torch.float)\n",
    "    train_ambient = data['data'][data['is_train']]\n",
    "    train_ambient = torch.tensor(train_ambient, dtype=torch.float)\n",
    "    magic_op = magic.MAGIC()\n",
    "    x_magic = magic_op.fit_transform(test_ambient.cpu().numpy())\n",
    "    pc_data = np.load(pca_path)\n",
    "    pca_loadings = pc_data['pca_loadings']\n",
    "    data_mean = pc_data['data_mean']\n",
    "    pca_data = x_magic\n",
    "    orig_magic = np.dot(pca_data, pca_loadings.T) + data_mean\n",
    "    orig_magic = np.asarray(orig_magic)\n",
    "    orig_magic = torch.tensor(orig_magic, dtype=torch.float32)\n",
    "    pca_data = gen_decoded.cpu().numpy()\n",
    "    orig_gen = np.dot(pca_data, pca_loadings.T) + data_mean\n",
    "    orig_gen = np.asarray(orig_gen)\n",
    "    orig_gen = torch.tensor(orig_gen, dtype=torch.float32)\n",
    "    pca_data = train_ambient.cpu().numpy()\n",
    "    orig_train = np.dot(pca_data, pca_loadings.T) + data_mean\n",
    "    orig_train = np.asarray(orig_train)\n",
    "    orig_train = torch.tensor(orig_train, dtype=torch.float32)\n",
    "    pca_data = test_decoded.cpu().numpy()\n",
    "    orig_dec = np.dot(pca_data, pca_loadings.T) + data_mean\n",
    "    orig_dec = np.asarray(orig_dec)\n",
    "    orig_dec = torch.tensor(orig_dec, dtype=torch.float32)\n",
    "    orig_vars = orig_magic.var(axis=0)\n",
    "    top_100_idx = torch.argsort(orig_vars).flip(0)[:n_top_genes]\n",
    "    magic_top100 = orig_magic[:,top_100_idx].cpu().numpy()\n",
    "    gen_top100 = orig_gen[:,top_100_idx].cpu().numpy()\n",
    "    dec_top100 = orig_dec[:,top_100_idx].cpu().numpy()\n",
    "    corrs_magic = np.corrcoef(magic_top100, rowvar=False)\n",
    "    corrs_gen = np.corrcoef(gen_top100, rowvar=False) \n",
    "    corrs_dec = np.corrcoef(dec_top100, rowvar=False)\n",
    "    mse_gen = ((corrs_magic - corrs_gen)**2).mean()\n",
    "    mse_dec = ((corrs_magic - corrs_dec)**2).mean()\n",
    "    res_dict['corrs_magic'] = corrs_magic\n",
    "    res_dict['corrs_gen'] = corrs_gen\n",
    "    res_dict['corrs_dec'] = corrs_dec\n",
    "    res_dict['mse_gen'] = mse_gen\n",
    "    res_dict['mse_dec'] = mse_dec\n",
    "    return res_dict"
   ]
  },
  {
   "cell_type": "code",
   "execution_count": 4,
   "metadata": {},
   "outputs": [],
   "source": [
    "# because of environment conflicts \n",
    "def eval_cvx_given_data(data_path, result_path, ae_run_id, pca_path, folder_path=\"../src/wandb/\", entity='xingzhis', project='dmae', n_top_genes=10000, seed=423):\n",
    "    # with open(model_path, 'rb') as file:\n",
    "    #     cvxmodel = pickle.load(file)\n",
    "    device = torch.device(\"cuda\" if torch.cuda.is_available() else \"cpu\")\n",
    "    data_latent = np.load(data_path)\n",
    "    train_mask = data_latent['train_mask']\n",
    "    generated_latent = torch.load(result_path)[:len(train_mask),:][~train_mask, :].to(device)\n",
    "    data_latent_train = data_latent['data'][data_latent['train_mask']]\n",
    "    # mean_, std_ = np.mean(data_latent_train, axis=0), np.std(data_latent_train, axis=0)\n",
    "    # generated_latent = generated_latent * std_ + mean_\n",
    "    latent_gen = generated_latent.detach().cpu().numpy()\n",
    "    latent_test = data_latent['data'][~data_latent['train_mask']]\n",
    "    latent_train = data_latent['data'][data_latent['train_mask']]\n",
    "\n",
    "    std = latent_train.std()\n",
    "    noises = np.arange(1, 10) * 0.1\n",
    "    w2s = []\n",
    "    for noise in noises:\n",
    "        noisy_test = latent_test + np.random.randn(*latent_test.shape) * noise * std\n",
    "        w2 = compute_w2(noisy_test, latent_test).detach().cpu().numpy()\n",
    "        w2s.append(w2)\n",
    "\n",
    "    mean = latent_train.mean(axis=0)\n",
    "    cov = np.cov(latent_train, rowvar=False)\n",
    "    rand_samples = np.random.multivariate_normal(mean, cov, latent_test.shape[0])\n",
    "    \n",
    "    res = np.array([noises, w2s]).T\n",
    "    w_rand = compute_w2(rand_samples, latent_test).cpu().numpy()\n",
    "    w_gen = compute_w2(latent_gen, latent_test).cpu().numpy()\n",
    "\n",
    "    np.random.seed(seed)\n",
    "    latent_train_subset_id = np.random.choice(np.arange(len(latent_train)), size=len(latent_test), replace=False)\n",
    "    latent_train_subset = latent_train[latent_train_subset_id]\n",
    "    w_train = compute_w2(latent_train_subset, latent_test).cpu().numpy()\n",
    "\n",
    "    res_dict = dict(\n",
    "        w_increasing_noise=res,\n",
    "        w_noise=w_rand,\n",
    "        w_gen=w_gen,\n",
    "        w_train=w_train,\n",
    "    )\n",
    "\n",
    "    run = api.run(f\"{entity}/{project}/{ae_run_id}\")\n",
    "    cfg = OmegaConf.create(run.config)\n",
    "    folder_list = glob.glob(f\"{folder_path}*{run.id}*\")\n",
    "    ckpt_files = glob.glob(f\"{folder_list[0]}/files/*.ckpt\")\n",
    "    ckpt_path = ckpt_files[0]\n",
    "    data_path = os.path.join(cfg.data.root, cfg.data.name + cfg.data.filetype)\n",
    "    data = np.load(data_path, allow_pickle=True)\n",
    "    model = AEDist.load_from_checkpoint(ckpt_path).to(device)\n",
    "    model.eval()\n",
    "    with torch.no_grad():\n",
    "        gen_decoded = model.decode(generated_latent.to(model.device))\n",
    "    with torch.no_grad():\n",
    "        test_decoded = model.decode(torch.tensor(latent_test, dtype=torch.float32, device=model.device))\n",
    "    test_ambient = data['data'][~data['is_train']]\n",
    "    test_ambient = torch.tensor(test_ambient, dtype=torch.float)\n",
    "    train_ambient = data['data'][data['is_train']]\n",
    "    train_ambient = torch.tensor(train_ambient, dtype=torch.float)\n",
    "    magic_op = magic.MAGIC()\n",
    "    x_magic = magic_op.fit_transform(test_ambient.cpu().numpy())\n",
    "    pc_data = np.load(pca_path)\n",
    "    pca_loadings = pc_data['pca_loadings']\n",
    "    data_mean = pc_data['data_mean']\n",
    "    pca_data = x_magic\n",
    "    orig_magic = np.dot(pca_data, pca_loadings.T) + data_mean\n",
    "    orig_magic = np.asarray(orig_magic)\n",
    "    orig_magic = torch.tensor(orig_magic, dtype=torch.float32)\n",
    "    pca_data = gen_decoded.cpu().numpy()\n",
    "    orig_gen = np.dot(pca_data, pca_loadings.T) + data_mean\n",
    "    orig_gen = np.asarray(orig_gen)\n",
    "    orig_gen = torch.tensor(orig_gen, dtype=torch.float32)\n",
    "    pca_data = train_ambient.cpu().numpy()\n",
    "    orig_train = np.dot(pca_data, pca_loadings.T) + data_mean\n",
    "    orig_train = np.asarray(orig_train)\n",
    "    orig_train = torch.tensor(orig_train, dtype=torch.float32)\n",
    "    pca_data = test_decoded.cpu().numpy()\n",
    "    orig_dec = np.dot(pca_data, pca_loadings.T) + data_mean\n",
    "    orig_dec = np.asarray(orig_dec)\n",
    "    orig_dec = torch.tensor(orig_dec, dtype=torch.float32)\n",
    "    orig_vars = orig_magic.var(axis=0)\n",
    "    top_100_idx = torch.argsort(orig_vars).flip(0)[:n_top_genes]\n",
    "    magic_top100 = orig_magic[:,top_100_idx].cpu().numpy()\n",
    "    gen_top100 = orig_gen[:,top_100_idx].cpu().numpy()\n",
    "    dec_top100 = orig_dec[:,top_100_idx].cpu().numpy()\n",
    "    corrs_magic = np.corrcoef(magic_top100, rowvar=False)\n",
    "    corrs_gen = np.corrcoef(gen_top100, rowvar=False) \n",
    "    corrs_dec = np.corrcoef(dec_top100, rowvar=False)\n",
    "    mse_gen = ((corrs_magic - corrs_gen)**2).mean()\n",
    "    mse_dec = ((corrs_magic - corrs_dec)**2).mean()\n",
    "    res_dict['corrs_magic'] = corrs_magic\n",
    "    res_dict['corrs_gen'] = corrs_gen\n",
    "    res_dict['corrs_dec'] = corrs_dec\n",
    "    res_dict['mse_gen'] = mse_gen\n",
    "    res_dict['mse_dec'] = mse_dec\n",
    "    return res_dict"
   ]
  },
  {
   "cell_type": "code",
   "execution_count": 5,
   "metadata": {},
   "outputs": [],
   "source": [
    "ids_df = pd.read_csv('../dm_data/differnt_dims.csv')"
   ]
  },
  {
   "cell_type": "code",
   "execution_count": 6,
   "metadata": {},
   "outputs": [
    {
     "name": "stderr",
     "output_type": "stream",
     "text": [
      "Failed to detect the name of this notebook, you can set it manually with the WANDB_NOTEBOOK_NAME environment variable to enable code saving.\n"
     ]
    },
    {
     "name": "stderr",
     "output_type": "stream",
     "text": [
      "\u001b[34m\u001b[1mwandb\u001b[0m: Currently logged in as: \u001b[33mxingzhis\u001b[0m. Use \u001b[1m`wandb login --relogin`\u001b[0m to force relogin\n"
     ]
    }
   ],
   "source": [
    "wandb.login()\n",
    "api = wandb.Api()"
   ]
  },
  {
   "cell_type": "code",
   "execution_count": 7,
   "metadata": {},
   "outputs": [],
   "source": [
    "ids_df.set_index('run_id', inplace=True)"
   ]
  },
  {
   "cell_type": "code",
   "execution_count": 8,
   "metadata": {},
   "outputs": [
    {
     "data": {
      "text/html": [
       "<div>\n",
       "<style scoped>\n",
       "    .dataframe tbody tr th:only-of-type {\n",
       "        vertical-align: middle;\n",
       "    }\n",
       "\n",
       "    .dataframe tbody tr th {\n",
       "        vertical-align: top;\n",
       "    }\n",
       "\n",
       "    .dataframe thead th {\n",
       "        text-align: right;\n",
       "    }\n",
       "</style>\n",
       "<table border=\"1\" class=\"dataframe\">\n",
       "  <thead>\n",
       "    <tr style=\"text-align: right;\">\n",
       "      <th></th>\n",
       "      <th>data.name</th>\n",
       "      <th>emb_dim</th>\n",
       "      <th>validation/reconstr_loss</th>\n",
       "      <th>validation/dist_accuracy</th>\n",
       "    </tr>\n",
       "    <tr>\n",
       "      <th>run_id</th>\n",
       "      <th></th>\n",
       "      <th></th>\n",
       "      <th></th>\n",
       "      <th></th>\n",
       "    </tr>\n",
       "  </thead>\n",
       "  <tbody>\n",
       "    <tr>\n",
       "      <th>9xtkqnkl</th>\n",
       "      <td>eb_subset_all</td>\n",
       "      <td>5</td>\n",
       "      <td>1.428262</td>\n",
       "      <td>0.866203</td>\n",
       "    </tr>\n",
       "    <tr>\n",
       "      <th>u98snjwi</th>\n",
       "      <td>eb_subset_all</td>\n",
       "      <td>15</td>\n",
       "      <td>1.315820</td>\n",
       "      <td>0.867569</td>\n",
       "    </tr>\n",
       "    <tr>\n",
       "      <th>9sapq4h8</th>\n",
       "      <td>eb_subset_all</td>\n",
       "      <td>20</td>\n",
       "      <td>1.294534</td>\n",
       "      <td>0.879244</td>\n",
       "    </tr>\n",
       "    <tr>\n",
       "      <th>m07wclny</th>\n",
       "      <td>eb_subset_all</td>\n",
       "      <td>25</td>\n",
       "      <td>1.277464</td>\n",
       "      <td>0.875017</td>\n",
       "    </tr>\n",
       "    <tr>\n",
       "      <th>p14vurq1</th>\n",
       "      <td>eb_subset_all</td>\n",
       "      <td>30</td>\n",
       "      <td>1.278060</td>\n",
       "      <td>0.880826</td>\n",
       "    </tr>\n",
       "    <tr>\n",
       "      <th>najohsy0</th>\n",
       "      <td>sea_ad_gaba_all</td>\n",
       "      <td>5</td>\n",
       "      <td>0.657298</td>\n",
       "      <td>0.918041</td>\n",
       "    </tr>\n",
       "    <tr>\n",
       "      <th>m2874yfn</th>\n",
       "      <td>sea_ad_gaba_all</td>\n",
       "      <td>15</td>\n",
       "      <td>0.638394</td>\n",
       "      <td>0.927088</td>\n",
       "    </tr>\n",
       "    <tr>\n",
       "      <th>4se1cs5d</th>\n",
       "      <td>sea_ad_gaba_all</td>\n",
       "      <td>20</td>\n",
       "      <td>0.639052</td>\n",
       "      <td>0.937962</td>\n",
       "    </tr>\n",
       "    <tr>\n",
       "      <th>islnpqz2</th>\n",
       "      <td>sea_ad_gaba_all</td>\n",
       "      <td>25</td>\n",
       "      <td>0.626545</td>\n",
       "      <td>0.937596</td>\n",
       "    </tr>\n",
       "    <tr>\n",
       "      <th>cbgj4rf2</th>\n",
       "      <td>sea_ad_gaba_all</td>\n",
       "      <td>30</td>\n",
       "      <td>0.647009</td>\n",
       "      <td>0.932049</td>\n",
       "    </tr>\n",
       "  </tbody>\n",
       "</table>\n",
       "</div>"
      ],
      "text/plain": [
       "                data.name  emb_dim  validation/reconstr_loss  \\\n",
       "run_id                                                         \n",
       "9xtkqnkl    eb_subset_all        5                  1.428262   \n",
       "u98snjwi    eb_subset_all       15                  1.315820   \n",
       "9sapq4h8    eb_subset_all       20                  1.294534   \n",
       "m07wclny    eb_subset_all       25                  1.277464   \n",
       "p14vurq1    eb_subset_all       30                  1.278060   \n",
       "najohsy0  sea_ad_gaba_all        5                  0.657298   \n",
       "m2874yfn  sea_ad_gaba_all       15                  0.638394   \n",
       "4se1cs5d  sea_ad_gaba_all       20                  0.639052   \n",
       "islnpqz2  sea_ad_gaba_all       25                  0.626545   \n",
       "cbgj4rf2  sea_ad_gaba_all       30                  0.647009   \n",
       "\n",
       "          validation/dist_accuracy  \n",
       "run_id                              \n",
       "9xtkqnkl                  0.866203  \n",
       "u98snjwi                  0.867569  \n",
       "9sapq4h8                  0.879244  \n",
       "m07wclny                  0.875017  \n",
       "p14vurq1                  0.880826  \n",
       "najohsy0                  0.918041  \n",
       "m2874yfn                  0.927088  \n",
       "4se1cs5d                  0.937962  \n",
       "islnpqz2                  0.937596  \n",
       "cbgj4rf2                  0.932049  "
      ]
     },
     "execution_count": 8,
     "metadata": {},
     "output_type": "execute_result"
    }
   ],
   "source": [
    "ids_df"
   ]
  },
  {
   "cell_type": "code",
   "execution_count": 9,
   "metadata": {},
   "outputs": [
    {
     "data": {
      "text/plain": [
       "<Axes: title={'center': 'EB'}, xlabel='dim', ylabel='validation dist accuracy'>"
      ]
     },
     "execution_count": 9,
     "metadata": {},
     "output_type": "execute_result"
    },
    {
     "data": {
      "image/png": "[encoded data removed]",
      "text/plain": [
       "<Figure size 900x300 with 2 Axes>"
      ]
     },
     "metadata": {},
     "output_type": "display_data"
    }
   ],
   "source": [
    "import matplotlib.pyplot as plt\n",
    "fig, axes = plt.subplots(1, 2, figsize=(9, 3))\n",
    "ids_df[ids_df['data.name'] == 'eb_subset_all'][['emb_dim','validation/reconstr_loss']].set_index('emb_dim').plot(title='EB', xlabel='dim', ylabel='validation reconstruction loss', legend=False, ax=axes[0])\n",
    "ids_df[ids_df['data.name'] == 'eb_subset_all'][['emb_dim','validation/dist_accuracy']].set_index('emb_dim').plot(title='EB', xlabel='dim', ylabel='validation dist accuracy', legend=False, ax=axes[1])\n"
   ]
  },
  {
   "cell_type": "code",
   "execution_count": 10,
   "metadata": {},
   "outputs": [
    {
     "data": {
      "text/plain": [
       "<Axes: title={'center': 'SEA-AD GABA'}, xlabel='dim', ylabel='validation dist accuracy'>"
      ]
     },
     "execution_count": 10,
     "metadata": {},
     "output_type": "execute_result"
    },
    {
     "data": {
      "image/png": "[encoded data removed]",
      "text/plain": [
       "<Figure size 900x300 with 2 Axes>"
      ]
     },
     "metadata": {},
     "output_type": "display_data"
    }
   ],
   "source": [
    "import matplotlib.pyplot as plt\n",
    "fig, axes = plt.subplots(1, 2, figsize=(9, 3))\n",
    "ids_df[ids_df['data.name'] == 'sea_ad_gaba_all'][['emb_dim','validation/reconstr_loss']].set_index('emb_dim').plot(title='SEA-AD GABA', xlabel='dim', ylabel='validation reconstruction loss', legend=False, ax=axes[0])\n",
    "ids_df[ids_df['data.name'] == 'sea_ad_gaba_all'][['emb_dim','validation/dist_accuracy']].set_index('emb_dim').plot(title='SEA-AD GABA', xlabel='dim', ylabel='validation dist accuracy', legend=False, ax=axes[1])\n"
   ]
  },
  {
   "cell_type": "code",
   "execution_count": 11,
   "metadata": {},
   "outputs": [],
   "source": [
    "# Specify your entity, project, and sweep ID\n",
    "entity = \"xingzhis\"\n",
    "project = \"dmae\"\n",
    "sweep_id = 'zypygyg0'\n",
    "\n",
    "# Fetch the sweep\n",
    "sweep = api.sweep(f\"{entity}/{project}/{sweep_id}\")"
   ]
  },
  {
   "cell_type": "code",
   "execution_count": 12,
   "metadata": {},
   "outputs": [],
   "source": [
    "# Initialize an empty list to store run data\n",
    "runs_data = []\n",
    "\n",
    "# Iterate through each run in the sweep\n",
    "for run in sweep.runs:\n",
    "    # Extract metrics and configs\n",
    "    metrics = run.summary._json_dict\n",
    "    configs = run.config\n",
    "    \n",
    "    # Combine metrics and configs, and add run ID\n",
    "    combined_data = {**metrics, **configs, \"run_id\": run.id}\n",
    "    \n",
    "    # Append the combined data to the list\n",
    "    runs_data.append(combined_data)\n",
    "\n",
    "# Create a DataFrame from the runs data\n",
    "df = pd.DataFrame(runs_data)"
   ]
  },
  {
   "cell_type": "code",
   "execution_count": 13,
   "metadata": {},
   "outputs": [],
   "source": [
    "# data_names = df['data'].unique()\n",
    "ids_df['data_path'] = '../dm_data/' + ids_df['data.name'] + '_' + ids_df['emb_dim'].apply(str) + '_dm.npz'\n",
    "ids_df['model_path'] = '../cvx_hull_models/' + ids_df['data.name'] + '_' + ids_df['emb_dim'].apply(str) + '_dm.npz.pkl'\n",
    "ids_df['result_path'] = '../cvx_hull_models/' + ids_df['data.name'] + '_' + ids_df['emb_dim'].apply(str) + '_dm.npz.pt'\n"
   ]
  },
  {
   "cell_type": "code",
   "execution_count": 14,
   "metadata": {},
   "outputs": [
    {
     "name": "stdout",
     "output_type": "stream",
     "text": [
      "Calculating MAGIC...\n",
      "  Running MAGIC on 600 cells and 50 genes.\n",
      "  Calculating graph and diffusion operator...\n",
      "    Calculating KNN search...\n",
      "    Calculated KNN search in 0.02 seconds.\n",
      "    Calculating affinities...\n",
      "    Calculated affinities in 0.02 seconds.\n",
      "  Calculated graph and diffusion operator in 0.05 seconds.\n",
      "  Calculating imputation...\n",
      "Calculated MAGIC in 0.05 seconds.\n"
     ]
    },
    {
     "name": "stderr",
     "output_type": "stream",
     "text": [
      "/gpfs/gibbs/pi/krishnaswamy_smita/xingzhi/dmae/notebooks/../src/model.py:281: UserWarning: To copy construct from a tensor, it is recommended to use sourceTensor.clone().detach() or sourceTensor.clone().detach().requires_grad_(True), rather than torch.tensor(sourceTensor).\n",
      "  self.register_buffer('mean', torch.tensor(mean, dtype=torch.float32), persistent=True)\n",
      "/gpfs/gibbs/pi/krishnaswamy_smita/xingzhi/dmae/notebooks/../src/model.py:282: UserWarning: To copy construct from a tensor, it is recommended to use sourceTensor.clone().detach() or sourceTensor.clone().detach().requires_grad_(True), rather than torch.tensor(sourceTensor).\n",
      "  self.register_buffer('std', torch.tensor(std, dtype=torch.float32), persistent=True)\n",
      "/gpfs/gibbs/pi/krishnaswamy_smita/xingzhi/.conda_envs/geosink/lib/python3.11/site-packages/pytorch_lightning/utilities/parsing.py:269: UserWarning: Attribute 'activation_fn' is an instance of `nn.Module` and is already saved during checkpointing. It is recommended to ignore them using `self.save_hyperparameters(ignore=['activation_fn'])`.\n",
      "  rank_zero_warn(\n"
     ]
    },
    {
     "name": "stdout",
     "output_type": "stream",
     "text": [
      "Calculating MAGIC...\n",
      "  Running MAGIC on 600 cells and 50 genes.\n",
      "  Calculating graph and diffusion operator...\n",
      "    Calculating KNN search...\n",
      "    Calculated KNN search in 0.02 seconds.\n",
      "    Calculating affinities...\n",
      "    Calculated affinities in 0.02 seconds.\n",
      "  Calculated graph and diffusion operator in 0.05 seconds.\n",
      "  Calculating imputation...\n",
      "Calculated MAGIC in 0.05 seconds.\n"
     ]
    },
    {
     "name": "stderr",
     "output_type": "stream",
     "text": [
      "/gpfs/gibbs/pi/krishnaswamy_smita/xingzhi/dmae/notebooks/../src/model.py:281: UserWarning: To copy construct from a tensor, it is recommended to use sourceTensor.clone().detach() or sourceTensor.clone().detach().requires_grad_(True), rather than torch.tensor(sourceTensor).\n",
      "  self.register_buffer('mean', torch.tensor(mean, dtype=torch.float32), persistent=True)\n",
      "/gpfs/gibbs/pi/krishnaswamy_smita/xingzhi/dmae/notebooks/../src/model.py:282: UserWarning: To copy construct from a tensor, it is recommended to use sourceTensor.clone().detach() or sourceTensor.clone().detach().requires_grad_(True), rather than torch.tensor(sourceTensor).\n",
      "  self.register_buffer('std', torch.tensor(std, dtype=torch.float32), persistent=True)\n",
      "/gpfs/gibbs/pi/krishnaswamy_smita/xingzhi/.conda_envs/geosink/lib/python3.11/site-packages/pytorch_lightning/utilities/parsing.py:269: UserWarning: Attribute 'activation_fn' is an instance of `nn.Module` and is already saved during checkpointing. It is recommended to ignore them using `self.save_hyperparameters(ignore=['activation_fn'])`.\n",
      "  rank_zero_warn(\n"
     ]
    },
    {
     "name": "stdout",
     "output_type": "stream",
     "text": [
      "Calculating MAGIC...\n",
      "  Running MAGIC on 600 cells and 50 genes.\n",
      "  Calculating graph and diffusion operator...\n",
      "    Calculating KNN search...\n",
      "    Calculated KNN search in 0.02 seconds.\n",
      "    Calculating affinities...\n",
      "    Calculated affinities in 0.02 seconds.\n",
      "  Calculated graph and diffusion operator in 0.05 seconds.\n",
      "  Calculating imputation...\n",
      "Calculated MAGIC in 0.05 seconds.\n"
     ]
    },
    {
     "name": "stderr",
     "output_type": "stream",
     "text": [
      "/gpfs/gibbs/pi/krishnaswamy_smita/xingzhi/dmae/notebooks/../src/model.py:281: UserWarning: To copy construct from a tensor, it is recommended to use sourceTensor.clone().detach() or sourceTensor.clone().detach().requires_grad_(True), rather than torch.tensor(sourceTensor).\n",
      "  self.register_buffer('mean', torch.tensor(mean, dtype=torch.float32), persistent=True)\n",
      "/gpfs/gibbs/pi/krishnaswamy_smita/xingzhi/dmae/notebooks/../src/model.py:282: UserWarning: To copy construct from a tensor, it is recommended to use sourceTensor.clone().detach() or sourceTensor.clone().detach().requires_grad_(True), rather than torch.tensor(sourceTensor).\n",
      "  self.register_buffer('std', torch.tensor(std, dtype=torch.float32), persistent=True)\n",
      "/gpfs/gibbs/pi/krishnaswamy_smita/xingzhi/.conda_envs/geosink/lib/python3.11/site-packages/pytorch_lightning/utilities/parsing.py:269: UserWarning: Attribute 'activation_fn' is an instance of `nn.Module` and is already saved during checkpointing. It is recommended to ignore them using `self.save_hyperparameters(ignore=['activation_fn'])`.\n",
      "  rank_zero_warn(\n"
     ]
    },
    {
     "name": "stdout",
     "output_type": "stream",
     "text": [
      "Calculating MAGIC...\n",
      "  Running MAGIC on 600 cells and 50 genes.\n",
      "  Calculating graph and diffusion operator...\n",
      "    Calculating KNN search...\n",
      "    Calculated KNN search in 0.02 seconds.\n",
      "    Calculating affinities...\n",
      "    Calculated affinities in 0.03 seconds.\n",
      "  Calculated graph and diffusion operator in 0.05 seconds.\n",
      "  Calculating imputation...\n",
      "Calculated MAGIC in 0.06 seconds.\n"
     ]
    },
    {
     "name": "stderr",
     "output_type": "stream",
     "text": [
      "/gpfs/gibbs/pi/krishnaswamy_smita/xingzhi/dmae/notebooks/../src/model.py:281: UserWarning: To copy construct from a tensor, it is recommended to use sourceTensor.clone().detach() or sourceTensor.clone().detach().requires_grad_(True), rather than torch.tensor(sourceTensor).\n",
      "  self.register_buffer('mean', torch.tensor(mean, dtype=torch.float32), persistent=True)\n",
      "/gpfs/gibbs/pi/krishnaswamy_smita/xingzhi/dmae/notebooks/../src/model.py:282: UserWarning: To copy construct from a tensor, it is recommended to use sourceTensor.clone().detach() or sourceTensor.clone().detach().requires_grad_(True), rather than torch.tensor(sourceTensor).\n",
      "  self.register_buffer('std', torch.tensor(std, dtype=torch.float32), persistent=True)\n",
      "/gpfs/gibbs/pi/krishnaswamy_smita/xingzhi/.conda_envs/geosink/lib/python3.11/site-packages/pytorch_lightning/utilities/parsing.py:269: UserWarning: Attribute 'activation_fn' is an instance of `nn.Module` and is already saved during checkpointing. It is recommended to ignore them using `self.save_hyperparameters(ignore=['activation_fn'])`.\n",
      "  rank_zero_warn(\n"
     ]
    },
    {
     "name": "stdout",
     "output_type": "stream",
     "text": [
      "Calculating MAGIC...\n",
      "  Running MAGIC on 600 cells and 50 genes.\n",
      "  Calculating graph and diffusion operator...\n",
      "    Calculating KNN search...\n",
      "    Calculated KNN search in 0.03 seconds.\n",
      "    Calculating affinities...\n",
      "    Calculated affinities in 0.02 seconds.\n",
      "  Calculated graph and diffusion operator in 0.05 seconds.\n",
      "  Calculating imputation...\n",
      "Calculated MAGIC in 0.07 seconds.\n"
     ]
    },
    {
     "name": "stderr",
     "output_type": "stream",
     "text": [
      "/gpfs/gibbs/pi/krishnaswamy_smita/xingzhi/dmae/notebooks/../src/model.py:281: UserWarning: To copy construct from a tensor, it is recommended to use sourceTensor.clone().detach() or sourceTensor.clone().detach().requires_grad_(True), rather than torch.tensor(sourceTensor).\n",
      "  self.register_buffer('mean', torch.tensor(mean, dtype=torch.float32), persistent=True)\n",
      "/gpfs/gibbs/pi/krishnaswamy_smita/xingzhi/dmae/notebooks/../src/model.py:282: UserWarning: To copy construct from a tensor, it is recommended to use sourceTensor.clone().detach() or sourceTensor.clone().detach().requires_grad_(True), rather than torch.tensor(sourceTensor).\n",
      "  self.register_buffer('std', torch.tensor(std, dtype=torch.float32), persistent=True)\n",
      "/gpfs/gibbs/pi/krishnaswamy_smita/xingzhi/.conda_envs/geosink/lib/python3.11/site-packages/pytorch_lightning/utilities/parsing.py:269: UserWarning: Attribute 'activation_fn' is an instance of `nn.Module` and is already saved during checkpointing. It is recommended to ignore them using `self.save_hyperparameters(ignore=['activation_fn'])`.\n",
      "  rank_zero_warn(\n"
     ]
    },
    {
     "name": "stdout",
     "output_type": "stream",
     "text": [
      "Calculating MAGIC...\n",
      "  Running MAGIC on 757 cells and 100 genes.\n",
      "  Calculating graph and diffusion operator...\n",
      "    Calculating KNN search...\n",
      "    Calculated KNN search in 0.06 seconds.\n",
      "    Calculating affinities...\n",
      "    Calculated affinities in 0.06 seconds.\n",
      "  Calculated graph and diffusion operator in 0.13 seconds.\n",
      "  Calculating imputation...\n",
      "Calculated MAGIC in 0.14 seconds.\n"
     ]
    },
    {
     "name": "stderr",
     "output_type": "stream",
     "text": [
      "/gpfs/gibbs/pi/krishnaswamy_smita/xingzhi/dmae/notebooks/../src/model.py:281: UserWarning: To copy construct from a tensor, it is recommended to use sourceTensor.clone().detach() or sourceTensor.clone().detach().requires_grad_(True), rather than torch.tensor(sourceTensor).\n",
      "  self.register_buffer('mean', torch.tensor(mean, dtype=torch.float32), persistent=True)\n",
      "/gpfs/gibbs/pi/krishnaswamy_smita/xingzhi/dmae/notebooks/../src/model.py:282: UserWarning: To copy construct from a tensor, it is recommended to use sourceTensor.clone().detach() or sourceTensor.clone().detach().requires_grad_(True), rather than torch.tensor(sourceTensor).\n",
      "  self.register_buffer('std', torch.tensor(std, dtype=torch.float32), persistent=True)\n",
      "/gpfs/gibbs/pi/krishnaswamy_smita/xingzhi/.conda_envs/geosink/lib/python3.11/site-packages/pytorch_lightning/utilities/parsing.py:269: UserWarning: Attribute 'activation_fn' is an instance of `nn.Module` and is already saved during checkpointing. It is recommended to ignore them using `self.save_hyperparameters(ignore=['activation_fn'])`.\n",
      "  rank_zero_warn(\n"
     ]
    },
    {
     "name": "stdout",
     "output_type": "stream",
     "text": [
      "Calculating MAGIC...\n",
      "  Running MAGIC on 757 cells and 100 genes.\n",
      "  Calculating graph and diffusion operator...\n",
      "    Calculating KNN search...\n",
      "    Calculated KNN search in 0.06 seconds.\n",
      "    Calculating affinities...\n",
      "    Calculated affinities in 0.06 seconds.\n",
      "  Calculated graph and diffusion operator in 0.13 seconds.\n",
      "  Calculating imputation...\n",
      "Calculated MAGIC in 0.14 seconds.\n"
     ]
    },
    {
     "name": "stderr",
     "output_type": "stream",
     "text": [
      "/gpfs/gibbs/pi/krishnaswamy_smita/xingzhi/dmae/notebooks/../src/model.py:281: UserWarning: To copy construct from a tensor, it is recommended to use sourceTensor.clone().detach() or sourceTensor.clone().detach().requires_grad_(True), rather than torch.tensor(sourceTensor).\n",
      "  self.register_buffer('mean', torch.tensor(mean, dtype=torch.float32), persistent=True)\n",
      "/gpfs/gibbs/pi/krishnaswamy_smita/xingzhi/dmae/notebooks/../src/model.py:282: UserWarning: To copy construct from a tensor, it is recommended to use sourceTensor.clone().detach() or sourceTensor.clone().detach().requires_grad_(True), rather than torch.tensor(sourceTensor).\n",
      "  self.register_buffer('std', torch.tensor(std, dtype=torch.float32), persistent=True)\n",
      "/gpfs/gibbs/pi/krishnaswamy_smita/xingzhi/.conda_envs/geosink/lib/python3.11/site-packages/pytorch_lightning/utilities/parsing.py:269: UserWarning: Attribute 'activation_fn' is an instance of `nn.Module` and is already saved during checkpointing. It is recommended to ignore them using `self.save_hyperparameters(ignore=['activation_fn'])`.\n",
      "  rank_zero_warn(\n"
     ]
    },
    {
     "name": "stdout",
     "output_type": "stream",
     "text": [
      "Calculating MAGIC...\n",
      "  Running MAGIC on 757 cells and 100 genes.\n",
      "  Calculating graph and diffusion operator...\n",
      "    Calculating KNN search...\n",
      "    Calculated KNN search in 0.06 seconds.\n",
      "    Calculating affinities...\n",
      "    Calculated affinities in 0.06 seconds.\n",
      "  Calculated graph and diffusion operator in 0.13 seconds.\n",
      "  Calculating imputation...\n",
      "Calculated MAGIC in 0.14 seconds.\n"
     ]
    },
    {
     "name": "stderr",
     "output_type": "stream",
     "text": [
      "/gpfs/gibbs/pi/krishnaswamy_smita/xingzhi/dmae/notebooks/../src/model.py:281: UserWarning: To copy construct from a tensor, it is recommended to use sourceTensor.clone().detach() or sourceTensor.clone().detach().requires_grad_(True), rather than torch.tensor(sourceTensor).\n",
      "  self.register_buffer('mean', torch.tensor(mean, dtype=torch.float32), persistent=True)\n",
      "/gpfs/gibbs/pi/krishnaswamy_smita/xingzhi/dmae/notebooks/../src/model.py:282: UserWarning: To copy construct from a tensor, it is recommended to use sourceTensor.clone().detach() or sourceTensor.clone().detach().requires_grad_(True), rather than torch.tensor(sourceTensor).\n",
      "  self.register_buffer('std', torch.tensor(std, dtype=torch.float32), persistent=True)\n",
      "/gpfs/gibbs/pi/krishnaswamy_smita/xingzhi/.conda_envs/geosink/lib/python3.11/site-packages/pytorch_lightning/utilities/parsing.py:269: UserWarning: Attribute 'activation_fn' is an instance of `nn.Module` and is already saved during checkpointing. It is recommended to ignore them using `self.save_hyperparameters(ignore=['activation_fn'])`.\n",
      "  rank_zero_warn(\n"
     ]
    },
    {
     "name": "stdout",
     "output_type": "stream",
     "text": [
      "Calculating MAGIC...\n",
      "  Running MAGIC on 757 cells and 100 genes.\n",
      "  Calculating graph and diffusion operator...\n",
      "    Calculating KNN search...\n",
      "    Calculated KNN search in 0.06 seconds.\n",
      "    Calculating affinities...\n",
      "    Calculated affinities in 0.06 seconds.\n",
      "  Calculated graph and diffusion operator in 0.13 seconds.\n",
      "  Calculating imputation...\n",
      "Calculated MAGIC in 0.14 seconds.\n"
     ]
    },
    {
     "name": "stderr",
     "output_type": "stream",
     "text": [
      "/gpfs/gibbs/pi/krishnaswamy_smita/xingzhi/dmae/notebooks/../src/model.py:281: UserWarning: To copy construct from a tensor, it is recommended to use sourceTensor.clone().detach() or sourceTensor.clone().detach().requires_grad_(True), rather than torch.tensor(sourceTensor).\n",
      "  self.register_buffer('mean', torch.tensor(mean, dtype=torch.float32), persistent=True)\n",
      "/gpfs/gibbs/pi/krishnaswamy_smita/xingzhi/dmae/notebooks/../src/model.py:282: UserWarning: To copy construct from a tensor, it is recommended to use sourceTensor.clone().detach() or sourceTensor.clone().detach().requires_grad_(True), rather than torch.tensor(sourceTensor).\n",
      "  self.register_buffer('std', torch.tensor(std, dtype=torch.float32), persistent=True)\n",
      "/gpfs/gibbs/pi/krishnaswamy_smita/xingzhi/.conda_envs/geosink/lib/python3.11/site-packages/pytorch_lightning/utilities/parsing.py:269: UserWarning: Attribute 'activation_fn' is an instance of `nn.Module` and is already saved during checkpointing. It is recommended to ignore them using `self.save_hyperparameters(ignore=['activation_fn'])`.\n",
      "  rank_zero_warn(\n"
     ]
    },
    {
     "name": "stdout",
     "output_type": "stream",
     "text": [
      "Calculating MAGIC...\n",
      "  Running MAGIC on 757 cells and 100 genes.\n",
      "  Calculating graph and diffusion operator...\n",
      "    Calculating KNN search...\n",
      "    Calculated KNN search in 0.06 seconds.\n",
      "    Calculating affinities...\n",
      "    Calculated affinities in 0.06 seconds.\n",
      "  Calculated graph and diffusion operator in 0.13 seconds.\n",
      "  Calculating imputation...\n",
      "Calculated MAGIC in 0.14 seconds.\n"
     ]
    },
    {
     "name": "stderr",
     "output_type": "stream",
     "text": [
      "/gpfs/gibbs/pi/krishnaswamy_smita/xingzhi/dmae/notebooks/../src/model.py:281: UserWarning: To copy construct from a tensor, it is recommended to use sourceTensor.clone().detach() or sourceTensor.clone().detach().requires_grad_(True), rather than torch.tensor(sourceTensor).\n",
      "  self.register_buffer('mean', torch.tensor(mean, dtype=torch.float32), persistent=True)\n",
      "/gpfs/gibbs/pi/krishnaswamy_smita/xingzhi/dmae/notebooks/../src/model.py:282: UserWarning: To copy construct from a tensor, it is recommended to use sourceTensor.clone().detach() or sourceTensor.clone().detach().requires_grad_(True), rather than torch.tensor(sourceTensor).\n",
      "  self.register_buffer('std', torch.tensor(std, dtype=torch.float32), persistent=True)\n",
      "/gpfs/gibbs/pi/krishnaswamy_smita/xingzhi/.conda_envs/geosink/lib/python3.11/site-packages/pytorch_lightning/utilities/parsing.py:269: UserWarning: Attribute 'activation_fn' is an instance of `nn.Module` and is already saved during checkpointing. It is recommended to ignore them using `self.save_hyperparameters(ignore=['activation_fn'])`.\n",
      "  rank_zero_warn(\n"
     ]
    }
   ],
   "source": [
    "results = []\n",
    "for i in range(len(ids_df)):\n",
    "    data_path = ids_df.iloc[i,:]['data_path']\n",
    "    # model_path = ids_df.iloc[i,:]['model_path']\n",
    "    result_path = ids_df.iloc[i,:]['result_path']\n",
    "    ae_run_id = ids_df.index[i]\n",
    "    idx = ids_df.index[i]\n",
    "    # run_id = df[df['data'] == data_name]['run_id'].values[0]\n",
    "    pca_path = f\"../data/{ids_df.loc[ae_run_id,:]['data.name']}_pcs.npz\"\n",
    "    # run = api.run(f\"{entity}/{project}/{run_id}\")\n",
    "    # cfg = OmegaConf.create(run.config)\n",
    "    res_dict = eval_cvx_given_data(data_path, result_path, ae_run_id, pca_path)\n",
    "    res_dict['data'] = ids_df.loc[idx,:]['data.name']\n",
    "    res_dict['emb_dim'] = ids_df.loc[idx,:]['emb_dim']\n",
    "    results.append(res_dict)"
   ]
  },
  {
   "cell_type": "code",
   "execution_count": null,
   "metadata": {},
   "outputs": [],
   "source": [
    "with open('cvx_results_eval.pkl', 'wb') as file:\n",
    "    pickle.dump(results, file)"
   ]
  },
  {
   "cell_type": "code",
   "execution_count": null,
   "metadata": {},
   "outputs": [],
   "source": []
  }
 ],
 "metadata": {
  "kernelspec": {
   "display_name": "geosink",
   "language": "python",
   "name": "python3"
  },
  "language_info": {
   "codemirror_mode": {
    "name": "ipython",
    "version": 3
   },
   "file_extension": ".py",
   "mimetype": "text/x-python",
   "name": "python",
   "nbconvert_exporter": "python",
   "pygments_lexer": "ipython3",
   "version": "3.11.5"
  },
  "orig_nbformat": 4
 },
 "nbformat": 4,
 "nbformat_minor": 2
}
