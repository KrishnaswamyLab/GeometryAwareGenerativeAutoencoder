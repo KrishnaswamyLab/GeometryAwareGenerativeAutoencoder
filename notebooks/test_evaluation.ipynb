{
 "cells": [
  {
   "cell_type": "code",
   "execution_count": 1,
   "metadata": {},
   "outputs": [],
   "source": [
    "import sys\n",
    "sys.path.append('../src')\n",
    "from evaluation import rename_string, eval_results"
   ]
  },
  {
   "cell_type": "code",
   "execution_count": 2,
   "metadata": {},
   "outputs": [],
   "source": [
    "import wandb\n",
    "import matplotlib.pyplot as plt\n",
    "import scprep\n",
    "import pandas as pd\n",
    "from evaluate import get_results\n",
    "from omegaconf import OmegaConf\n",
    "from main import load_data, make_model\n",
    "import numpy as np\n",
    "import os\n",
    "import glob\n",
    "import demap\n",
    "from transformations import NonTransform"
   ]
  },
  {
   "cell_type": "markdown",
   "metadata": {},
   "source": [
    "specific to @xingzhis' model: load data names from config. "
   ]
  },
  {
   "cell_type": "code",
   "execution_count": 3,
   "metadata": {},
   "outputs": [
    {
     "name": "stderr",
     "output_type": "stream",
     "text": [
      "Failed to detect the name of this notebook, you can set it manually with the WANDB_NOTEBOOK_NAME environment variable to enable code saving.\n"
     ]
    },
    {
     "name": "stderr",
     "output_type": "stream",
     "text": [
      "\u001b[34m\u001b[1mwandb\u001b[0m: Currently logged in as: \u001b[33mxingzhis\u001b[0m. Use \u001b[1m`wandb login --relogin`\u001b[0m to force relogin\n"
     ]
    }
   ],
   "source": [
    "# Initialize wandb (replace 'your_entity' and 'your_project' with your specific details)\n",
    "wandb.login()\n",
    "api = wandb.Api()\n",
    "\n",
    "# Specify your entity, project, and sweep ID\n",
    "entity = \"xingzhis\"\n",
    "project = \"dmae\"\n",
    "sweep_id = 'wgysuau8'\n",
    "\n",
    "# Fetch the sweep\n",
    "sweep = api.sweep(f\"{entity}/{project}/{sweep_id}\")\n",
    "\n",
    "run_ids = [run.id for run in sweep.runs]\n",
    "run = sweep.runs[0] # for example.\n",
    "cfg = OmegaConf.create(run.config)\n",
    "folder_path = \"../src/wandb/\"\n",
    "try:\n",
    "    folder_list = glob.glob(f\"{folder_path}*{run.id}*\")\n",
    "    ckpt_files = glob.glob(f\"{folder_list[0]}/files/*.ckpt\")\n",
    "    ckpt_path = ckpt_files[0]\n",
    "except:\n",
    "    print(f\"No checkpoint found for run {run.id}\")\n",
    "cfg = OmegaConf.create(run.config)\n",
    "\n",
    "data_path = os.path.join(cfg.data.root, cfg.data.name + cfg.data.filetype)\n",
    "noiseless_path = os.path.join(cfg.data.root, rename_string(cfg.data.name) + cfg.data.filetype)"
   ]
  },
  {
   "cell_type": "markdown",
   "metadata": {},
   "source": [
    "Specific to @xingzhis' model: load model"
   ]
  },
  {
   "cell_type": "code",
   "execution_count": 6,
   "metadata": {},
   "outputs": [],
   "source": [
    "pp = NonTransform()\n",
    "emb_dim = cfg.model.emb_dim\n",
    "dist_std = 1.\n",
    "input_dim = 100\n",
    "model = make_model(cfg, input_dim, emb_dim, pp, dist_std, from_checkpoint=True, checkpoint_path=ckpt_path)"
   ]
  },
  {
   "cell_type": "markdown",
   "metadata": {},
   "source": [
    "compute metric"
   ]
  },
  {
   "cell_type": "code",
   "execution_count": 7,
   "metadata": {},
   "outputs": [],
   "source": [
    "result = eval_results(data_path, noiseless_path, model)"
   ]
  },
  {
   "cell_type": "code",
   "execution_count": 8,
   "metadata": {},
   "outputs": [
    {
     "data": {
      "text/plain": [
       "{'demap': 0.7140251186997651,\n",
       " 'accuracy': 0.7504084617128052,\n",
       " 'gene_corr_mse': nan,\n",
       " 'seedmethod': 'groups,46',\n",
       " 'bcv': '0.2',\n",
       " 'dropout': '0.7'}"
      ]
     },
     "execution_count": 8,
     "metadata": {},
     "output_type": "execute_result"
    }
   ],
   "source": [
    "result"
   ]
  }
 ],
 "metadata": {
  "kernelspec": {
   "display_name": "geosink",
   "language": "python",
   "name": "python3"
  },
  "language_info": {
   "codemirror_mode": {
    "name": "ipython",
    "version": 3
   },
   "file_extension": ".py",
   "mimetype": "text/x-python",
   "name": "python",
   "nbconvert_exporter": "python",
   "pygments_lexer": "ipython3",
   "version": "3.11.5"
  },
  "orig_nbformat": 4
 },
 "nbformat": 4,
 "nbformat_minor": 2
}
