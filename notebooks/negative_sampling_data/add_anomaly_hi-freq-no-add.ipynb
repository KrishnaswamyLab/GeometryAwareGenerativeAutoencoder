{
 "cells": [
  {
   "cell_type": "code",
   "execution_count": 6,
   "metadata": {},
   "outputs": [],
   "source": [
    "import numpy as np\n",
    "import pathlib\n",
    "import sys\n",
    "sys.path.append('../../src')\n",
    "from negative_sampling import add_negative_samples, make_hi_freq_noise\n",
    "from diffusionmap import DiffusionMap\n",
    "import phate\n",
    "from plotly3d.plot import scatter"
   ]
  },
  {
   "cell_type": "code",
   "execution_count": 7,
   "metadata": {},
   "outputs": [],
   "source": [
    "data0 = np.load('../../data/eb_subset_all.npz')\n",
    "data_dict = {f: data0[f] for f in data0.files}\n",
    "data_dict = add_negative_samples(data_dict, subset_rate=0.5, noise_rate=1, seed=42, noise='hi-freq-no-add')\n",
    "pathlib.Path('../../data/negative_sampling/hifreq1noadd/').mkdir(parents=True, exist_ok=True)\n",
    "np.savez('../../data/negative_sampling/hifreq1noadd/eb_subset_all.npz', **data_dict)"
   ]
  },
  {
   "cell_type": "code",
   "execution_count": null,
   "metadata": {},
   "outputs": [],
   "source": [
    "data0 = np.load('../../toy_data/converted/make_mix_surface.npz')\n",
    "data_dict = {f: data0[f] for f in data0.files}\n",
    "data_dict = add_negative_samples(data_dict, subset_rate=0.5, noise_rate=1, seed=42, noise='hi-freq-no-add')\n",
    "pathlib.Path('../../data/negative_sampling/hifreq1noadd/').mkdir(parents=True, exist_ok=True)\n",
    "np.savez('../../data/negative_sampling/hifreq1noadd/make_mix_surface.npz', **data_dict)"
   ]
  },
  {
   "cell_type": "code",
   "execution_count": null,
   "metadata": {},
   "outputs": [],
   "source": [
    "data0 = np.load('../../data/hemisphere_hi_dim2.npz')\n",
    "data_dict = {f: data0[f] for f in data0.files}\n",
    "data_dict = add_negative_samples(data_dict, subset_rate=0.5, noise_rate=1, seed=42, noise='hi-freq-no-add')\n",
    "pathlib.Path('../../data/negative_sampling/hifreq1noadd/').mkdir(parents=True, exist_ok=True)\n",
    "np.savez('../../data/negative_sampling/hifreq1noadd/hemisphere_hi_dim2.npz', **data_dict)"
   ]
  },
  {
   "cell_type": "code",
   "execution_count": null,
   "metadata": {},
   "outputs": [],
   "source": [
    "data0 = np.load('../../data/hemisphere.npz')\n",
    "data_dict = {f: data0[f] for f in data0.files}\n",
    "data_dict = add_negative_samples(data_dict, subset_rate=0.5, noise_rate=1, seed=42, noise='hi-freq-no-add')\n",
    "pathlib.Path('../../data/negative_sampling/hifreq1noadd/').mkdir(parents=True, exist_ok=True)\n",
    "np.savez('../../data/negative_sampling/hifreq1noadd/hemisphere.npz', **data_dict)"
   ]
  },
  {
   "cell_type": "code",
   "execution_count": null,
   "metadata": {},
   "outputs": [],
   "source": []
  }
 ],
 "metadata": {
  "kernelspec": {
   "display_name": "geosink",
   "language": "python",
   "name": "python3"
  },
  "language_info": {
   "codemirror_mode": {
    "name": "ipython",
    "version": 3
   },
   "file_extension": ".py",
   "mimetype": "text/x-python",
   "name": "python",
   "nbconvert_exporter": "python",
   "pygments_lexer": "ipython3",
   "version": "3.11.5"
  }
 },
 "nbformat": 4,
 "nbformat_minor": 2
}
