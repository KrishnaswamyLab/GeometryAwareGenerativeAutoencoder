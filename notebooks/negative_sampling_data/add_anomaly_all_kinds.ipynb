{
 "cells": [
  {
   "cell_type": "code",
   "execution_count": 1,
   "metadata": {},
   "outputs": [],
   "source": [
    "# import numpy as np\n",
    "# import pathlib\n",
    "# import sys\n",
    "# sys.path.append('../../src')\n",
    "# from negative_sampling import add_negative_samples, make_hi_freq_noise\n",
    "# from diffusionmap import DiffusionMap\n",
    "# import phate\n",
    "# from plotly3d.plot import scatter\n",
    "# from tqdm import tqdm"
   ]
  },
  {
   "cell_type": "code",
   "execution_count": 2,
   "metadata": {},
   "outputs": [],
   "source": [
    "# data_list = ['../../data/eb_subset_all.npz', '../../toy_data/converted/make_mix_surface.npz', '../../data/hemisphere.npz', '../../data/hemisphere_hi_dim2.npz']\n",
    "# noise_types = ['gaussian', 'hi-freq', 'hi-freq-no-add']\n",
    "# noise_levels = [0.2, 0.5, 1.]\n",
    "# subset_rate = 0.5\n",
    "# seed = 42"
   ]
  },
  {
   "cell_type": "code",
   "execution_count": null,
   "metadata": {},
   "outputs": [],
   "source": [
    "# for data_path in tqdm(data_list):\n",
    "#     for noise_type in tqdm(noise_types):\n",
    "#         for noise_level in tqdm(noise_levels):\n",
    "#             data0 = np.load(data_path):\n",
    "#             data_dict = {f: data0[f] for f in data0.files}\n",
    "#             data_dict = add_negative_samples(data_dict, subset_rate=subset_rate, noise_rate=noise_level, seed=seed, noise=noise_type)\n",
    "#             savefldr = f'../../data/negative_sampling_new/{noise_type}/{noise_level}/'\n",
    "#             pathlib.Path(savefldr).mkdir(parents=True, exist_ok=True)\n",
    "#             data_name = data_path.split('/')[-1].split('.')[0]\n",
    "#             np.savez(f\"{savefldr}/{data_name}.npz\", **data_dict)\n"
   ]
  },
  {
   "cell_type": "code",
   "execution_count": 1,
   "metadata": {},
   "outputs": [
    {
     "name": "stdout",
     "output_type": "stream",
     "text": [
      "Script 'job_negative_sampling.txt' has been generated with all commands.\n"
     ]
    }
   ],
   "source": [
    "data_list = [\n",
    "    '../../data/eb_subset_all.npz',\n",
    "    '../../toy_data/converted/make_mix_surface.npz',\n",
    "    '../../data/hemisphere.npz',\n",
    "    '../../data/hemisphere_hi_dim2.npz'\n",
    "]\n",
    "noise_types = ['gaussian', 'hi-freq', 'hi-freq-no-add']\n",
    "# noise_levels = [1.0, 2.0]\n",
    "# noise_levels = [0.5, 1.5]\n",
    "noise_levels = [1.0, 2.0, 0.5, 1.5]\n",
    "mask_dists = [False, True]\n",
    "\n",
    "with open(\"job_negative_sampling.txt\", \"w\") as file:\n",
    "    for data_path in data_list:\n",
    "        for noise_type in noise_types:\n",
    "            for noise_level in noise_levels:\n",
    "                for mask_dist in mask_dists:\n",
    "                    if mask_dist:\n",
    "                        command = f\"cd /gpfs/gibbs/pi/krishnaswamy_smita/xingzhi/dmae/notebooks/negative_sampling_data; /gpfs/gibbs/pi/krishnaswamy_smita/xingzhi/.conda_envs/geosink/bin/python add_anomaly.py --data_path {data_path} --noise_type {noise_type} --noise_level {noise_level} --mask_dists\\n\"\n",
    "                    else:\n",
    "                        command = f\"cd /gpfs/gibbs/pi/krishnaswamy_smita/xingzhi/dmae/notebooks/negative_sampling_data; /gpfs/gibbs/pi/krishnaswamy_smita/xingzhi/.conda_envs/geosink/bin/python add_anomaly.py --data_path {data_path} --noise_type {noise_type} --noise_level {noise_level}\\n\"        \n",
    "                    file.write(command)\n",
    "\n",
    "print(\"Script 'job_negative_sampling.txt' has been generated with all commands.\")\n"
   ]
  },
  {
   "cell_type": "code",
   "execution_count": 2,
   "metadata": {},
   "outputs": [
    {
     "name": "stdout",
     "output_type": "stream",
     "text": [
      "cd /gpfs/gibbs/pi/krishnaswamy_smita/xingzhi/dmae/notebooks/negative_sampling_data; /gpfs/gibbs/pi/krishnaswamy_smita/xingzhi/.conda_envs/geosink/bin/python add_anomaly.py --data_path ../../data/eb_subset_all.npz --noise_type gaussian --noise_level 1.0\n",
      "cd /gpfs/gibbs/pi/krishnaswamy_smita/xingzhi/dmae/notebooks/negative_sampling_data; /gpfs/gibbs/pi/krishnaswamy_smita/xingzhi/.conda_envs/geosink/bin/python add_anomaly.py --data_path ../../data/eb_subset_all.npz --noise_type gaussian --noise_level 1.0 --mask_dists\n",
      "cd /gpfs/gibbs/pi/krishnaswamy_smita/xingzhi/dmae/notebooks/negative_sampling_data; /gpfs/gibbs/pi/krishnaswamy_smita/xingzhi/.conda_envs/geosink/bin/python add_anomaly.py --data_path ../../data/eb_subset_all.npz --noise_type gaussian --noise_level 2.0\n",
      "cd /gpfs/gibbs/pi/krishnaswamy_smita/xingzhi/dmae/notebooks/negative_sampling_data; /gpfs/gibbs/pi/krishnaswamy_smita/xingzhi/.conda_envs/geosink/bin/python add_anomaly.py --data_path ../../data/eb_subset_all.npz --noise_type gaussian --noise_level 2.0 --mask_dists\n",
      "cd /gpfs/gibbs/pi/krishnaswamy_smita/xingzhi/dmae/notebooks/negative_sampling_data; /gpfs/gibbs/pi/krishnaswamy_smita/xingzhi/.conda_envs/geosink/bin/python add_anomaly.py --data_path ../../data/eb_subset_all.npz --noise_type gaussian --noise_level 0.5\n",
      "cd /gpfs/gibbs/pi/krishnaswamy_smita/xingzhi/dmae/notebooks/negative_sampling_data; /gpfs/gibbs/pi/krishnaswamy_smita/xingzhi/.conda_envs/geosink/bin/python add_anomaly.py --data_path ../../data/eb_subset_all.npz --noise_type gaussian --noise_level 0.5 --mask_dists\n",
      "cd /gpfs/gibbs/pi/krishnaswamy_smita/xingzhi/dmae/notebooks/negative_sampling_data; /gpfs/gibbs/pi/krishnaswamy_smita/xingzhi/.conda_envs/geosink/bin/python add_anomaly.py --data_path ../../data/eb_subset_all.npz --noise_type gaussian --noise_level 1.5\n",
      "cd /gpfs/gibbs/pi/krishnaswamy_smita/xingzhi/dmae/notebooks/negative_sampling_data; /gpfs/gibbs/pi/krishnaswamy_smita/xingzhi/.conda_envs/geosink/bin/python add_anomaly.py --data_path ../../data/eb_subset_all.npz --noise_type gaussian --noise_level 1.5 --mask_dists\n",
      "cd /gpfs/gibbs/pi/krishnaswamy_smita/xingzhi/dmae/notebooks/negative_sampling_data; /gpfs/gibbs/pi/krishnaswamy_smita/xingzhi/.conda_envs/geosink/bin/python add_anomaly.py --data_path ../../data/eb_subset_all.npz --noise_type hi-freq --noise_level 1.0\n",
      "cd /gpfs/gibbs/pi/krishnaswamy_smita/xingzhi/dmae/notebooks/negative_sampling_data; /gpfs/gibbs/pi/krishnaswamy_smita/xingzhi/.conda_envs/geosink/bin/python add_anomaly.py --data_path ../../data/eb_subset_all.npz --noise_type hi-freq --noise_level 1.0 --mask_dists\n",
      "cd /gpfs/gibbs/pi/krishnaswamy_smita/xingzhi/dmae/notebooks/negative_sampling_data; /gpfs/gibbs/pi/krishnaswamy_smita/xingzhi/.conda_envs/geosink/bin/python add_anomaly.py --data_path ../../data/eb_subset_all.npz --noise_type hi-freq --noise_level 2.0\n",
      "cd /gpfs/gibbs/pi/krishnaswamy_smita/xingzhi/dmae/notebooks/negative_sampling_data; /gpfs/gibbs/pi/krishnaswamy_smita/xingzhi/.conda_envs/geosink/bin/python add_anomaly.py --data_path ../../data/eb_subset_all.npz --noise_type hi-freq --noise_level 2.0 --mask_dists\n",
      "cd /gpfs/gibbs/pi/krishnaswamy_smita/xingzhi/dmae/notebooks/negative_sampling_data; /gpfs/gibbs/pi/krishnaswamy_smita/xingzhi/.conda_envs/geosink/bin/python add_anomaly.py --data_path ../../data/eb_subset_all.npz --noise_type hi-freq --noise_level 0.5\n",
      "cd /gpfs/gibbs/pi/krishnaswamy_smita/xingzhi/dmae/notebooks/negative_sampling_data; /gpfs/gibbs/pi/krishnaswamy_smita/xingzhi/.conda_envs/geosink/bin/python add_anomaly.py --data_path ../../data/eb_subset_all.npz --noise_type hi-freq --noise_level 0.5 --mask_dists\n",
      "cd /gpfs/gibbs/pi/krishnaswamy_smita/xingzhi/dmae/notebooks/negative_sampling_data; /gpfs/gibbs/pi/krishnaswamy_smita/xingzhi/.conda_envs/geosink/bin/python add_anomaly.py --data_path ../../data/eb_subset_all.npz --noise_type hi-freq --noise_level 1.5\n",
      "cd /gpfs/gibbs/pi/krishnaswamy_smita/xingzhi/dmae/notebooks/negative_sampling_data; /gpfs/gibbs/pi/krishnaswamy_smita/xingzhi/.conda_envs/geosink/bin/python add_anomaly.py --data_path ../../data/eb_subset_all.npz --noise_type hi-freq --noise_level 1.5 --mask_dists\n",
      "cd /gpfs/gibbs/pi/krishnaswamy_smita/xingzhi/dmae/notebooks/negative_sampling_data; /gpfs/gibbs/pi/krishnaswamy_smita/xingzhi/.conda_envs/geosink/bin/python add_anomaly.py --data_path ../../data/eb_subset_all.npz --noise_type hi-freq-no-add --noise_level 1.0\n",
      "cd /gpfs/gibbs/pi/krishnaswamy_smita/xingzhi/dmae/notebooks/negative_sampling_data; /gpfs/gibbs/pi/krishnaswamy_smita/xingzhi/.conda_envs/geosink/bin/python add_anomaly.py --data_path ../../data/eb_subset_all.npz --noise_type hi-freq-no-add --noise_level 1.0 --mask_dists\n",
      "cd /gpfs/gibbs/pi/krishnaswamy_smita/xingzhi/dmae/notebooks/negative_sampling_data; /gpfs/gibbs/pi/krishnaswamy_smita/xingzhi/.conda_envs/geosink/bin/python add_anomaly.py --data_path ../../data/eb_subset_all.npz --noise_type hi-freq-no-add --noise_level 2.0\n",
      "cd /gpfs/gibbs/pi/krishnaswamy_smita/xingzhi/dmae/notebooks/negative_sampling_data; /gpfs/gibbs/pi/krishnaswamy_smita/xingzhi/.conda_envs/geosink/bin/python add_anomaly.py --data_path ../../data/eb_subset_all.npz --noise_type hi-freq-no-add --noise_level 2.0 --mask_dists\n",
      "cd /gpfs/gibbs/pi/krishnaswamy_smita/xingzhi/dmae/notebooks/negative_sampling_data; /gpfs/gibbs/pi/krishnaswamy_smita/xingzhi/.conda_envs/geosink/bin/python add_anomaly.py --data_path ../../data/eb_subset_all.npz --noise_type hi-freq-no-add --noise_level 0.5\n",
      "cd /gpfs/gibbs/pi/krishnaswamy_smita/xingzhi/dmae/notebooks/negative_sampling_data; /gpfs/gibbs/pi/krishnaswamy_smita/xingzhi/.conda_envs/geosink/bin/python add_anomaly.py --data_path ../../data/eb_subset_all.npz --noise_type hi-freq-no-add --noise_level 0.5 --mask_dists\n",
      "cd /gpfs/gibbs/pi/krishnaswamy_smita/xingzhi/dmae/notebooks/negative_sampling_data; /gpfs/gibbs/pi/krishnaswamy_smita/xingzhi/.conda_envs/geosink/bin/python add_anomaly.py --data_path ../../data/eb_subset_all.npz --noise_type hi-freq-no-add --noise_level 1.5\n",
      "cd /gpfs/gibbs/pi/krishnaswamy_smita/xingzhi/dmae/notebooks/negative_sampling_data; /gpfs/gibbs/pi/krishnaswamy_smita/xingzhi/.conda_envs/geosink/bin/python add_anomaly.py --data_path ../../data/eb_subset_all.npz --noise_type hi-freq-no-add --noise_level 1.5 --mask_dists\n",
      "cd /gpfs/gibbs/pi/krishnaswamy_smita/xingzhi/dmae/notebooks/negative_sampling_data; /gpfs/gibbs/pi/krishnaswamy_smita/xingzhi/.conda_envs/geosink/bin/python add_anomaly.py --data_path ../../toy_data/converted/make_mix_surface.npz --noise_type gaussian --noise_level 1.0\n",
      "cd /gpfs/gibbs/pi/krishnaswamy_smita/xingzhi/dmae/notebooks/negative_sampling_data; /gpfs/gibbs/pi/krishnaswamy_smita/xingzhi/.conda_envs/geosink/bin/python add_anomaly.py --data_path ../../toy_data/converted/make_mix_surface.npz --noise_type gaussian --noise_level 1.0 --mask_dists\n",
      "cd /gpfs/gibbs/pi/krishnaswamy_smita/xingzhi/dmae/notebooks/negative_sampling_data; /gpfs/gibbs/pi/krishnaswamy_smita/xingzhi/.conda_envs/geosink/bin/python add_anomaly.py --data_path ../../toy_data/converted/make_mix_surface.npz --noise_type gaussian --noise_level 2.0\n",
      "cd /gpfs/gibbs/pi/krishnaswamy_smita/xingzhi/dmae/notebooks/negative_sampling_data; /gpfs/gibbs/pi/krishnaswamy_smita/xingzhi/.conda_envs/geosink/bin/python add_anomaly.py --data_path ../../toy_data/converted/make_mix_surface.npz --noise_type gaussian --noise_level 2.0 --mask_dists\n",
      "cd /gpfs/gibbs/pi/krishnaswamy_smita/xingzhi/dmae/notebooks/negative_sampling_data; /gpfs/gibbs/pi/krishnaswamy_smita/xingzhi/.conda_envs/geosink/bin/python add_anomaly.py --data_path ../../toy_data/converted/make_mix_surface.npz --noise_type gaussian --noise_level 0.5\n",
      "cd /gpfs/gibbs/pi/krishnaswamy_smita/xingzhi/dmae/notebooks/negative_sampling_data; /gpfs/gibbs/pi/krishnaswamy_smita/xingzhi/.conda_envs/geosink/bin/python add_anomaly.py --data_path ../../toy_data/converted/make_mix_surface.npz --noise_type gaussian --noise_level 0.5 --mask_dists\n",
      "cd /gpfs/gibbs/pi/krishnaswamy_smita/xingzhi/dmae/notebooks/negative_sampling_data; /gpfs/gibbs/pi/krishnaswamy_smita/xingzhi/.conda_envs/geosink/bin/python add_anomaly.py --data_path ../../toy_data/converted/make_mix_surface.npz --noise_type gaussian --noise_level 1.5\n",
      "cd /gpfs/gibbs/pi/krishnaswamy_smita/xingzhi/dmae/notebooks/negative_sampling_data; /gpfs/gibbs/pi/krishnaswamy_smita/xingzhi/.conda_envs/geosink/bin/python add_anomaly.py --data_path ../../toy_data/converted/make_mix_surface.npz --noise_type gaussian --noise_level 1.5 --mask_dists\n",
      "cd /gpfs/gibbs/pi/krishnaswamy_smita/xingzhi/dmae/notebooks/negative_sampling_data; /gpfs/gibbs/pi/krishnaswamy_smita/xingzhi/.conda_envs/geosink/bin/python add_anomaly.py --data_path ../../toy_data/converted/make_mix_surface.npz --noise_type hi-freq --noise_level 1.0\n",
      "cd /gpfs/gibbs/pi/krishnaswamy_smita/xingzhi/dmae/notebooks/negative_sampling_data; /gpfs/gibbs/pi/krishnaswamy_smita/xingzhi/.conda_envs/geosink/bin/python add_anomaly.py --data_path ../../toy_data/converted/make_mix_surface.npz --noise_type hi-freq --noise_level 1.0 --mask_dists\n",
      "cd /gpfs/gibbs/pi/krishnaswamy_smita/xingzhi/dmae/notebooks/negative_sampling_data; /gpfs/gibbs/pi/krishnaswamy_smita/xingzhi/.conda_envs/geosink/bin/python add_anomaly.py --data_path ../../toy_data/converted/make_mix_surface.npz --noise_type hi-freq --noise_level 2.0\n",
      "cd /gpfs/gibbs/pi/krishnaswamy_smita/xingzhi/dmae/notebooks/negative_sampling_data; /gpfs/gibbs/pi/krishnaswamy_smita/xingzhi/.conda_envs/geosink/bin/python add_anomaly.py --data_path ../../toy_data/converted/make_mix_surface.npz --noise_type hi-freq --noise_level 2.0 --mask_dists\n",
      "cd /gpfs/gibbs/pi/krishnaswamy_smita/xingzhi/dmae/notebooks/negative_sampling_data; /gpfs/gibbs/pi/krishnaswamy_smita/xingzhi/.conda_envs/geosink/bin/python add_anomaly.py --data_path ../../toy_data/converted/make_mix_surface.npz --noise_type hi-freq --noise_level 0.5\n",
      "cd /gpfs/gibbs/pi/krishnaswamy_smita/xingzhi/dmae/notebooks/negative_sampling_data; /gpfs/gibbs/pi/krishnaswamy_smita/xingzhi/.conda_envs/geosink/bin/python add_anomaly.py --data_path ../../toy_data/converted/make_mix_surface.npz --noise_type hi-freq --noise_level 0.5 --mask_dists\n",
      "cd /gpfs/gibbs/pi/krishnaswamy_smita/xingzhi/dmae/notebooks/negative_sampling_data; /gpfs/gibbs/pi/krishnaswamy_smita/xingzhi/.conda_envs/geosink/bin/python add_anomaly.py --data_path ../../toy_data/converted/make_mix_surface.npz --noise_type hi-freq --noise_level 1.5\n",
      "cd /gpfs/gibbs/pi/krishnaswamy_smita/xingzhi/dmae/notebooks/negative_sampling_data; /gpfs/gibbs/pi/krishnaswamy_smita/xingzhi/.conda_envs/geosink/bin/python add_anomaly.py --data_path ../../toy_data/converted/make_mix_surface.npz --noise_type hi-freq --noise_level 1.5 --mask_dists\n",
      "cd /gpfs/gibbs/pi/krishnaswamy_smita/xingzhi/dmae/notebooks/negative_sampling_data; /gpfs/gibbs/pi/krishnaswamy_smita/xingzhi/.conda_envs/geosink/bin/python add_anomaly.py --data_path ../../toy_data/converted/make_mix_surface.npz --noise_type hi-freq-no-add --noise_level 1.0\n",
      "cd /gpfs/gibbs/pi/krishnaswamy_smita/xingzhi/dmae/notebooks/negative_sampling_data; /gpfs/gibbs/pi/krishnaswamy_smita/xingzhi/.conda_envs/geosink/bin/python add_anomaly.py --data_path ../../toy_data/converted/make_mix_surface.npz --noise_type hi-freq-no-add --noise_level 1.0 --mask_dists\n",
      "cd /gpfs/gibbs/pi/krishnaswamy_smita/xingzhi/dmae/notebooks/negative_sampling_data; /gpfs/gibbs/pi/krishnaswamy_smita/xingzhi/.conda_envs/geosink/bin/python add_anomaly.py --data_path ../../toy_data/converted/make_mix_surface.npz --noise_type hi-freq-no-add --noise_level 2.0\n",
      "cd /gpfs/gibbs/pi/krishnaswamy_smita/xingzhi/dmae/notebooks/negative_sampling_data; /gpfs/gibbs/pi/krishnaswamy_smita/xingzhi/.conda_envs/geosink/bin/python add_anomaly.py --data_path ../../toy_data/converted/make_mix_surface.npz --noise_type hi-freq-no-add --noise_level 2.0 --mask_dists\n",
      "cd /gpfs/gibbs/pi/krishnaswamy_smita/xingzhi/dmae/notebooks/negative_sampling_data; /gpfs/gibbs/pi/krishnaswamy_smita/xingzhi/.conda_envs/geosink/bin/python add_anomaly.py --data_path ../../toy_data/converted/make_mix_surface.npz --noise_type hi-freq-no-add --noise_level 0.5\n",
      "cd /gpfs/gibbs/pi/krishnaswamy_smita/xingzhi/dmae/notebooks/negative_sampling_data; /gpfs/gibbs/pi/krishnaswamy_smita/xingzhi/.conda_envs/geosink/bin/python add_anomaly.py --data_path ../../toy_data/converted/make_mix_surface.npz --noise_type hi-freq-no-add --noise_level 0.5 --mask_dists\n",
      "cd /gpfs/gibbs/pi/krishnaswamy_smita/xingzhi/dmae/notebooks/negative_sampling_data; /gpfs/gibbs/pi/krishnaswamy_smita/xingzhi/.conda_envs/geosink/bin/python add_anomaly.py --data_path ../../toy_data/converted/make_mix_surface.npz --noise_type hi-freq-no-add --noise_level 1.5\n",
      "cd /gpfs/gibbs/pi/krishnaswamy_smita/xingzhi/dmae/notebooks/negative_sampling_data; /gpfs/gibbs/pi/krishnaswamy_smita/xingzhi/.conda_envs/geosink/bin/python add_anomaly.py --data_path ../../toy_data/converted/make_mix_surface.npz --noise_type hi-freq-no-add --noise_level 1.5 --mask_dists\n",
      "cd /gpfs/gibbs/pi/krishnaswamy_smita/xingzhi/dmae/notebooks/negative_sampling_data; /gpfs/gibbs/pi/krishnaswamy_smita/xingzhi/.conda_envs/geosink/bin/python add_anomaly.py --data_path ../../data/hemisphere.npz --noise_type gaussian --noise_level 1.0\n",
      "cd /gpfs/gibbs/pi/krishnaswamy_smita/xingzhi/dmae/notebooks/negative_sampling_data; /gpfs/gibbs/pi/krishnaswamy_smita/xingzhi/.conda_envs/geosink/bin/python add_anomaly.py --data_path ../../data/hemisphere.npz --noise_type gaussian --noise_level 1.0 --mask_dists\n",
      "cd /gpfs/gibbs/pi/krishnaswamy_smita/xingzhi/dmae/notebooks/negative_sampling_data; /gpfs/gibbs/pi/krishnaswamy_smita/xingzhi/.conda_envs/geosink/bin/python add_anomaly.py --data_path ../../data/hemisphere.npz --noise_type gaussian --noise_level 2.0\n",
      "cd /gpfs/gibbs/pi/krishnaswamy_smita/xingzhi/dmae/notebooks/negative_sampling_data; /gpfs/gibbs/pi/krishnaswamy_smita/xingzhi/.conda_envs/geosink/bin/python add_anomaly.py --data_path ../../data/hemisphere.npz --noise_type gaussian --noise_level 2.0 --mask_dists\n",
      "cd /gpfs/gibbs/pi/krishnaswamy_smita/xingzhi/dmae/notebooks/negative_sampling_data; /gpfs/gibbs/pi/krishnaswamy_smita/xingzhi/.conda_envs/geosink/bin/python add_anomaly.py --data_path ../../data/hemisphere.npz --noise_type gaussian --noise_level 0.5\n",
      "cd /gpfs/gibbs/pi/krishnaswamy_smita/xingzhi/dmae/notebooks/negative_sampling_data; /gpfs/gibbs/pi/krishnaswamy_smita/xingzhi/.conda_envs/geosink/bin/python add_anomaly.py --data_path ../../data/hemisphere.npz --noise_type gaussian --noise_level 0.5 --mask_dists\n",
      "cd /gpfs/gibbs/pi/krishnaswamy_smita/xingzhi/dmae/notebooks/negative_sampling_data; /gpfs/gibbs/pi/krishnaswamy_smita/xingzhi/.conda_envs/geosink/bin/python add_anomaly.py --data_path ../../data/hemisphere.npz --noise_type gaussian --noise_level 1.5\n",
      "cd /gpfs/gibbs/pi/krishnaswamy_smita/xingzhi/dmae/notebooks/negative_sampling_data; /gpfs/gibbs/pi/krishnaswamy_smita/xingzhi/.conda_envs/geosink/bin/python add_anomaly.py --data_path ../../data/hemisphere.npz --noise_type gaussian --noise_level 1.5 --mask_dists\n",
      "cd /gpfs/gibbs/pi/krishnaswamy_smita/xingzhi/dmae/notebooks/negative_sampling_data; /gpfs/gibbs/pi/krishnaswamy_smita/xingzhi/.conda_envs/geosink/bin/python add_anomaly.py --data_path ../../data/hemisphere.npz --noise_type hi-freq --noise_level 1.0\n",
      "cd /gpfs/gibbs/pi/krishnaswamy_smita/xingzhi/dmae/notebooks/negative_sampling_data; /gpfs/gibbs/pi/krishnaswamy_smita/xingzhi/.conda_envs/geosink/bin/python add_anomaly.py --data_path ../../data/hemisphere.npz --noise_type hi-freq --noise_level 1.0 --mask_dists\n",
      "cd /gpfs/gibbs/pi/krishnaswamy_smita/xingzhi/dmae/notebooks/negative_sampling_data; /gpfs/gibbs/pi/krishnaswamy_smita/xingzhi/.conda_envs/geosink/bin/python add_anomaly.py --data_path ../../data/hemisphere.npz --noise_type hi-freq --noise_level 2.0\n",
      "cd /gpfs/gibbs/pi/krishnaswamy_smita/xingzhi/dmae/notebooks/negative_sampling_data; /gpfs/gibbs/pi/krishnaswamy_smita/xingzhi/.conda_envs/geosink/bin/python add_anomaly.py --data_path ../../data/hemisphere.npz --noise_type hi-freq --noise_level 2.0 --mask_dists\n",
      "cd /gpfs/gibbs/pi/krishnaswamy_smita/xingzhi/dmae/notebooks/negative_sampling_data; /gpfs/gibbs/pi/krishnaswamy_smita/xingzhi/.conda_envs/geosink/bin/python add_anomaly.py --data_path ../../data/hemisphere.npz --noise_type hi-freq --noise_level 0.5\n",
      "cd /gpfs/gibbs/pi/krishnaswamy_smita/xingzhi/dmae/notebooks/negative_sampling_data; /gpfs/gibbs/pi/krishnaswamy_smita/xingzhi/.conda_envs/geosink/bin/python add_anomaly.py --data_path ../../data/hemisphere.npz --noise_type hi-freq --noise_level 0.5 --mask_dists\n",
      "cd /gpfs/gibbs/pi/krishnaswamy_smita/xingzhi/dmae/notebooks/negative_sampling_data; /gpfs/gibbs/pi/krishnaswamy_smita/xingzhi/.conda_envs/geosink/bin/python add_anomaly.py --data_path ../../data/hemisphere.npz --noise_type hi-freq --noise_level 1.5\n",
      "cd /gpfs/gibbs/pi/krishnaswamy_smita/xingzhi/dmae/notebooks/negative_sampling_data; /gpfs/gibbs/pi/krishnaswamy_smita/xingzhi/.conda_envs/geosink/bin/python add_anomaly.py --data_path ../../data/hemisphere.npz --noise_type hi-freq --noise_level 1.5 --mask_dists\n",
      "cd /gpfs/gibbs/pi/krishnaswamy_smita/xingzhi/dmae/notebooks/negative_sampling_data; /gpfs/gibbs/pi/krishnaswamy_smita/xingzhi/.conda_envs/geosink/bin/python add_anomaly.py --data_path ../../data/hemisphere.npz --noise_type hi-freq-no-add --noise_level 1.0\n",
      "cd /gpfs/gibbs/pi/krishnaswamy_smita/xingzhi/dmae/notebooks/negative_sampling_data; /gpfs/gibbs/pi/krishnaswamy_smita/xingzhi/.conda_envs/geosink/bin/python add_anomaly.py --data_path ../../data/hemisphere.npz --noise_type hi-freq-no-add --noise_level 1.0 --mask_dists\n",
      "cd /gpfs/gibbs/pi/krishnaswamy_smita/xingzhi/dmae/notebooks/negative_sampling_data; /gpfs/gibbs/pi/krishnaswamy_smita/xingzhi/.conda_envs/geosink/bin/python add_anomaly.py --data_path ../../data/hemisphere.npz --noise_type hi-freq-no-add --noise_level 2.0\n",
      "cd /gpfs/gibbs/pi/krishnaswamy_smita/xingzhi/dmae/notebooks/negative_sampling_data; /gpfs/gibbs/pi/krishnaswamy_smita/xingzhi/.conda_envs/geosink/bin/python add_anomaly.py --data_path ../../data/hemisphere.npz --noise_type hi-freq-no-add --noise_level 2.0 --mask_dists\n",
      "cd /gpfs/gibbs/pi/krishnaswamy_smita/xingzhi/dmae/notebooks/negative_sampling_data; /gpfs/gibbs/pi/krishnaswamy_smita/xingzhi/.conda_envs/geosink/bin/python add_anomaly.py --data_path ../../data/hemisphere.npz --noise_type hi-freq-no-add --noise_level 0.5\n",
      "cd /gpfs/gibbs/pi/krishnaswamy_smita/xingzhi/dmae/notebooks/negative_sampling_data; /gpfs/gibbs/pi/krishnaswamy_smita/xingzhi/.conda_envs/geosink/bin/python add_anomaly.py --data_path ../../data/hemisphere.npz --noise_type hi-freq-no-add --noise_level 0.5 --mask_dists\n",
      "cd /gpfs/gibbs/pi/krishnaswamy_smita/xingzhi/dmae/notebooks/negative_sampling_data; /gpfs/gibbs/pi/krishnaswamy_smita/xingzhi/.conda_envs/geosink/bin/python add_anomaly.py --data_path ../../data/hemisphere.npz --noise_type hi-freq-no-add --noise_level 1.5\n",
      "cd /gpfs/gibbs/pi/krishnaswamy_smita/xingzhi/dmae/notebooks/negative_sampling_data; /gpfs/gibbs/pi/krishnaswamy_smita/xingzhi/.conda_envs/geosink/bin/python add_anomaly.py --data_path ../../data/hemisphere.npz --noise_type hi-freq-no-add --noise_level 1.5 --mask_dists\n",
      "cd /gpfs/gibbs/pi/krishnaswamy_smita/xingzhi/dmae/notebooks/negative_sampling_data; /gpfs/gibbs/pi/krishnaswamy_smita/xingzhi/.conda_envs/geosink/bin/python add_anomaly.py --data_path ../../data/hemisphere_hi_dim2.npz --noise_type gaussian --noise_level 1.0\n",
      "cd /gpfs/gibbs/pi/krishnaswamy_smita/xingzhi/dmae/notebooks/negative_sampling_data; /gpfs/gibbs/pi/krishnaswamy_smita/xingzhi/.conda_envs/geosink/bin/python add_anomaly.py --data_path ../../data/hemisphere_hi_dim2.npz --noise_type gaussian --noise_level 1.0 --mask_dists\n",
      "cd /gpfs/gibbs/pi/krishnaswamy_smita/xingzhi/dmae/notebooks/negative_sampling_data; /gpfs/gibbs/pi/krishnaswamy_smita/xingzhi/.conda_envs/geosink/bin/python add_anomaly.py --data_path ../../data/hemisphere_hi_dim2.npz --noise_type gaussian --noise_level 2.0\n",
      "cd /gpfs/gibbs/pi/krishnaswamy_smita/xingzhi/dmae/notebooks/negative_sampling_data; /gpfs/gibbs/pi/krishnaswamy_smita/xingzhi/.conda_envs/geosink/bin/python add_anomaly.py --data_path ../../data/hemisphere_hi_dim2.npz --noise_type gaussian --noise_level 2.0 --mask_dists\n",
      "cd /gpfs/gibbs/pi/krishnaswamy_smita/xingzhi/dmae/notebooks/negative_sampling_data; /gpfs/gibbs/pi/krishnaswamy_smita/xingzhi/.conda_envs/geosink/bin/python add_anomaly.py --data_path ../../data/hemisphere_hi_dim2.npz --noise_type gaussian --noise_level 0.5\n",
      "cd /gpfs/gibbs/pi/krishnaswamy_smita/xingzhi/dmae/notebooks/negative_sampling_data; /gpfs/gibbs/pi/krishnaswamy_smita/xingzhi/.conda_envs/geosink/bin/python add_anomaly.py --data_path ../../data/hemisphere_hi_dim2.npz --noise_type gaussian --noise_level 0.5 --mask_dists\n",
      "cd /gpfs/gibbs/pi/krishnaswamy_smita/xingzhi/dmae/notebooks/negative_sampling_data; /gpfs/gibbs/pi/krishnaswamy_smita/xingzhi/.conda_envs/geosink/bin/python add_anomaly.py --data_path ../../data/hemisphere_hi_dim2.npz --noise_type gaussian --noise_level 1.5\n",
      "cd /gpfs/gibbs/pi/krishnaswamy_smita/xingzhi/dmae/notebooks/negative_sampling_data; /gpfs/gibbs/pi/krishnaswamy_smita/xingzhi/.conda_envs/geosink/bin/python add_anomaly.py --data_path ../../data/hemisphere_hi_dim2.npz --noise_type gaussian --noise_level 1.5 --mask_dists\n",
      "cd /gpfs/gibbs/pi/krishnaswamy_smita/xingzhi/dmae/notebooks/negative_sampling_data; /gpfs/gibbs/pi/krishnaswamy_smita/xingzhi/.conda_envs/geosink/bin/python add_anomaly.py --data_path ../../data/hemisphere_hi_dim2.npz --noise_type hi-freq --noise_level 1.0\n",
      "cd /gpfs/gibbs/pi/krishnaswamy_smita/xingzhi/dmae/notebooks/negative_sampling_data; /gpfs/gibbs/pi/krishnaswamy_smita/xingzhi/.conda_envs/geosink/bin/python add_anomaly.py --data_path ../../data/hemisphere_hi_dim2.npz --noise_type hi-freq --noise_level 1.0 --mask_dists\n",
      "cd /gpfs/gibbs/pi/krishnaswamy_smita/xingzhi/dmae/notebooks/negative_sampling_data; /gpfs/gibbs/pi/krishnaswamy_smita/xingzhi/.conda_envs/geosink/bin/python add_anomaly.py --data_path ../../data/hemisphere_hi_dim2.npz --noise_type hi-freq --noise_level 2.0\n",
      "cd /gpfs/gibbs/pi/krishnaswamy_smita/xingzhi/dmae/notebooks/negative_sampling_data; /gpfs/gibbs/pi/krishnaswamy_smita/xingzhi/.conda_envs/geosink/bin/python add_anomaly.py --data_path ../../data/hemisphere_hi_dim2.npz --noise_type hi-freq --noise_level 2.0 --mask_dists\n",
      "cd /gpfs/gibbs/pi/krishnaswamy_smita/xingzhi/dmae/notebooks/negative_sampling_data; /gpfs/gibbs/pi/krishnaswamy_smita/xingzhi/.conda_envs/geosink/bin/python add_anomaly.py --data_path ../../data/hemisphere_hi_dim2.npz --noise_type hi-freq --noise_level 0.5\n",
      "cd /gpfs/gibbs/pi/krishnaswamy_smita/xingzhi/dmae/notebooks/negative_sampling_data; /gpfs/gibbs/pi/krishnaswamy_smita/xingzhi/.conda_envs/geosink/bin/python add_anomaly.py --data_path ../../data/hemisphere_hi_dim2.npz --noise_type hi-freq --noise_level 0.5 --mask_dists\n",
      "cd /gpfs/gibbs/pi/krishnaswamy_smita/xingzhi/dmae/notebooks/negative_sampling_data; /gpfs/gibbs/pi/krishnaswamy_smita/xingzhi/.conda_envs/geosink/bin/python add_anomaly.py --data_path ../../data/hemisphere_hi_dim2.npz --noise_type hi-freq --noise_level 1.5\n",
      "cd /gpfs/gibbs/pi/krishnaswamy_smita/xingzhi/dmae/notebooks/negative_sampling_data; /gpfs/gibbs/pi/krishnaswamy_smita/xingzhi/.conda_envs/geosink/bin/python add_anomaly.py --data_path ../../data/hemisphere_hi_dim2.npz --noise_type hi-freq --noise_level 1.5 --mask_dists\n",
      "cd /gpfs/gibbs/pi/krishnaswamy_smita/xingzhi/dmae/notebooks/negative_sampling_data; /gpfs/gibbs/pi/krishnaswamy_smita/xingzhi/.conda_envs/geosink/bin/python add_anomaly.py --data_path ../../data/hemisphere_hi_dim2.npz --noise_type hi-freq-no-add --noise_level 1.0\n",
      "cd /gpfs/gibbs/pi/krishnaswamy_smita/xingzhi/dmae/notebooks/negative_sampling_data; /gpfs/gibbs/pi/krishnaswamy_smita/xingzhi/.conda_envs/geosink/bin/python add_anomaly.py --data_path ../../data/hemisphere_hi_dim2.npz --noise_type hi-freq-no-add --noise_level 1.0 --mask_dists\n",
      "cd /gpfs/gibbs/pi/krishnaswamy_smita/xingzhi/dmae/notebooks/negative_sampling_data; /gpfs/gibbs/pi/krishnaswamy_smita/xingzhi/.conda_envs/geosink/bin/python add_anomaly.py --data_path ../../data/hemisphere_hi_dim2.npz --noise_type hi-freq-no-add --noise_level 2.0\n",
      "cd /gpfs/gibbs/pi/krishnaswamy_smita/xingzhi/dmae/notebooks/negative_sampling_data; /gpfs/gibbs/pi/krishnaswamy_smita/xingzhi/.conda_envs/geosink/bin/python add_anomaly.py --data_path ../../data/hemisphere_hi_dim2.npz --noise_type hi-freq-no-add --noise_level 2.0 --mask_dists\n",
      "cd /gpfs/gibbs/pi/krishnaswamy_smita/xingzhi/dmae/notebooks/negative_sampling_data; /gpfs/gibbs/pi/krishnaswamy_smita/xingzhi/.conda_envs/geosink/bin/python add_anomaly.py --data_path ../../data/hemisphere_hi_dim2.npz --noise_type hi-freq-no-add --noise_level 0.5\n",
      "cd /gpfs/gibbs/pi/krishnaswamy_smita/xingzhi/dmae/notebooks/negative_sampling_data; /gpfs/gibbs/pi/krishnaswamy_smita/xingzhi/.conda_envs/geosink/bin/python add_anomaly.py --data_path ../../data/hemisphere_hi_dim2.npz --noise_type hi-freq-no-add --noise_level 0.5 --mask_dists\n",
      "cd /gpfs/gibbs/pi/krishnaswamy_smita/xingzhi/dmae/notebooks/negative_sampling_data; /gpfs/gibbs/pi/krishnaswamy_smita/xingzhi/.conda_envs/geosink/bin/python add_anomaly.py --data_path ../../data/hemisphere_hi_dim2.npz --noise_type hi-freq-no-add --noise_level 1.5\n",
      "cd /gpfs/gibbs/pi/krishnaswamy_smita/xingzhi/dmae/notebooks/negative_sampling_data; /gpfs/gibbs/pi/krishnaswamy_smita/xingzhi/.conda_envs/geosink/bin/python add_anomaly.py --data_path ../../data/hemisphere_hi_dim2.npz --noise_type hi-freq-no-add --noise_level 1.5 --mask_dists\n"
     ]
    }
   ],
   "source": [
    "!cat job_negative_sampling.txt"
   ]
  },
  {
   "cell_type": "code",
   "execution_count": 7,
   "metadata": {},
   "outputs": [],
   "source": [
    "folder_paths = []\n",
    "for noise_type in noise_types:\n",
    "    for noise_level in noise_levels:\n",
    "        for mask_dist in mask_dists:\n",
    "            folder_paths.append(f'../data/negative_sampling_new/dist_mask_{mask_dist}/{noise_type}/{noise_level}/')"
   ]
  },
  {
   "cell_type": "code",
   "execution_count": 8,
   "metadata": {},
   "outputs": [
    {
     "data": {
      "text/plain": [
       "24"
      ]
     },
     "execution_count": 8,
     "metadata": {},
     "output_type": "execute_result"
    }
   ],
   "source": [
    "len(folder_paths)"
   ]
  },
  {
   "cell_type": "code",
   "execution_count": 9,
   "metadata": {},
   "outputs": [
    {
     "data": {
      "text/plain": [
       "['../data/negative_sampling_new/dist_mask_False/gaussian/1.0/',\n",
       " '../data/negative_sampling_new/dist_mask_True/gaussian/1.0/',\n",
       " '../data/negative_sampling_new/dist_mask_False/gaussian/2.0/',\n",
       " '../data/negative_sampling_new/dist_mask_True/gaussian/2.0/',\n",
       " '../data/negative_sampling_new/dist_mask_False/gaussian/0.5/',\n",
       " '../data/negative_sampling_new/dist_mask_True/gaussian/0.5/',\n",
       " '../data/negative_sampling_new/dist_mask_False/gaussian/1.5/',\n",
       " '../data/negative_sampling_new/dist_mask_True/gaussian/1.5/',\n",
       " '../data/negative_sampling_new/dist_mask_False/hi-freq/1.0/',\n",
       " '../data/negative_sampling_new/dist_mask_True/hi-freq/1.0/',\n",
       " '../data/negative_sampling_new/dist_mask_False/hi-freq/2.0/',\n",
       " '../data/negative_sampling_new/dist_mask_True/hi-freq/2.0/',\n",
       " '../data/negative_sampling_new/dist_mask_False/hi-freq/0.5/',\n",
       " '../data/negative_sampling_new/dist_mask_True/hi-freq/0.5/',\n",
       " '../data/negative_sampling_new/dist_mask_False/hi-freq/1.5/',\n",
       " '../data/negative_sampling_new/dist_mask_True/hi-freq/1.5/',\n",
       " '../data/negative_sampling_new/dist_mask_False/hi-freq-no-add/1.0/',\n",
       " '../data/negative_sampling_new/dist_mask_True/hi-freq-no-add/1.0/',\n",
       " '../data/negative_sampling_new/dist_mask_False/hi-freq-no-add/2.0/',\n",
       " '../data/negative_sampling_new/dist_mask_True/hi-freq-no-add/2.0/',\n",
       " '../data/negative_sampling_new/dist_mask_False/hi-freq-no-add/0.5/',\n",
       " '../data/negative_sampling_new/dist_mask_True/hi-freq-no-add/0.5/',\n",
       " '../data/negative_sampling_new/dist_mask_False/hi-freq-no-add/1.5/',\n",
       " '../data/negative_sampling_new/dist_mask_True/hi-freq-no-add/1.5/']"
      ]
     },
     "execution_count": 9,
     "metadata": {},
     "output_type": "execute_result"
    }
   ],
   "source": [
    "folder_paths"
   ]
  },
  {
   "cell_type": "code",
   "execution_count": 10,
   "metadata": {},
   "outputs": [
    {
     "data": {
      "text/plain": [
       "['../data/negative_sampling_new/dist_mask_False/gaussian/1.0/',\n",
       " '../data/negative_sampling_new/dist_mask_True/gaussian/1.0/',\n",
       " '../data/negative_sampling_new/dist_mask_False/gaussian/2.0/',\n",
       " '../data/negative_sampling_new/dist_mask_True/gaussian/2.0/',\n",
       " '../data/negative_sampling_new/dist_mask_False/gaussian/0.5/',\n",
       " '../data/negative_sampling_new/dist_mask_True/gaussian/0.5/',\n",
       " '../data/negative_sampling_new/dist_mask_False/gaussian/1.5/',\n",
       " '../data/negative_sampling_new/dist_mask_True/gaussian/1.5/',\n",
       " '../data/negative_sampling_new/dist_mask_False/hi-freq/1.0/',\n",
       " '../data/negative_sampling_new/dist_mask_True/hi-freq/1.0/',\n",
       " '../data/negative_sampling_new/dist_mask_False/hi-freq/2.0/',\n",
       " '../data/negative_sampling_new/dist_mask_True/hi-freq/2.0/',\n",
       " '../data/negative_sampling_new/dist_mask_False/hi-freq/0.5/',\n",
       " '../data/negative_sampling_new/dist_mask_True/hi-freq/0.5/',\n",
       " '../data/negative_sampling_new/dist_mask_False/hi-freq/1.5/',\n",
       " '../data/negative_sampling_new/dist_mask_True/hi-freq/1.5/',\n",
       " '../data/negative_sampling_new/dist_mask_False/hi-freq-no-add/1.0/',\n",
       " '../data/negative_sampling_new/dist_mask_True/hi-freq-no-add/1.0/',\n",
       " '../data/negative_sampling_new/dist_mask_False/hi-freq-no-add/2.0/',\n",
       " '../data/negative_sampling_new/dist_mask_True/hi-freq-no-add/2.0/',\n",
       " '../data/negative_sampling_new/dist_mask_False/hi-freq-no-add/0.5/',\n",
       " '../data/negative_sampling_new/dist_mask_True/hi-freq-no-add/0.5/',\n",
       " '../data/negative_sampling_new/dist_mask_False/hi-freq-no-add/1.5/',\n",
       " '../data/negative_sampling_new/dist_mask_True/hi-freq-no-add/1.5/']"
      ]
     },
     "execution_count": 10,
     "metadata": {},
     "output_type": "execute_result"
    }
   ],
   "source": [
    "['../data/negative_sampling_new/dist_mask_False/gaussian/1.0/','../data/negative_sampling_new/dist_mask_True/gaussian/1.0/','../data/negative_sampling_new/dist_mask_False/gaussian/2.0/','../data/negative_sampling_new/dist_mask_True/gaussian/2.0/','../data/negative_sampling_new/dist_mask_False/gaussian/0.5/','../data/negative_sampling_new/dist_mask_True/gaussian/0.5/','../data/negative_sampling_new/dist_mask_False/gaussian/1.5/','../data/negative_sampling_new/dist_mask_True/gaussian/1.5/','../data/negative_sampling_new/dist_mask_False/hi-freq/1.0/','../data/negative_sampling_new/dist_mask_True/hi-freq/1.0/','../data/negative_sampling_new/dist_mask_False/hi-freq/2.0/','../data/negative_sampling_new/dist_mask_True/hi-freq/2.0/','../data/negative_sampling_new/dist_mask_False/hi-freq/0.5/','../data/negative_sampling_new/dist_mask_True/hi-freq/0.5/','../data/negative_sampling_new/dist_mask_False/hi-freq/1.5/','../data/negative_sampling_new/dist_mask_True/hi-freq/1.5/','../data/negative_sampling_new/dist_mask_False/hi-freq-no-add/1.0/','../data/negative_sampling_new/dist_mask_True/hi-freq-no-add/1.0/','../data/negative_sampling_new/dist_mask_False/hi-freq-no-add/2.0/','../data/negative_sampling_new/dist_mask_True/hi-freq-no-add/2.0/','../data/negative_sampling_new/dist_mask_False/hi-freq-no-add/0.5/','../data/negative_sampling_new/dist_mask_True/hi-freq-no-add/0.5/','../data/negative_sampling_new/dist_mask_False/hi-freq-no-add/1.5/','../data/negative_sampling_new/dist_mask_True/hi-freq-no-add/1.5/']"
   ]
  },
  {
   "cell_type": "code",
   "execution_count": null,
   "metadata": {},
   "outputs": [],
   "source": []
  }
 ],
 "metadata": {
  "kernelspec": {
   "display_name": "geosink",
   "language": "python",
   "name": "python3"
  },
  "language_info": {
   "codemirror_mode": {
    "name": "ipython",
    "version": 3
   },
   "file_extension": ".py",
   "mimetype": "text/x-python",
   "name": "python",
   "nbconvert_exporter": "python",
   "pygments_lexer": "ipython3",
   "version": "3.10.13"
  }
 },
 "nbformat": 4,
 "nbformat_minor": 2
}
