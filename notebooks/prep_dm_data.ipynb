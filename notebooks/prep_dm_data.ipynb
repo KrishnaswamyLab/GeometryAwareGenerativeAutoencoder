{
 "cells": [
  {
   "cell_type": "code",
   "execution_count": 6,
   "metadata": {},
   "outputs": [],
   "source": [
    "import wandb\n",
    "import sys\n",
    "import matplotlib.pyplot as plt\n",
    "import scprep\n",
    "import pandas as pd\n",
    "sys.path.append('../src/')\n",
    "from evaluate import get_results\n",
    "from omegaconf import OmegaConf\n",
    "from main import load_data, make_model\n",
    "import numpy as np\n",
    "import os\n",
    "import glob"
   ]
  },
  {
   "cell_type": "code",
   "execution_count": 2,
   "metadata": {},
   "outputs": [
    {
     "name": "stderr",
     "output_type": "stream",
     "text": [
      "Failed to detect the name of this notebook, you can set it manually with the WANDB_NOTEBOOK_NAME environment variable to enable code saving.\n",
      "\u001b[34m\u001b[1mwandb\u001b[0m: Currently logged in as: \u001b[33mxingzhis\u001b[0m. Use \u001b[1m`wandb login --relogin`\u001b[0m to force relogin\n"
     ]
    }
   ],
   "source": [
    "# Initialize wandb (replace 'your_entity' and 'your_project' with your specific details)\n",
    "wandb.login()\n",
    "api = wandb.Api()\n",
    "\n",
    "# Specify your entity, project, and sweep ID\n",
    "entity = \"xingzhis\"\n",
    "project = \"dmae\"\n",
    "sweep_id = 'n7krfbsz'\n",
    "\n",
    "# Fetch the sweep\n",
    "sweep = api.sweep(f\"{entity}/{project}/{sweep_id}\")\n",
    "\n",
    "run_ids = [run.id for run in sweep.runs]"
   ]
  },
  {
   "cell_type": "code",
   "execution_count": 8,
   "metadata": {},
   "outputs": [],
   "source": [
    "cfg = OmegaConf.create(run.config)\n",
    "folder_path = \"../src/wandb/\"\n",
    "folder_list = glob.glob(f\"{folder_path}*{run.id}*\")\n",
    "ckpt_files = glob.glob(f\"{folder_list[0]}/files/*.ckpt\")\n",
    "ckpt_path = ckpt_files[0]\n",
    "allloader, _, X, phate_coords, colors, dist, pp = load_data(cfg, load_all=True)\n",
    "emb_dim = phate_coords.shape[1]\n",
    "data_path = os.path.join(cfg.data.root, cfg.data.name + cfg.data.filetype)\n",
    "data = np.load(data_path, allow_pickle=True)\n",
    "dist_std = np.std(data['dist'].flatten())\n",
    "model = make_model(cfg, X.shape[1], emb_dim, pp, dist_std, from_checkpoint=True, checkpoint_path=ckpt_path)\n",
    "model.eval()\n",
    "x_all = next(iter(allloader))['x']\n",
    "x_pred, z_pred = model(x_all)\n",
    "x_pred = x_pred.detach().cpu().numpy()\n",
    "z_pred = z_pred.detach().cpu().numpy()"
   ]
  },
  {
   "cell_type": "code",
   "execution_count": 16,
   "metadata": {},
   "outputs": [],
   "source": [
    "np.savez('../dm_data/eb_all.npz', data=z_pred, train_mask=data['is_train'])"
   ]
  },
  {
   "cell_type": "code",
   "execution_count": 17,
   "metadata": {},
   "outputs": [],
   "source": [
    "run_id = 'ucvq4x2o'\n",
    "run = [run for run in sweep.runs if run.id == run_id][0]\n",
    "cfg = OmegaConf.create(run.config)\n",
    "folder_path = \"../src/wandb/\"\n",
    "folder_list = glob.glob(f\"{folder_path}*{run.id}*\")\n",
    "ckpt_files = glob.glob(f\"{folder_list[0]}/files/*.ckpt\")\n",
    "ckpt_path = ckpt_files[0]\n",
    "allloader, _, X, phate_coords, colors, dist, pp = load_data(cfg, load_all=True)\n",
    "emb_dim = phate_coords.shape[1]\n",
    "data_path = os.path.join(cfg.data.root, cfg.data.name + cfg.data.filetype)\n",
    "data = np.load(data_path, allow_pickle=True)\n",
    "dist_std = np.std(data['dist'].flatten())\n",
    "model = make_model(cfg, X.shape[1], emb_dim, pp, dist_std, from_checkpoint=True, checkpoint_path=ckpt_path)\n",
    "model.eval()\n",
    "x_all = next(iter(allloader))['x']\n",
    "x_pred, z_pred = model(x_all)\n",
    "x_pred = x_pred.detach().cpu().numpy()\n",
    "z_pred = z_pred.detach().cpu().numpy()\n",
    "np.savez('../dm_data/eb_all_10.npz', data=z_pred, train_mask=data['is_train'])"
   ]
  },
  {
   "cell_type": "code",
   "execution_count": null,
   "metadata": {},
   "outputs": [],
   "source": []
  }
 ],
 "metadata": {
  "kernelspec": {
   "display_name": "geosink",
   "language": "python",
   "name": "python3"
  },
  "language_info": {
   "codemirror_mode": {
    "name": "ipython",
    "version": 3
   },
   "file_extension": ".py",
   "mimetype": "text/x-python",
   "name": "python",
   "nbconvert_exporter": "python",
   "pygments_lexer": "ipython3",
   "version": "3.11.5"
  }
 },
 "nbformat": 4,
 "nbformat_minor": 2
}
