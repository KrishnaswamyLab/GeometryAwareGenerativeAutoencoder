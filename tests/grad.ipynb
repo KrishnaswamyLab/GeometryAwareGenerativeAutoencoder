{
 "cells": [
  {
   "cell_type": "code",
   "execution_count": 1,
   "metadata": {},
   "outputs": [
    {
     "name": "stdout",
     "output_type": "stream",
     "text": [
      "Output requires_grad: True\n",
      "Gradient for x_test: tensor([[-0.2578,  0.2976, -0.0466,  0.1073,  0.0302,  0.2783, -0.0696, -0.1360,\n",
      "         -0.1836,  0.0608],\n",
      "        [-0.2578,  0.2976, -0.0466,  0.1073,  0.0302,  0.2783, -0.0696, -0.1360,\n",
      "         -0.1836,  0.0608],\n",
      "        [-0.2578,  0.2976, -0.0466,  0.1073,  0.0302,  0.2783, -0.0696, -0.1360,\n",
      "         -0.1836,  0.0608],\n",
      "        [-0.2578,  0.2976, -0.0466,  0.1073,  0.0302,  0.2783, -0.0696, -0.1360,\n",
      "         -0.1836,  0.0608],\n",
      "        [-0.2578,  0.2976, -0.0466,  0.1073,  0.0302,  0.2783, -0.0696, -0.1360,\n",
      "         -0.1836,  0.0608]])\n"
     ]
    }
   ],
   "source": [
    "import torch\n",
    "import torch.nn as nn\n",
    "\n",
    "# Create a simple linear layer\n",
    "linear_layer = nn.Linear(10, 1)  # Example dimensions\n",
    "x_test = torch.randn(5, 10, requires_grad=True)  # Example input\n",
    "\n",
    "# Forward pass\n",
    "output_test = linear_layer(x_test)\n",
    "\n",
    "# Check requires_grad status\n",
    "print(\"Output requires_grad:\", output_test.requires_grad)  # Should be True\n",
    "\n",
    "# Try a dummy backward pass\n",
    "output_test.sum().backward()\n",
    "print(\"Gradient for x_test:\", x_test.grad)  # Should not be None\n"
   ]
  },
  {
   "cell_type": "code",
   "execution_count": 2,
   "metadata": {},
   "outputs": [],
   "source": [
    "class Preprocessor(torch.nn.Module):\n",
    "    def __init__(self, mean=0., std=1., dist_std=1.):\n",
    "        super().__init__()\n",
    "        self.register_buffer('mean', torch.tensor(mean, dtype=torch.float32), persistent=True)\n",
    "        self.register_buffer('std', torch.tensor(std, dtype=torch.float32), persistent=True)\n",
    "        self.register_buffer('dist_std', torch.tensor(dist_std, dtype=torch.float32), persistent=True)\n",
    "\n",
    "    def normalize(self, x):\n",
    "        return (x - self.mean) / self.std\n",
    "    \n",
    "    def normalize_dist(self, d):\n",
    "        return d / self.dist_std\n",
    "    \n",
    "    def unnormalize(self, x):\n",
    "        return x * self.std + self.mean\n",
    "    \n",
    "    def unnormalize_dist(self, d):\n",
    "        return d * self.dist_std\n",
    "    \n",
    "    def get_params(self):\n",
    "        return dict(\n",
    "            mean=self.mean,\n",
    "            std=self.std,\n",
    "            dist_std=self.dist_std\n",
    "        )"
   ]
  },
  {
   "cell_type": "code",
   "execution_count": 3,
   "metadata": {},
   "outputs": [],
   "source": [
    "proc = Preprocessor()"
   ]
  },
  {
   "cell_type": "code",
   "execution_count": 5,
   "metadata": {},
   "outputs": [
    {
     "name": "stdout",
     "output_type": "stream",
     "text": [
      "Output requires_grad: True\n"
     ]
    }
   ],
   "source": [
    "x_test = torch.randn(5, 10, requires_grad=True)  # Example input\n",
    "\n",
    "# Forward pass\n",
    "output_test = proc.normalize(x_test)\n",
    "\n",
    "# Check requires_grad status\n",
    "print(\"Output requires_grad:\", output_test.requires_grad)  # Should be True\n"
   ]
  },
  {
   "cell_type": "code",
   "execution_count": null,
   "metadata": {},
   "outputs": [],
   "source": []
  }
 ],
 "metadata": {
  "kernelspec": {
   "display_name": "geosink",
   "language": "python",
   "name": "python3"
  },
  "language_info": {
   "codemirror_mode": {
    "name": "ipython",
    "version": 3
   },
   "file_extension": ".py",
   "mimetype": "text/x-python",
   "name": "python",
   "nbconvert_exporter": "python",
   "pygments_lexer": "ipython3",
   "version": "3.11.5"
  },
  "orig_nbformat": 4
 },
 "nbformat": 4,
 "nbformat_minor": 2
}
